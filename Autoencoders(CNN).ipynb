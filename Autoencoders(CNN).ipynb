{
  "cells": [
    {
      "cell_type": "markdown",
      "metadata": {
        "id": "ARB_vOX6h4eY"
      },
      "source": [
        "# Building Convolutional Autoencoder"
      ]
    },
    {
      "cell_type": "markdown",
      "metadata": {
        "id": "RtUtu-J2h4eZ"
      },
      "source": [
        "Just like we learned how to implement autoencoder in the previous section, implementing Convolutional Autoencoder (CAE) is also the same but the only difference is here we use convolutional layers in the encoder and decoder instead of a feedforward network.  We will use the same MNIST dataset to reconstruct the images using CAE."
      ]
    },
    {
      "cell_type": "markdown",
      "metadata": {
        "id": "P-OWmUGoh4ea"
      },
      "source": [
        "## Import the libraries"
      ]
    },
    {
      "cell_type": "markdown",
      "metadata": {
        "id": "JpGlzW_qh4ea"
      },
      "source": [
        "First, let us import all the necessary libraries:\n"
      ]
    },
    {
      "cell_type": "code",
      "execution_count": null,
      "metadata": {
        "colab": {
          "base_uri": "https://localhost:8080/"
        },
        "id": "MEdQY4Skh4ea",
        "outputId": "63231697-9be8-48d7-85bb-fb891899d2fc"
      },
      "outputs": [
        {
          "output_type": "stream",
          "name": "stderr",
          "text": [
            "WARNING:tensorflow:From /usr/local/lib/python3.10/dist-packages/tensorflow/python/compat/v2_compat.py:107: disable_resource_variables (from tensorflow.python.ops.variable_scope) is deprecated and will be removed in a future version.\n",
            "Instructions for updating:\n",
            "non-resource variables are not supported in the long term\n"
          ]
        }
      ],
      "source": [
        "import warnings\n",
        "warnings.filterwarnings('ignore')\n",
        "\n",
        "from tensorflow.keras.models import Model\n",
        "from tensorflow.keras.layers import Input, Dense, Conv2D, MaxPooling2D, UpSampling2D\n",
        "from tensorflow.keras import backend as K\n",
        "\n",
        "import tensorflow.compat.v1 as tf; tf.disable_v2_behavior()\n",
        "tf.logging.set_verbosity(tf.logging.ERROR)\n",
        "\n",
        "#plotting\n",
        "import matplotlib.pyplot as plt\n",
        "%matplotlib inline\n",
        "\n",
        "#dataset\n",
        "from keras.datasets import mnist\n",
        "import numpy as np"
      ]
    },
    {
      "cell_type": "markdown",
      "metadata": {
        "id": "_FdUzNVch4eb"
      },
      "source": [
        "## Read and reshape the dataset,"
      ]
    },
    {
      "cell_type": "code",
      "execution_count": null,
      "metadata": {
        "id": "JofJMwwVh4ec",
        "colab": {
          "base_uri": "https://localhost:8080/"
        },
        "outputId": "56075b19-9906-4832-9618-b1c1829e5037"
      },
      "outputs": [
        {
          "output_type": "stream",
          "name": "stdout",
          "text": [
            "Downloading data from https://storage.googleapis.com/tensorflow/tf-keras-datasets/mnist.npz\n",
            "11490434/11490434 [==============================] - 0s 0us/step\n"
          ]
        }
      ],
      "source": [
        "(x_train, _), (x_test, _) = mnist.load_data()"
      ]
    },
    {
      "cell_type": "markdown",
      "metadata": {
        "id": "nDFXCJw2h4ec"
      },
      "source": [
        "Normalize the data by dividing with max pixel value which is 255:"
      ]
    },
    {
      "cell_type": "code",
      "execution_count": null,
      "metadata": {
        "id": "EddXPf77h4ec"
      },
      "outputs": [],
      "source": [
        "x_train = x_train.astype('float32') / 255.\n",
        "x_test = x_test.astype('float32') / 255."
      ]
    },
    {
      "cell_type": "markdown",
      "metadata": {
        "id": "6jNR3COKh4ed"
      },
      "source": [
        "Reshape the images:"
      ]
    },
    {
      "cell_type": "code",
      "execution_count": null,
      "metadata": {
        "id": "fa4gGGfdh4ed"
      },
      "outputs": [],
      "source": [
        "x_train = np.reshape(x_train, (len(x_train), 28, 28, 1))\n",
        "x_test = np.reshape(x_test, (len(x_test), 28, 28, 1))"
      ]
    },
    {
      "cell_type": "markdown",
      "metadata": {
        "id": "P_3B9wWYh4ed"
      },
      "source": [
        "Shape of our dataset:"
      ]
    },
    {
      "cell_type": "code",
      "execution_count": null,
      "metadata": {
        "colab": {
          "base_uri": "https://localhost:8080/"
        },
        "id": "-FI0Jd3Uh4ed",
        "outputId": "ff8a527c-e944-4e48-90f4-538773650af9",
        "scrolled": true
      },
      "outputs": [
        {
          "output_type": "stream",
          "name": "stdout",
          "text": [
            "(60000, 28, 28, 1) (10000, 28, 28, 1)\n"
          ]
        }
      ],
      "source": [
        "print(x_train.shape, x_test.shape)"
      ]
    },
    {
      "cell_type": "markdown",
      "metadata": {
        "id": "cilS0tSvh4ee"
      },
      "source": [
        "Let us define the shape of our input image:"
      ]
    },
    {
      "cell_type": "code",
      "execution_count": null,
      "metadata": {
        "id": "1razZZq2h4ee"
      },
      "outputs": [],
      "source": [
        "input_image = Input(shape=(28, 28, 1))"
      ]
    },
    {
      "cell_type": "markdown",
      "metadata": {
        "id": "O7u1ko9eh4ee"
      },
      "source": [
        "# Define the Encoder\n",
        "\n",
        "Now let us define our encoder block. Unlike vanilla autoencoders where we use feedforward networks, here we use convolutional network so our encoder block comprises of three convolutional layer followed by a max pooling layer with relu activations.\n",
        "\n",
        "Define the first convolutional layer followed by a pooling operation:\n",
        "\n"
      ]
    },
    {
      "cell_type": "code",
      "execution_count": null,
      "metadata": {
        "id": "Sbhrh8Pyh4ef"
      },
      "outputs": [],
      "source": [
        "x = Conv2D(16, (3, 3), activation='relu', padding='same')(input_image)\n",
        "x = MaxPooling2D((2, 2), padding='same')(x)"
      ]
    },
    {
      "cell_type": "markdown",
      "metadata": {
        "id": "Nv_R9dcsh4ef"
      },
      "source": [
        "Second convolutional layer with a max pooling layer:"
      ]
    },
    {
      "cell_type": "code",
      "execution_count": null,
      "metadata": {
        "id": "9MxRYUoIh4ef"
      },
      "outputs": [],
      "source": [
        "x = Conv2D(8, (3, 3), activation='relu', padding='same')(x)\n",
        "x = MaxPooling2D((2, 2), padding='same')(x)"
      ]
    },
    {
      "cell_type": "markdown",
      "metadata": {
        "id": "dtXL-6gXh4ef"
      },
      "source": [
        "Final convolutional layer with max pooling operation:"
      ]
    },
    {
      "cell_type": "code",
      "execution_count": null,
      "metadata": {
        "id": "4H4a8Uzih4ef"
      },
      "outputs": [],
      "source": [
        "x = Conv2D(8, (3, 3), activation='relu', padding='same')(x)\n",
        "encoder = MaxPooling2D((2, 2), padding='same')(x)"
      ]
    },
    {
      "cell_type": "markdown",
      "metadata": {
        "id": "QIa-jH6yh4eg"
      },
      "source": [
        "## Define the decoder\n",
        "Now we define our decoder block, we perform the deconvolution operation with three layers i.e we upsample\n",
        "the encodings create by the encoder and reconstructs the original image.\n",
        "\n",
        "Define the first convolutional layer followed by upsampling:\n"
      ]
    },
    {
      "cell_type": "code",
      "execution_count": null,
      "metadata": {
        "id": "ldFQcQ8mh4eg"
      },
      "outputs": [],
      "source": [
        "x = Conv2D(8, (3, 3), activation='relu', padding='same')(encoder)\n",
        "x = UpSampling2D((2, 2))(x)"
      ]
    },
    {
      "cell_type": "markdown",
      "metadata": {
        "id": "ojn0_qGbh4eg"
      },
      "source": [
        "Second convolutional layer with upsampling:"
      ]
    },
    {
      "cell_type": "code",
      "execution_count": null,
      "metadata": {
        "id": "XjVUdC5Sh4eg"
      },
      "outputs": [],
      "source": [
        "x = Conv2D(8, (3, 3), activation='relu', padding='same')(x)\n",
        "x = UpSampling2D((2, 2))(x)"
      ]
    },
    {
      "cell_type": "markdown",
      "metadata": {
        "id": "yfsffbxjh4eh"
      },
      "source": [
        "Define the final layer:"
      ]
    },
    {
      "cell_type": "code",
      "execution_count": null,
      "metadata": {
        "id": "IygvCE7Ah4eh"
      },
      "outputs": [],
      "source": [
        "x = Conv2D(16, (3, 3), activation='relu')(x)\n",
        "x = UpSampling2D((2, 2))(x)\n",
        "decoder = Conv2D(1, (3, 3), activation='sigmoid', padding='same')(x)"
      ]
    },
    {
      "cell_type": "markdown",
      "metadata": {
        "id": "2vrHcc7Rh4eh"
      },
      "source": [
        "## Build the model\n",
        "\n",
        "Define the model which takes an input image and returns the images generated by the decoder which is reconstructed images:"
      ]
    },
    {
      "cell_type": "code",
      "execution_count": null,
      "metadata": {
        "id": "YvuJFhsEh4eh"
      },
      "outputs": [],
      "source": [
        "model = Model(input_image, decoder)"
      ]
    },
    {
      "cell_type": "markdown",
      "metadata": {
        "id": "7wl5FeCPh4eh"
      },
      "source": [
        "Compile the model with loss as binary cross entropy and adadelta as an optimizer:"
      ]
    },
    {
      "cell_type": "code",
      "execution_count": null,
      "metadata": {
        "id": "zgaAVcpuh4eh"
      },
      "outputs": [],
      "source": [
        "model.compile(optimizer='adam', loss='binary_crossentropy')"
      ]
    },
    {
      "cell_type": "markdown",
      "metadata": {
        "id": "fqAz07kDh4eh"
      },
      "source": [
        "Train the model:"
      ]
    },
    {
      "cell_type": "code",
      "execution_count": null,
      "metadata": {
        "colab": {
          "base_uri": "https://localhost:8080/"
        },
        "id": "J4uHh8Gqh4ei",
        "scrolled": false,
        "outputId": "e3e1e8b3-d259-4bc0-b2c6-e96258f7dcc7"
      },
      "outputs": [
        {
          "output_type": "stream",
          "name": "stdout",
          "text": [
            "Train on 60000 samples, validate on 10000 samples\n",
            "Epoch 1/30\n",
            "60000/60000 [==============================] - 107s 2ms/sample - loss: 0.2120 - val_loss: 0.1449\n",
            "Epoch 2/30\n",
            "60000/60000 [==============================] - 100s 2ms/sample - loss: 0.1356 - val_loss: 0.1270\n",
            "Epoch 3/30\n",
            "60000/60000 [==============================] - 96s 2ms/sample - loss: 0.1242 - val_loss: 0.1193\n",
            "Epoch 4/30\n",
            "60000/60000 [==============================] - 94s 2ms/sample - loss: 0.1182 - val_loss: 0.1158\n",
            "Epoch 5/30\n",
            "60000/60000 [==============================] - 96s 2ms/sample - loss: 0.1148 - val_loss: 0.1120\n",
            "Epoch 6/30\n",
            "60000/60000 [==============================] - 94s 2ms/sample - loss: 0.1120 - val_loss: 0.1103\n",
            "Epoch 7/30\n",
            "60000/60000 [==============================] - 95s 2ms/sample - loss: 0.1100 - val_loss: 0.1078\n",
            "Epoch 8/30\n",
            "60000/60000 [==============================] - 96s 2ms/sample - loss: 0.1083 - val_loss: 0.1066\n",
            "Epoch 9/30\n",
            "60000/60000 [==============================] - 96s 2ms/sample - loss: 0.1070 - val_loss: 0.1058\n",
            "Epoch 10/30\n",
            "60000/60000 [==============================] - 93s 2ms/sample - loss: 0.1058 - val_loss: 0.1043\n",
            "Epoch 11/30\n",
            "60000/60000 [==============================] - 96s 2ms/sample - loss: 0.1048 - val_loss: 0.1037\n",
            "Epoch 12/30\n",
            "60000/60000 [==============================] - 94s 2ms/sample - loss: 0.1039 - val_loss: 0.1023\n",
            "Epoch 13/30\n",
            "60000/60000 [==============================] - 96s 2ms/sample - loss: 0.1032 - val_loss: 0.1016\n",
            "Epoch 14/30\n",
            "60000/60000 [==============================] - 94s 2ms/sample - loss: 0.1024 - val_loss: 0.1012\n",
            "Epoch 15/30\n",
            "60000/60000 [==============================] - 96s 2ms/sample - loss: 0.1019 - val_loss: 0.1008\n",
            "Epoch 16/30\n",
            "60000/60000 [==============================] - 94s 2ms/sample - loss: 0.1012 - val_loss: 0.0999\n",
            "Epoch 17/30\n",
            "60000/60000 [==============================] - 96s 2ms/sample - loss: 0.1008 - val_loss: 0.0993\n",
            "Epoch 18/30\n",
            "60000/60000 [==============================] - 94s 2ms/sample - loss: 0.1003 - val_loss: 0.0994\n",
            "Epoch 19/30\n",
            "60000/60000 [==============================] - 92s 2ms/sample - loss: 0.0999 - val_loss: 0.0994\n",
            "Epoch 20/30\n",
            "60000/60000 [==============================] - 89s 1ms/sample - loss: 0.0995 - val_loss: 0.0987\n",
            "Epoch 21/30\n",
            "60000/60000 [==============================] - 94s 2ms/sample - loss: 0.0992 - val_loss: 0.0984\n",
            "Epoch 22/30\n",
            "60000/60000 [==============================] - 92s 2ms/sample - loss: 0.0989 - val_loss: 0.0975\n",
            "Epoch 23/30\n",
            "60000/60000 [==============================] - 93s 2ms/sample - loss: 0.0986 - val_loss: 0.0975\n",
            "Epoch 24/30\n",
            "60000/60000 [==============================] - 91s 2ms/sample - loss: 0.0983 - val_loss: 0.0973\n",
            "Epoch 25/30\n",
            "60000/60000 [==============================] - 93s 2ms/sample - loss: 0.0981 - val_loss: 0.0968\n",
            "Epoch 26/30\n",
            "60000/60000 [==============================] - 91s 2ms/sample - loss: 0.0979 - val_loss: 0.0968\n",
            "Epoch 27/30\n",
            "60000/60000 [==============================] - 92s 2ms/sample - loss: 0.0976 - val_loss: 0.0966\n",
            "Epoch 28/30\n",
            "60000/60000 [==============================] - 91s 2ms/sample - loss: 0.0975 - val_loss: 0.0964\n",
            "Epoch 29/30\n",
            "60000/60000 [==============================] - 92s 2ms/sample - loss: 0.0973 - val_loss: 0.0964\n",
            "Epoch 30/30\n",
            "60000/60000 [==============================] - 92s 2ms/sample - loss: 0.0971 - val_loss: 0.0959\n"
          ]
        },
        {
          "output_type": "execute_result",
          "data": {
            "text/plain": [
              "<keras.callbacks.History at 0x7f792099bf70>"
            ]
          },
          "metadata": {},
          "execution_count": 15
        }
      ],
      "source": [
        "model.fit(x_train, x_train, epochs=30,batch_size=128, shuffle=True, validation_data=(x_test, x_test))"
      ]
    },
    {
      "cell_type": "markdown",
      "metadata": {
        "id": "I7T6xbOKh4ei"
      },
      "source": [
        "## Reconstruct the images\n",
        "\n",
        "Reconstruct images using the trained model:"
      ]
    },
    {
      "cell_type": "code",
      "execution_count": null,
      "metadata": {
        "id": "_dT9mBCuh4ei"
      },
      "outputs": [],
      "source": [
        "reconstructed_images = model.predict(x_test)"
      ]
    },
    {
      "cell_type": "markdown",
      "metadata": {
        "id": "1Z2F96sFh4ei"
      },
      "source": [
        "Plot the actual images:"
      ]
    },
    {
      "cell_type": "code",
      "execution_count": null,
      "metadata": {
        "id": "SmHLipJph4ej",
        "colab": {
          "base_uri": "https://localhost:8080/",
          "height": 207
        },
        "outputId": "66e74333-730e-4cae-b139-7149a5b34117"
      },
      "outputs": [
        {
          "output_type": "display_data",
          "data": {
            "text/plain": [
              "<Figure size 2000x400 with 7 Axes>"
            ],
            "image/png": "[encoded data removed]"
          },
          "metadata": {}
        }
      ],
      "source": [
        "n = 7\n",
        "plt.figure(figsize=(20, 4))\n",
        "for i in range(n):\n",
        "\n",
        "    ax = plt.subplot(1, n, i+1)\n",
        "    plt.imshow(x_test[i].reshape(28, 28))\n",
        "    plt.gray()\n",
        "    ax.get_xaxis().set_visible(False)\n",
        "    ax.get_yaxis().set_visible(False)\n",
        "plt.show()"
      ]
    },
    {
      "cell_type": "markdown",
      "metadata": {
        "id": "Pj7IudI7h4ej"
      },
      "source": [
        "Plot the reconstructed images:"
      ]
    },
    {
      "cell_type": "code",
      "execution_count": null,
      "metadata": {
        "id": "Ifyc2j3Jh4ej",
        "colab": {
          "base_uri": "https://localhost:8080/",
          "height": 167
        },
        "outputId": "1b72e009-46ee-4bf6-a189-e6e4b5a42c9d"
      },
      "outputs": [
        {
          "output_type": "display_data",
          "data": {
            "text/plain": [
              "<Figure size 2000x400 with 7 Axes>"
            ],
            "image/png": "[encoded data removed]"
          },
          "metadata": {}
        }
      ],
      "source": [
        "n = 7\n",
        "plt.figure(figsize=(20, 4))\n",
        "for i in range(n):\n",
        "    ax = plt.subplot(2, n, i + n + 1)\n",
        "    plt.imshow(reconstructed_images[i].reshape(28, 28))\n",
        "    plt.gray()\n",
        "    ax.get_xaxis().set_visible(False)\n",
        "    ax.get_yaxis().set_visible(False)\n",
        "\n",
        "plt.show()\n"
      ]
    },
    {
      "cell_type": "markdown",
      "metadata": {
        "id": "GPoEXdEph4ej"
      },
      "source": [
        "Now that we learned how convolutional autoencoders works, in the next section we will learn about denoising autoencoders which is used to remove noise from the input."
      ]
    },
    {
      "cell_type": "code",
      "execution_count": null,
      "metadata": {
        "id": "taSgx-gUwmCf"
      },
      "outputs": [],
      "source": []
    }
  ],
  "metadata": {
    "colab": {
      "provenance": []
    },
    "gpuClass": "standard",
    "kernelspec": {
      "display_name": "Python 3",
      "name": "python3"
    },
    "language_info": {
      "name": "python"
    }
  },
  "nbformat": 4,
  "nbformat_minor": 0
}