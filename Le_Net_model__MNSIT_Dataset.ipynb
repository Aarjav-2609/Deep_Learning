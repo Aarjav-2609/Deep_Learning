{
  "cells": [
    {
      "cell_type": "markdown",
      "metadata": {
        "id": "OsARCI71p4pi"
      },
      "source": [
        "### Let's construct LeNet in Keras!\n",
        "\n",
        "#### First let's load and prep our MNIST data"
      ]
    },
    {
      "cell_type": "code",
      "execution_count": null,
      "metadata": {
        "id": "buHipuK6p4pl",
        "colab": {
          "base_uri": "https://localhost:8080/"
        },
        "outputId": "12b7891f-b067-42dd-e115-9425bbc54e86"
      },
      "outputs": [
        {
          "output_type": "stream",
          "name": "stdout",
          "text": [
            "Downloading data from https://storage.googleapis.com/tensorflow/tf-keras-datasets/mnist.npz\n",
            "11490434/11490434 [==============================] - 0s 0us/step\n"
          ]
        }
      ],
      "source": [
        "from keras.preprocessing.image import ImageDataGenerator\n",
        "from keras.models import Sequential\n",
        "from keras.layers import Dense, Dropout, Activation, Flatten\n",
        "\n",
        "# https://www.tensorflow.org/api_docs/python/tf/keras/layers/ZeroPadding2D\n",
        "# ZeroPadding2D This layer can add rows and columns of zeros at the top, bottom, left and right side of an image tensor\n",
        "\n",
        "from keras.layers import Conv2D, MaxPooling2D, ZeroPadding2D\n",
        "from tensorflow.keras.layers import BatchNormalization\n",
        "from keras.regularizers import l2\n",
        "from keras.datasets import mnist\n",
        "from keras.utils import np_utils\n",
        "import keras\n",
        "\n",
        "# loads the MNIST dataset\n",
        "(x_train, y_train), (x_test, y_test)  = mnist.load_data()\n",
        "\n",
        "# Lets store the number of rows and columns\n",
        "img_rows = x_train[0].shape[0]\n",
        "img_cols = x_train[1].shape[0]\n",
        "\n",
        "# Getting our date in the right 'shape' needed for Keras\n",
        "# We need to add a 4th dimenion to our data thereby changing our\n",
        "# Our original image shape of (60000,28,28) to (60000,28,28,1)\n",
        "x_train = x_train.reshape(x_train.shape[0], img_rows, img_cols, 1)\n",
        "x_test = x_test.reshape(x_test.shape[0], img_rows, img_cols, 1)\n",
        "\n",
        "# store the shape of a single image\n",
        "input_shape = (img_rows, img_cols, 1)\n",
        "\n",
        "# change our image type to float32 data type\n",
        "x_train = x_train.astype('float32')\n",
        "x_test = x_test.astype('float32')\n",
        "\n",
        "# Normalize our data by changing the range from (0 to 255) to (0 to 1)\n",
        "x_train /= 255\n",
        "x_test /= 255\n",
        "\n",
        "# Now we one hot encode outputs\n",
        "y_train = np_utils.to_categorical(y_train)\n",
        "y_test = np_utils.to_categorical(y_test)\n",
        "\n",
        "num_classes = y_test.shape[1]\n",
        "num_pixels = x_train.shape[1] * x_train.shape[2]"
      ]
    },
    {
      "cell_type": "markdown",
      "metadata": {
        "id": "K3RUc4XFp4pm"
      },
      "source": [
        "### Now let's create our layers to replicate LeNet"
      ]
    },
    {
      "cell_type": "code",
      "execution_count": null,
      "metadata": {
        "id": "wrv1oIqkp4pm",
        "outputId": "93dc45ce-4614-40af-9689-00d122de348a",
        "colab": {
          "base_uri": "https://localhost:8080/"
        }
      },
      "outputs": [
        {
          "output_type": "stream",
          "name": "stdout",
          "text": [
            "Model: \"sequential\"\n",
            "_________________________________________________________________\n",
            " Layer (type)                Output Shape              Param #   \n",
            "=================================================================\n",
            " conv2d (Conv2D)             (None, 28, 28, 20)        520       \n",
            "                                                                 \n",
            " activation (Activation)     (None, 28, 28, 20)        0         \n",
            "                                                                 \n",
            " max_pooling2d (MaxPooling2D  (None, 14, 14, 20)       0         \n",
            " )                                                               \n",
            "                                                                 \n",
            " conv2d_1 (Conv2D)           (None, 14, 14, 50)        25050     \n",
            "                                                                 \n",
            " activation_1 (Activation)   (None, 14, 14, 50)        0         \n",
            "                                                                 \n",
            " max_pooling2d_1 (MaxPooling  (None, 7, 7, 50)         0         \n",
            " 2D)                                                             \n",
            "                                                                 \n",
            " flatten (Flatten)           (None, 2450)              0         \n",
            "                                                                 \n",
            " dense (Dense)               (None, 500)               1225500   \n",
            "                                                                 \n",
            " activation_2 (Activation)   (None, 500)               0         \n",
            "                                                                 \n",
            " dense_1 (Dense)             (None, 10)                5010      \n",
            "                                                                 \n",
            " activation_3 (Activation)   (None, 10)                0         \n",
            "                                                                 \n",
            "=================================================================\n",
            "Total params: 1,256,080\n",
            "Trainable params: 1,256,080\n",
            "Non-trainable params: 0\n",
            "_________________________________________________________________\n",
            "None\n"
          ]
        }
      ],
      "source": [
        "# create model\n",
        "model = Sequential()\n",
        "\n",
        "# 2 sets of CRP (Convolution, RELU, Pooling)\n",
        "model.add(Conv2D(20, (5, 5),\n",
        "                 padding = \"same\",\n",
        "                 input_shape = input_shape))\n",
        "model.add(Activation(\"relu\"))\n",
        "model.add(MaxPooling2D(pool_size = (2, 2), strides = (2, 2)))\n",
        "\n",
        "model.add(Conv2D(50, (5, 5),\n",
        "                 padding = \"same\"))\n",
        "model.add(Activation(\"relu\"))\n",
        "model.add(MaxPooling2D(pool_size = (2, 2), strides = (2, 2)))\n",
        "\n",
        "# Fully connected layers (w/ RELU)\n",
        "model.add(Flatten())\n",
        "model.add(Dense(500))\n",
        "model.add(Activation(\"relu\"))\n",
        "\n",
        "# Softmax (for classification)\n",
        "model.add(Dense(num_classes))\n",
        "model.add(Activation(\"softmax\"))\n",
        "\n",
        "model.compile(loss = 'categorical_crossentropy',\n",
        "              optimizer = keras.optimizers.Adadelta(),\n",
        "              metrics = ['accuracy'])\n",
        "\n",
        "print(model.summary())"
      ]
    },
    {
      "cell_type": "markdown",
      "metadata": {
        "id": "kD7Qqm84p4pn"
      },
      "source": [
        "### Now let us train LeNet on our MNIST Dataset"
      ]
    },
    {
      "cell_type": "code",
      "execution_count": null,
      "metadata": {
        "scrolled": true,
        "id": "dvAVouevp4po",
        "outputId": "5e7d3619-9557-4e7c-a48b-79e63a5c022e",
        "colab": {
          "base_uri": "https://localhost:8080/"
        }
      },
      "outputs": [
        {
          "output_type": "stream",
          "name": "stdout",
          "text": [
            "Epoch 1/10\n",
            "469/469 [==============================] - 132s 280ms/step - loss: 2.2812 - accuracy: 0.1949 - val_loss: 2.2587 - val_accuracy: 0.2869\n",
            "Epoch 2/10\n",
            "469/469 [==============================] - 125s 267ms/step - loss: 2.2371 - accuracy: 0.3865 - val_loss: 2.2109 - val_accuracy: 0.4817\n",
            "Epoch 3/10\n",
            "469/469 [==============================] - 128s 272ms/step - loss: 2.1843 - accuracy: 0.5209 - val_loss: 2.1502 - val_accuracy: 0.5775\n",
            "Epoch 4/10\n",
            "469/469 [==============================] - 126s 269ms/step - loss: 2.1138 - accuracy: 0.5983 - val_loss: 2.0656 - val_accuracy: 0.6395\n",
            "Epoch 5/10\n",
            "469/469 [==============================] - 126s 268ms/step - loss: 2.0137 - accuracy: 0.6527 - val_loss: 1.9443 - val_accuracy: 0.6856\n",
            "Epoch 6/10\n",
            "469/469 [==============================] - 131s 278ms/step - loss: 1.8708 - accuracy: 0.6897 - val_loss: 1.7724 - val_accuracy: 0.7172\n",
            "Epoch 7/10\n",
            "469/469 [==============================] - 126s 269ms/step - loss: 1.6778 - accuracy: 0.7161 - val_loss: 1.5528 - val_accuracy: 0.7434\n",
            "Epoch 8/10\n",
            "469/469 [==============================] - 124s 265ms/step - loss: 1.4502 - accuracy: 0.7397 - val_loss: 1.3148 - val_accuracy: 0.7681\n",
            "Epoch 9/10\n",
            "469/469 [==============================] - 130s 277ms/step - loss: 1.2255 - accuracy: 0.7631 - val_loss: 1.1007 - val_accuracy: 0.7891\n",
            "Epoch 10/10\n",
            "469/469 [==============================] - 135s 287ms/step - loss: 1.0372 - accuracy: 0.7810 - val_loss: 0.9346 - val_accuracy: 0.8048\n",
            "313/313 [==============================] - 8s 24ms/step - loss: 0.9346 - accuracy: 0.8048\n",
            "Test loss: 0.9345508813858032\n",
            "Test accuracy: 0.8047999739646912\n"
          ]
        }
      ],
      "source": [
        "# Training Parameters\n",
        "batch_size = 128\n",
        "epochs = 10\n",
        "\n",
        "history = model.fit(x_train, y_train, batch_size=batch_size, epochs=epochs, validation_data=(x_test, y_test), shuffle=True)\n",
        "\n",
        "model.save(\"Trained Models/mnist_LeNet.h5\")\n",
        "\n",
        "# Evaluate the performance of our trained model\n",
        "scores = model.evaluate(x_test, y_test, verbose=1)\n",
        "print('Test loss:', scores[0])\n",
        "print('Test accuracy:', scores[1])"
      ]
    }
  ],
  "metadata": {
    "kernelspec": {
      "display_name": "Python 3",
      "language": "python",
      "name": "python3"
    },
    "language_info": {
      "codemirror_mode": {
        "name": "ipython",
        "version": 3
      },
      "file_extension": ".py",
      "mimetype": "text/x-python",
      "name": "python",
      "nbconvert_exporter": "python",
      "pygments_lexer": "ipython3",
      "version": "3.7.0"
    },
    "colab": {
      "provenance": []
    }
  },
  "nbformat": 4,
  "nbformat_minor": 0
}