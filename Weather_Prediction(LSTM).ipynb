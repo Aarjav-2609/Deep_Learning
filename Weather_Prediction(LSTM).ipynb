{
  "cells": [
    {
      "cell_type": "code",
      "execution_count": null,
      "metadata": {
        "id": "VC9SbsoJxxAR"
      },
      "outputs": [],
      "source": [
        "import pandas as pd\n",
        "import seaborn as sn\n",
        "from sklearn.preprocessing import LabelEncoder, OneHotEncoder,MinMaxScaler\n",
        "from keras.models import Sequential\n",
        "from keras.layers import Dense\n",
        "from keras.layers import LSTM,Activation,Dropout\n",
        "from sklearn.metrics import mean_squared_error"
      ]
    },
    {
      "cell_type": "code",
      "execution_count": null,
      "metadata": {
        "id": "kkJrgX3xxxAS"
      },
      "outputs": [],
      "source": [
        "from matplotlib import pyplot\n",
        "import numpy as np"
      ]
    },
    {
      "cell_type": "code",
      "execution_count": null,
      "metadata": {
        "id": "dfyKPfEaxxAS"
      },
      "outputs": [],
      "source": [
        "df=pd.read_csv(\"weatherHistory.csv\")"
      ]
    },
    {
      "cell_type": "code",
      "execution_count": null,
      "metadata": {
        "colab": {
          "base_uri": "https://localhost:8080/"
        },
        "id": "RWW_zmUtxxAT",
        "outputId": "90304b68-35a8-4a74-94df-7375eb308b95"
      },
      "outputs": [
        {
          "output_type": "stream",
          "name": "stdout",
          "text": [
            "<class 'pandas.core.frame.DataFrame'>\n",
            "RangeIndex: 49165 entries, 0 to 49164\n",
            "Data columns (total 12 columns):\n",
            " #   Column                    Non-Null Count  Dtype  \n",
            "---  ------                    --------------  -----  \n",
            " 0   Formatted Date            49165 non-null  object \n",
            " 1   Summary                   49165 non-null  object \n",
            " 2   Precip Type               49165 non-null  object \n",
            " 3   Temperature (C)           49165 non-null  float64\n",
            " 4   Apparent Temperature (C)  49165 non-null  float64\n",
            " 5   Humidity                  49165 non-null  float64\n",
            " 6   Wind Speed (km/h)         49165 non-null  float64\n",
            " 7   Wind Bearing (degrees)    49165 non-null  float64\n",
            " 8   Visibility (km)           49165 non-null  float64\n",
            " 9   Loud Cover                49164 non-null  float64\n",
            " 10  Pressure (millibars)      49164 non-null  float64\n",
            " 11  Daily Summary             49164 non-null  object \n",
            "dtypes: float64(8), object(4)\n",
            "memory usage: 4.5+ MB\n"
          ]
        }
      ],
      "source": [
        "df.info()"
      ]
    },
    {
      "cell_type": "code",
      "execution_count": null,
      "metadata": {
        "colab": {
          "base_uri": "https://localhost:8080/",
          "height": 441
        },
        "id": "TYrbs39TxxAT",
        "outputId": "e53b9736-9faf-4b19-c018-30ba06ff2e36"
      },
      "outputs": [
        {
          "output_type": "execute_result",
          "data": {
            "text/plain": [
              "                  Formatted Date        Summary Precip Type  Temperature (C)  \\\n",
              "0  2006-04-01 00:00:00.000 +0200  Partly Cloudy        rain         9.472222   \n",
              "1  2006-04-01 01:00:00.000 +0200  Partly Cloudy        rain         9.355556   \n",
              "2  2006-04-01 02:00:00.000 +0200  Mostly Cloudy        rain         9.377778   \n",
              "3  2006-04-01 03:00:00.000 +0200  Partly Cloudy        rain         8.288889   \n",
              "4  2006-04-01 04:00:00.000 +0200  Mostly Cloudy        rain         8.755556   \n",
              "\n",
              "   Apparent Temperature (C)  Humidity  Wind Speed (km/h)  \\\n",
              "0                  7.388889      0.89            14.1197   \n",
              "1                  7.227778      0.86            14.2646   \n",
              "2                  9.377778      0.89             3.9284   \n",
              "3                  5.944444      0.83            14.1036   \n",
              "4                  6.977778      0.83            11.0446   \n",
              "\n",
              "   Wind Bearing (degrees)  Visibility (km)  Loud Cover  Pressure (millibars)  \\\n",
              "0                   251.0          15.8263         0.0               1015.13   \n",
              "1                   259.0          15.8263         0.0               1015.63   \n",
              "2                   204.0          14.9569         0.0               1015.94   \n",
              "3                   269.0          15.8263         0.0               1016.41   \n",
              "4                   259.0          15.8263         0.0               1016.51   \n",
              "\n",
              "                       Daily Summary  \n",
              "0  Partly cloudy throughout the day.  \n",
              "1  Partly cloudy throughout the day.  \n",
              "2  Partly cloudy throughout the day.  \n",
              "3  Partly cloudy throughout the day.  \n",
              "4  Partly cloudy throughout the day.  "
            ],
            "text/html": [
              "\n",
              "  <div id=\"df-9dd144e6-966b-4d94-ba05-6a0cd3c6adb5\">\n",
              "    <div class=\"colab-df-container\">\n",
              "      <div>\n",
              "<style scoped>\n",
              "    .dataframe tbody tr th:only-of-type {\n",
              "        vertical-align: middle;\n",
              "    }\n",
              "\n",
              "    .dataframe tbody tr th {\n",
              "        vertical-align: top;\n",
              "    }\n",
              "\n",
              "    .dataframe thead th {\n",
              "        text-align: right;\n",
              "    }\n",
              "</style>\n",
              "<table border=\"1\" class=\"dataframe\">\n",
              "  <thead>\n",
              "    <tr style=\"text-align: right;\">\n",
              "      <th></th>\n",
              "      <th>Formatted Date</th>\n",
              "      <th>Summary</th>\n",
              "      <th>Precip Type</th>\n",
              "      <th>Temperature (C)</th>\n",
              "      <th>Apparent Temperature (C)</th>\n",
              "      <th>Humidity</th>\n",
              "      <th>Wind Speed (km/h)</th>\n",
              "      <th>Wind Bearing (degrees)</th>\n",
              "      <th>Visibility (km)</th>\n",
              "      <th>Loud Cover</th>\n",
              "      <th>Pressure (millibars)</th>\n",
              "      <th>Daily Summary</th>\n",
              "    </tr>\n",
              "  </thead>\n",
              "  <tbody>\n",
              "    <tr>\n",
              "      <th>0</th>\n",
              "      <td>2006-04-01 00:00:00.000 +0200</td>\n",
              "      <td>Partly Cloudy</td>\n",
              "      <td>rain</td>\n",
              "      <td>9.472222</td>\n",
              "      <td>7.388889</td>\n",
              "      <td>0.89</td>\n",
              "      <td>14.1197</td>\n",
              "      <td>251.0</td>\n",
              "      <td>15.8263</td>\n",
              "      <td>0.0</td>\n",
              "      <td>1015.13</td>\n",
              "      <td>Partly cloudy throughout the day.</td>\n",
              "    </tr>\n",
              "    <tr>\n",
              "      <th>1</th>\n",
              "      <td>2006-04-01 01:00:00.000 +0200</td>\n",
              "      <td>Partly Cloudy</td>\n",
              "      <td>rain</td>\n",
              "      <td>9.355556</td>\n",
              "      <td>7.227778</td>\n",
              "      <td>0.86</td>\n",
              "      <td>14.2646</td>\n",
              "      <td>259.0</td>\n",
              "      <td>15.8263</td>\n",
              "      <td>0.0</td>\n",
              "      <td>1015.63</td>\n",
              "      <td>Partly cloudy throughout the day.</td>\n",
              "    </tr>\n",
              "    <tr>\n",
              "      <th>2</th>\n",
              "      <td>2006-04-01 02:00:00.000 +0200</td>\n",
              "      <td>Mostly Cloudy</td>\n",
              "      <td>rain</td>\n",
              "      <td>9.377778</td>\n",
              "      <td>9.377778</td>\n",
              "      <td>0.89</td>\n",
              "      <td>3.9284</td>\n",
              "      <td>204.0</td>\n",
              "      <td>14.9569</td>\n",
              "      <td>0.0</td>\n",
              "      <td>1015.94</td>\n",
              "      <td>Partly cloudy throughout the day.</td>\n",
              "    </tr>\n",
              "    <tr>\n",
              "      <th>3</th>\n",
              "      <td>2006-04-01 03:00:00.000 +0200</td>\n",
              "      <td>Partly Cloudy</td>\n",
              "      <td>rain</td>\n",
              "      <td>8.288889</td>\n",
              "      <td>5.944444</td>\n",
              "      <td>0.83</td>\n",
              "      <td>14.1036</td>\n",
              "      <td>269.0</td>\n",
              "      <td>15.8263</td>\n",
              "      <td>0.0</td>\n",
              "      <td>1016.41</td>\n",
              "      <td>Partly cloudy throughout the day.</td>\n",
              "    </tr>\n",
              "    <tr>\n",
              "      <th>4</th>\n",
              "      <td>2006-04-01 04:00:00.000 +0200</td>\n",
              "      <td>Mostly Cloudy</td>\n",
              "      <td>rain</td>\n",
              "      <td>8.755556</td>\n",
              "      <td>6.977778</td>\n",
              "      <td>0.83</td>\n",
              "      <td>11.0446</td>\n",
              "      <td>259.0</td>\n",
              "      <td>15.8263</td>\n",
              "      <td>0.0</td>\n",
              "      <td>1016.51</td>\n",
              "      <td>Partly cloudy throughout the day.</td>\n",
              "    </tr>\n",
              "  </tbody>\n",
              "</table>\n",
              "</div>\n",
              "      <button class=\"colab-df-convert\" onclick=\"convertToInteractive('df-9dd144e6-966b-4d94-ba05-6a0cd3c6adb5')\"\n",
              "              title=\"Convert this dataframe to an interactive table.\"\n",
              "              style=\"display:none;\">\n",
              "        \n",
              "  <svg xmlns=\"http://www.w3.org/2000/svg\" height=\"24px\"viewBox=\"0 0 24 24\"\n",
              "       width=\"24px\">\n",
              "    <path d=\"M0 0h24v24H0V0z\" fill=\"none\"/>\n",
              "    <path d=\"M18.56 5.44l.94 2.06.94-2.06 2.06-.94-2.06-.94-.94-2.06-.94 2.06-2.06.94zm-11 1L8.5 8.5l.94-2.06 2.06-.94-2.06-.94L8.5 2.5l-.94 2.06-2.06.94zm10 10l.94 2.06.94-2.06 2.06-.94-2.06-.94-.94-2.06-.94 2.06-2.06.94z\"/><path d=\"M17.41 7.96l-1.37-1.37c-.4-.4-.92-.59-1.43-.59-.52 0-1.04.2-1.43.59L10.3 9.45l-7.72 7.72c-.78.78-.78 2.05 0 2.83L4 21.41c.39.39.9.59 1.41.59.51 0 1.02-.2 1.41-.59l7.78-7.78 2.81-2.81c.8-.78.8-2.07 0-2.86zM5.41 20L4 18.59l7.72-7.72 1.47 1.35L5.41 20z\"/>\n",
              "  </svg>\n",
              "      </button>\n",
              "      \n",
              "  <style>\n",
              "    .colab-df-container {\n",
              "      display:flex;\n",
              "      flex-wrap:wrap;\n",
              "      gap: 12px;\n",
              "    }\n",
              "\n",
              "    .colab-df-convert {\n",
              "      background-color: #E8F0FE;\n",
              "      border: none;\n",
              "      border-radius: 50%;\n",
              "      cursor: pointer;\n",
              "      display: none;\n",
              "      fill: #1967D2;\n",
              "      height: 32px;\n",
              "      padding: 0 0 0 0;\n",
              "      width: 32px;\n",
              "    }\n",
              "\n",
              "    .colab-df-convert:hover {\n",
              "      background-color: #E2EBFA;\n",
              "      box-shadow: 0px 1px 2px rgba(60, 64, 67, 0.3), 0px 1px 3px 1px rgba(60, 64, 67, 0.15);\n",
              "      fill: #174EA6;\n",
              "    }\n",
              "\n",
              "    [theme=dark] .colab-df-convert {\n",
              "      background-color: #3B4455;\n",
              "      fill: #D2E3FC;\n",
              "    }\n",
              "\n",
              "    [theme=dark] .colab-df-convert:hover {\n",
              "      background-color: #434B5C;\n",
              "      box-shadow: 0px 1px 3px 1px rgba(0, 0, 0, 0.15);\n",
              "      filter: drop-shadow(0px 1px 2px rgba(0, 0, 0, 0.3));\n",
              "      fill: #FFFFFF;\n",
              "    }\n",
              "  </style>\n",
              "\n",
              "      <script>\n",
              "        const buttonEl =\n",
              "          document.querySelector('#df-9dd144e6-966b-4d94-ba05-6a0cd3c6adb5 button.colab-df-convert');\n",
              "        buttonEl.style.display =\n",
              "          google.colab.kernel.accessAllowed ? 'block' : 'none';\n",
              "\n",
              "        async function convertToInteractive(key) {\n",
              "          const element = document.querySelector('#df-9dd144e6-966b-4d94-ba05-6a0cd3c6adb5');\n",
              "          const dataTable =\n",
              "            await google.colab.kernel.invokeFunction('convertToInteractive',\n",
              "                                                     [key], {});\n",
              "          if (!dataTable) return;\n",
              "\n",
              "          const docLinkHtml = 'Like what you see? Visit the ' +\n",
              "            '<a target=\"_blank\" href=https://colab.research.google.com/notebooks/data_table.ipynb>data table notebook</a>'\n",
              "            + ' to learn more about interactive tables.';\n",
              "          element.innerHTML = '';\n",
              "          dataTable['output_type'] = 'display_data';\n",
              "          await google.colab.output.renderOutput(dataTable, element);\n",
              "          const docLink = document.createElement('div');\n",
              "          docLink.innerHTML = docLinkHtml;\n",
              "          element.appendChild(docLink);\n",
              "        }\n",
              "      </script>\n",
              "    </div>\n",
              "  </div>\n",
              "  "
            ]
          },
          "metadata": {},
          "execution_count": 6
        }
      ],
      "source": [
        "df.head()"
      ]
    },
    {
      "cell_type": "code",
      "execution_count": null,
      "metadata": {
        "id": "RleU4LZ9xxAU"
      },
      "outputs": [],
      "source": [
        "df=df.drop(['Daily Summary'],axis=1)"
      ]
    },
    {
      "cell_type": "code",
      "execution_count": null,
      "metadata": {
        "colab": {
          "base_uri": "https://localhost:8080/"
        },
        "id": "Dzc8SG_ixxAU",
        "outputId": "5658b650-26e6-4c7c-e818-68b784f29df9"
      },
      "outputs": [
        {
          "output_type": "execute_result",
          "data": {
            "text/plain": [
              "Formatted Date              0\n",
              "Summary                     0\n",
              "Precip Type                 0\n",
              "Temperature (C)             0\n",
              "Apparent Temperature (C)    0\n",
              "Humidity                    0\n",
              "Wind Speed (km/h)           0\n",
              "Wind Bearing (degrees)      0\n",
              "Visibility (km)             0\n",
              "Loud Cover                  1\n",
              "Pressure (millibars)        1\n",
              "dtype: int64"
            ]
          },
          "metadata": {},
          "execution_count": 8
        }
      ],
      "source": [
        "df.isnull().sum()"
      ]
    },
    {
      "cell_type": "code",
      "execution_count": null,
      "metadata": {
        "id": "eWR-5Bo8xxAU"
      },
      "outputs": [],
      "source": [
        "df.rename(columns={'Precip Type':'PrecipType'},inplace=True)"
      ]
    },
    {
      "cell_type": "code",
      "execution_count": null,
      "metadata": {
        "colab": {
          "base_uri": "https://localhost:8080/"
        },
        "id": "kAGaoByjxxAV",
        "outputId": "54547120-0311-4649-a974-1e0e82306203"
      },
      "outputs": [
        {
          "output_type": "stream",
          "name": "stderr",
          "text": [
            "<ipython-input-10-fe5e2fa2d8c1>:1: SettingWithCopyWarning: \n",
            "A value is trying to be set on a copy of a slice from a DataFrame\n",
            "\n",
            "See the caveats in the documentation: https://pandas.pydata.org/pandas-docs/stable/user_guide/indexing.html#returning-a-view-versus-a-copy\n",
            "  df.PrecipType[df.PrecipType == 'rain'] = 0\n",
            "<ipython-input-10-fe5e2fa2d8c1>:2: SettingWithCopyWarning: \n",
            "A value is trying to be set on a copy of a slice from a DataFrame\n",
            "\n",
            "See the caveats in the documentation: https://pandas.pydata.org/pandas-docs/stable/user_guide/indexing.html#returning-a-view-versus-a-copy\n",
            "  df.PrecipType[df.PrecipType == 'snow'] = 1\n"
          ]
        }
      ],
      "source": [
        "df.PrecipType[df.PrecipType == 'rain'] = 0\n",
        "df.PrecipType[df.PrecipType == 'snow'] = 1"
      ]
    },
    {
      "cell_type": "code",
      "execution_count": null,
      "metadata": {
        "colab": {
          "base_uri": "https://localhost:8080/"
        },
        "id": "KJGfDJQtxxAV",
        "outputId": "79d9f11f-baba-4025-bef1-ce514d80e9ef"
      },
      "outputs": [
        {
          "output_type": "execute_result",
          "data": {
            "text/plain": [
              "Formatted Date              0\n",
              "Summary                     0\n",
              "PrecipType                  0\n",
              "Temperature (C)             0\n",
              "Apparent Temperature (C)    0\n",
              "Humidity                    0\n",
              "Wind Speed (km/h)           0\n",
              "Wind Bearing (degrees)      0\n",
              "Visibility (km)             0\n",
              "Loud Cover                  1\n",
              "Pressure (millibars)        1\n",
              "dtype: int64"
            ]
          },
          "metadata": {},
          "execution_count": 11
        }
      ],
      "source": [
        "df.isnull().sum()"
      ]
    },
    {
      "cell_type": "code",
      "execution_count": null,
      "metadata": {
        "colab": {
          "base_uri": "https://localhost:8080/",
          "height": 354
        },
        "id": "ZKzISHgQxxAV",
        "outputId": "516d250f-2ade-4aeb-cd63-668239d49004"
      },
      "outputs": [
        {
          "output_type": "execute_result",
          "data": {
            "text/plain": [
              "                  Formatted Date        Summary PrecipType  Temperature (C)  \\\n",
              "0  2006-04-01 00:00:00.000 +0200  Partly Cloudy          0         9.472222   \n",
              "1  2006-04-01 01:00:00.000 +0200  Partly Cloudy          0         9.355556   \n",
              "2  2006-04-01 02:00:00.000 +0200  Mostly Cloudy          0         9.377778   \n",
              "3  2006-04-01 03:00:00.000 +0200  Partly Cloudy          0         8.288889   \n",
              "4  2006-04-01 04:00:00.000 +0200  Mostly Cloudy          0         8.755556   \n",
              "\n",
              "   Apparent Temperature (C)  Humidity  Wind Speed (km/h)  \\\n",
              "0                  7.388889      0.89            14.1197   \n",
              "1                  7.227778      0.86            14.2646   \n",
              "2                  9.377778      0.89             3.9284   \n",
              "3                  5.944444      0.83            14.1036   \n",
              "4                  6.977778      0.83            11.0446   \n",
              "\n",
              "   Wind Bearing (degrees)  Visibility (km)  Loud Cover  Pressure (millibars)  \n",
              "0                   251.0          15.8263         0.0               1015.13  \n",
              "1                   259.0          15.8263         0.0               1015.63  \n",
              "2                   204.0          14.9569         0.0               1015.94  \n",
              "3                   269.0          15.8263         0.0               1016.41  \n",
              "4                   259.0          15.8263         0.0               1016.51  "
            ],
            "text/html": [
              "\n",
              "  <div id=\"df-c456dc85-824c-4bd5-a2b9-9ddc7fa67e3c\">\n",
              "    <div class=\"colab-df-container\">\n",
              "      <div>\n",
              "<style scoped>\n",
              "    .dataframe tbody tr th:only-of-type {\n",
              "        vertical-align: middle;\n",
              "    }\n",
              "\n",
              "    .dataframe tbody tr th {\n",
              "        vertical-align: top;\n",
              "    }\n",
              "\n",
              "    .dataframe thead th {\n",
              "        text-align: right;\n",
              "    }\n",
              "</style>\n",
              "<table border=\"1\" class=\"dataframe\">\n",
              "  <thead>\n",
              "    <tr style=\"text-align: right;\">\n",
              "      <th></th>\n",
              "      <th>Formatted Date</th>\n",
              "      <th>Summary</th>\n",
              "      <th>PrecipType</th>\n",
              "      <th>Temperature (C)</th>\n",
              "      <th>Apparent Temperature (C)</th>\n",
              "      <th>Humidity</th>\n",
              "      <th>Wind Speed (km/h)</th>\n",
              "      <th>Wind Bearing (degrees)</th>\n",
              "      <th>Visibility (km)</th>\n",
              "      <th>Loud Cover</th>\n",
              "      <th>Pressure (millibars)</th>\n",
              "    </tr>\n",
              "  </thead>\n",
              "  <tbody>\n",
              "    <tr>\n",
              "      <th>0</th>\n",
              "      <td>2006-04-01 00:00:00.000 +0200</td>\n",
              "      <td>Partly Cloudy</td>\n",
              "      <td>0</td>\n",
              "      <td>9.472222</td>\n",
              "      <td>7.388889</td>\n",
              "      <td>0.89</td>\n",
              "      <td>14.1197</td>\n",
              "      <td>251.0</td>\n",
              "      <td>15.8263</td>\n",
              "      <td>0.0</td>\n",
              "      <td>1015.13</td>\n",
              "    </tr>\n",
              "    <tr>\n",
              "      <th>1</th>\n",
              "      <td>2006-04-01 01:00:00.000 +0200</td>\n",
              "      <td>Partly Cloudy</td>\n",
              "      <td>0</td>\n",
              "      <td>9.355556</td>\n",
              "      <td>7.227778</td>\n",
              "      <td>0.86</td>\n",
              "      <td>14.2646</td>\n",
              "      <td>259.0</td>\n",
              "      <td>15.8263</td>\n",
              "      <td>0.0</td>\n",
              "      <td>1015.63</td>\n",
              "    </tr>\n",
              "    <tr>\n",
              "      <th>2</th>\n",
              "      <td>2006-04-01 02:00:00.000 +0200</td>\n",
              "      <td>Mostly Cloudy</td>\n",
              "      <td>0</td>\n",
              "      <td>9.377778</td>\n",
              "      <td>9.377778</td>\n",
              "      <td>0.89</td>\n",
              "      <td>3.9284</td>\n",
              "      <td>204.0</td>\n",
              "      <td>14.9569</td>\n",
              "      <td>0.0</td>\n",
              "      <td>1015.94</td>\n",
              "    </tr>\n",
              "    <tr>\n",
              "      <th>3</th>\n",
              "      <td>2006-04-01 03:00:00.000 +0200</td>\n",
              "      <td>Partly Cloudy</td>\n",
              "      <td>0</td>\n",
              "      <td>8.288889</td>\n",
              "      <td>5.944444</td>\n",
              "      <td>0.83</td>\n",
              "      <td>14.1036</td>\n",
              "      <td>269.0</td>\n",
              "      <td>15.8263</td>\n",
              "      <td>0.0</td>\n",
              "      <td>1016.41</td>\n",
              "    </tr>\n",
              "    <tr>\n",
              "      <th>4</th>\n",
              "      <td>2006-04-01 04:00:00.000 +0200</td>\n",
              "      <td>Mostly Cloudy</td>\n",
              "      <td>0</td>\n",
              "      <td>8.755556</td>\n",
              "      <td>6.977778</td>\n",
              "      <td>0.83</td>\n",
              "      <td>11.0446</td>\n",
              "      <td>259.0</td>\n",
              "      <td>15.8263</td>\n",
              "      <td>0.0</td>\n",
              "      <td>1016.51</td>\n",
              "    </tr>\n",
              "  </tbody>\n",
              "</table>\n",
              "</div>\n",
              "      <button class=\"colab-df-convert\" onclick=\"convertToInteractive('df-c456dc85-824c-4bd5-a2b9-9ddc7fa67e3c')\"\n",
              "              title=\"Convert this dataframe to an interactive table.\"\n",
              "              style=\"display:none;\">\n",
              "        \n",
              "  <svg xmlns=\"http://www.w3.org/2000/svg\" height=\"24px\"viewBox=\"0 0 24 24\"\n",
              "       width=\"24px\">\n",
              "    <path d=\"M0 0h24v24H0V0z\" fill=\"none\"/>\n",
              "    <path d=\"M18.56 5.44l.94 2.06.94-2.06 2.06-.94-2.06-.94-.94-2.06-.94 2.06-2.06.94zm-11 1L8.5 8.5l.94-2.06 2.06-.94-2.06-.94L8.5 2.5l-.94 2.06-2.06.94zm10 10l.94 2.06.94-2.06 2.06-.94-2.06-.94-.94-2.06-.94 2.06-2.06.94z\"/><path d=\"M17.41 7.96l-1.37-1.37c-.4-.4-.92-.59-1.43-.59-.52 0-1.04.2-1.43.59L10.3 9.45l-7.72 7.72c-.78.78-.78 2.05 0 2.83L4 21.41c.39.39.9.59 1.41.59.51 0 1.02-.2 1.41-.59l7.78-7.78 2.81-2.81c.8-.78.8-2.07 0-2.86zM5.41 20L4 18.59l7.72-7.72 1.47 1.35L5.41 20z\"/>\n",
              "  </svg>\n",
              "      </button>\n",
              "      \n",
              "  <style>\n",
              "    .colab-df-container {\n",
              "      display:flex;\n",
              "      flex-wrap:wrap;\n",
              "      gap: 12px;\n",
              "    }\n",
              "\n",
              "    .colab-df-convert {\n",
              "      background-color: #E8F0FE;\n",
              "      border: none;\n",
              "      border-radius: 50%;\n",
              "      cursor: pointer;\n",
              "      display: none;\n",
              "      fill: #1967D2;\n",
              "      height: 32px;\n",
              "      padding: 0 0 0 0;\n",
              "      width: 32px;\n",
              "    }\n",
              "\n",
              "    .colab-df-convert:hover {\n",
              "      background-color: #E2EBFA;\n",
              "      box-shadow: 0px 1px 2px rgba(60, 64, 67, 0.3), 0px 1px 3px 1px rgba(60, 64, 67, 0.15);\n",
              "      fill: #174EA6;\n",
              "    }\n",
              "\n",
              "    [theme=dark] .colab-df-convert {\n",
              "      background-color: #3B4455;\n",
              "      fill: #D2E3FC;\n",
              "    }\n",
              "\n",
              "    [theme=dark] .colab-df-convert:hover {\n",
              "      background-color: #434B5C;\n",
              "      box-shadow: 0px 1px 3px 1px rgba(0, 0, 0, 0.15);\n",
              "      filter: drop-shadow(0px 1px 2px rgba(0, 0, 0, 0.3));\n",
              "      fill: #FFFFFF;\n",
              "    }\n",
              "  </style>\n",
              "\n",
              "      <script>\n",
              "        const buttonEl =\n",
              "          document.querySelector('#df-c456dc85-824c-4bd5-a2b9-9ddc7fa67e3c button.colab-df-convert');\n",
              "        buttonEl.style.display =\n",
              "          google.colab.kernel.accessAllowed ? 'block' : 'none';\n",
              "\n",
              "        async function convertToInteractive(key) {\n",
              "          const element = document.querySelector('#df-c456dc85-824c-4bd5-a2b9-9ddc7fa67e3c');\n",
              "          const dataTable =\n",
              "            await google.colab.kernel.invokeFunction('convertToInteractive',\n",
              "                                                     [key], {});\n",
              "          if (!dataTable) return;\n",
              "\n",
              "          const docLinkHtml = 'Like what you see? Visit the ' +\n",
              "            '<a target=\"_blank\" href=https://colab.research.google.com/notebooks/data_table.ipynb>data table notebook</a>'\n",
              "            + ' to learn more about interactive tables.';\n",
              "          element.innerHTML = '';\n",
              "          dataTable['output_type'] = 'display_data';\n",
              "          await google.colab.output.renderOutput(dataTable, element);\n",
              "          const docLink = document.createElement('div');\n",
              "          docLink.innerHTML = docLinkHtml;\n",
              "          element.appendChild(docLink);\n",
              "        }\n",
              "      </script>\n",
              "    </div>\n",
              "  </div>\n",
              "  "
            ]
          },
          "metadata": {},
          "execution_count": 12
        }
      ],
      "source": [
        "df.head()"
      ]
    },
    {
      "cell_type": "code",
      "execution_count": null,
      "metadata": {
        "id": "BPfC63o-xxAW"
      },
      "outputs": [],
      "source": [
        "df.fillna(0,inplace=True)"
      ]
    },
    {
      "cell_type": "code",
      "execution_count": null,
      "metadata": {
        "colab": {
          "base_uri": "https://localhost:8080/"
        },
        "id": "JAFwHoYBxxAW",
        "outputId": "729eb31f-696f-4dd2-ac13-935e302f42af"
      },
      "outputs": [
        {
          "output_type": "execute_result",
          "data": {
            "text/plain": [
              "Formatted Date              0\n",
              "Summary                     0\n",
              "PrecipType                  0\n",
              "Temperature (C)             0\n",
              "Apparent Temperature (C)    0\n",
              "Humidity                    0\n",
              "Wind Speed (km/h)           0\n",
              "Wind Bearing (degrees)      0\n",
              "Visibility (km)             0\n",
              "Loud Cover                  0\n",
              "Pressure (millibars)        0\n",
              "dtype: int64"
            ]
          },
          "metadata": {},
          "execution_count": 14
        }
      ],
      "source": [
        "df.isnull().sum()"
      ]
    },
    {
      "cell_type": "code",
      "execution_count": null,
      "metadata": {
        "id": "nanxiapuxxAW"
      },
      "outputs": [],
      "source": [
        "df.rename(columns={\"Temperature (C)\":\"Temperature\",\"Wind Speed (km/h)\":\"WindSpeed\",\"Wind Bearing (degrees)\":\"WindBearings\",\"Visibility (km)\":\"Visibilty\",\"Loud Cover\":\"LoudCover\",\"Pressure (millibars)\":\"Pressure\",\"Apparent Temperature (C)\":\"ApparentTemperature\"},inplace=True)"
      ]
    },
    {
      "cell_type": "code",
      "execution_count": null,
      "metadata": {
        "colab": {
          "base_uri": "https://localhost:8080/",
          "height": 206
        },
        "id": "Apn8Qzu0xxAW",
        "outputId": "68c62535-2c57-492a-823c-d7c1fc180900"
      },
      "outputs": [
        {
          "output_type": "execute_result",
          "data": {
            "text/plain": [
              "                  Formatted Date        Summary PrecipType  Temperature  \\\n",
              "0  2006-04-01 00:00:00.000 +0200  Partly Cloudy          0     9.472222   \n",
              "1  2006-04-01 01:00:00.000 +0200  Partly Cloudy          0     9.355556   \n",
              "2  2006-04-01 02:00:00.000 +0200  Mostly Cloudy          0     9.377778   \n",
              "3  2006-04-01 03:00:00.000 +0200  Partly Cloudy          0     8.288889   \n",
              "4  2006-04-01 04:00:00.000 +0200  Mostly Cloudy          0     8.755556   \n",
              "\n",
              "   ApparentTemperature  Humidity  WindSpeed  WindBearings  Visibilty  \\\n",
              "0             7.388889      0.89    14.1197         251.0    15.8263   \n",
              "1             7.227778      0.86    14.2646         259.0    15.8263   \n",
              "2             9.377778      0.89     3.9284         204.0    14.9569   \n",
              "3             5.944444      0.83    14.1036         269.0    15.8263   \n",
              "4             6.977778      0.83    11.0446         259.0    15.8263   \n",
              "\n",
              "   LoudCover  Pressure  \n",
              "0        0.0   1015.13  \n",
              "1        0.0   1015.63  \n",
              "2        0.0   1015.94  \n",
              "3        0.0   1016.41  \n",
              "4        0.0   1016.51  "
            ],
            "text/html": [
              "\n",
              "  <div id=\"df-70508b70-7a6a-4cd0-9d15-1d76ec340317\">\n",
              "    <div class=\"colab-df-container\">\n",
              "      <div>\n",
              "<style scoped>\n",
              "    .dataframe tbody tr th:only-of-type {\n",
              "        vertical-align: middle;\n",
              "    }\n",
              "\n",
              "    .dataframe tbody tr th {\n",
              "        vertical-align: top;\n",
              "    }\n",
              "\n",
              "    .dataframe thead th {\n",
              "        text-align: right;\n",
              "    }\n",
              "</style>\n",
              "<table border=\"1\" class=\"dataframe\">\n",
              "  <thead>\n",
              "    <tr style=\"text-align: right;\">\n",
              "      <th></th>\n",
              "      <th>Formatted Date</th>\n",
              "      <th>Summary</th>\n",
              "      <th>PrecipType</th>\n",
              "      <th>Temperature</th>\n",
              "      <th>ApparentTemperature</th>\n",
              "      <th>Humidity</th>\n",
              "      <th>WindSpeed</th>\n",
              "      <th>WindBearings</th>\n",
              "      <th>Visibilty</th>\n",
              "      <th>LoudCover</th>\n",
              "      <th>Pressure</th>\n",
              "    </tr>\n",
              "  </thead>\n",
              "  <tbody>\n",
              "    <tr>\n",
              "      <th>0</th>\n",
              "      <td>2006-04-01 00:00:00.000 +0200</td>\n",
              "      <td>Partly Cloudy</td>\n",
              "      <td>0</td>\n",
              "      <td>9.472222</td>\n",
              "      <td>7.388889</td>\n",
              "      <td>0.89</td>\n",
              "      <td>14.1197</td>\n",
              "      <td>251.0</td>\n",
              "      <td>15.8263</td>\n",
              "      <td>0.0</td>\n",
              "      <td>1015.13</td>\n",
              "    </tr>\n",
              "    <tr>\n",
              "      <th>1</th>\n",
              "      <td>2006-04-01 01:00:00.000 +0200</td>\n",
              "      <td>Partly Cloudy</td>\n",
              "      <td>0</td>\n",
              "      <td>9.355556</td>\n",
              "      <td>7.227778</td>\n",
              "      <td>0.86</td>\n",
              "      <td>14.2646</td>\n",
              "      <td>259.0</td>\n",
              "      <td>15.8263</td>\n",
              "      <td>0.0</td>\n",
              "      <td>1015.63</td>\n",
              "    </tr>\n",
              "    <tr>\n",
              "      <th>2</th>\n",
              "      <td>2006-04-01 02:00:00.000 +0200</td>\n",
              "      <td>Mostly Cloudy</td>\n",
              "      <td>0</td>\n",
              "      <td>9.377778</td>\n",
              "      <td>9.377778</td>\n",
              "      <td>0.89</td>\n",
              "      <td>3.9284</td>\n",
              "      <td>204.0</td>\n",
              "      <td>14.9569</td>\n",
              "      <td>0.0</td>\n",
              "      <td>1015.94</td>\n",
              "    </tr>\n",
              "    <tr>\n",
              "      <th>3</th>\n",
              "      <td>2006-04-01 03:00:00.000 +0200</td>\n",
              "      <td>Partly Cloudy</td>\n",
              "      <td>0</td>\n",
              "      <td>8.288889</td>\n",
              "      <td>5.944444</td>\n",
              "      <td>0.83</td>\n",
              "      <td>14.1036</td>\n",
              "      <td>269.0</td>\n",
              "      <td>15.8263</td>\n",
              "      <td>0.0</td>\n",
              "      <td>1016.41</td>\n",
              "    </tr>\n",
              "    <tr>\n",
              "      <th>4</th>\n",
              "      <td>2006-04-01 04:00:00.000 +0200</td>\n",
              "      <td>Mostly Cloudy</td>\n",
              "      <td>0</td>\n",
              "      <td>8.755556</td>\n",
              "      <td>6.977778</td>\n",
              "      <td>0.83</td>\n",
              "      <td>11.0446</td>\n",
              "      <td>259.0</td>\n",
              "      <td>15.8263</td>\n",
              "      <td>0.0</td>\n",
              "      <td>1016.51</td>\n",
              "    </tr>\n",
              "  </tbody>\n",
              "</table>\n",
              "</div>\n",
              "      <button class=\"colab-df-convert\" onclick=\"convertToInteractive('df-70508b70-7a6a-4cd0-9d15-1d76ec340317')\"\n",
              "              title=\"Convert this dataframe to an interactive table.\"\n",
              "              style=\"display:none;\">\n",
              "        \n",
              "  <svg xmlns=\"http://www.w3.org/2000/svg\" height=\"24px\"viewBox=\"0 0 24 24\"\n",
              "       width=\"24px\">\n",
              "    <path d=\"M0 0h24v24H0V0z\" fill=\"none\"/>\n",
              "    <path d=\"M18.56 5.44l.94 2.06.94-2.06 2.06-.94-2.06-.94-.94-2.06-.94 2.06-2.06.94zm-11 1L8.5 8.5l.94-2.06 2.06-.94-2.06-.94L8.5 2.5l-.94 2.06-2.06.94zm10 10l.94 2.06.94-2.06 2.06-.94-2.06-.94-.94-2.06-.94 2.06-2.06.94z\"/><path d=\"M17.41 7.96l-1.37-1.37c-.4-.4-.92-.59-1.43-.59-.52 0-1.04.2-1.43.59L10.3 9.45l-7.72 7.72c-.78.78-.78 2.05 0 2.83L4 21.41c.39.39.9.59 1.41.59.51 0 1.02-.2 1.41-.59l7.78-7.78 2.81-2.81c.8-.78.8-2.07 0-2.86zM5.41 20L4 18.59l7.72-7.72 1.47 1.35L5.41 20z\"/>\n",
              "  </svg>\n",
              "      </button>\n",
              "      \n",
              "  <style>\n",
              "    .colab-df-container {\n",
              "      display:flex;\n",
              "      flex-wrap:wrap;\n",
              "      gap: 12px;\n",
              "    }\n",
              "\n",
              "    .colab-df-convert {\n",
              "      background-color: #E8F0FE;\n",
              "      border: none;\n",
              "      border-radius: 50%;\n",
              "      cursor: pointer;\n",
              "      display: none;\n",
              "      fill: #1967D2;\n",
              "      height: 32px;\n",
              "      padding: 0 0 0 0;\n",
              "      width: 32px;\n",
              "    }\n",
              "\n",
              "    .colab-df-convert:hover {\n",
              "      background-color: #E2EBFA;\n",
              "      box-shadow: 0px 1px 2px rgba(60, 64, 67, 0.3), 0px 1px 3px 1px rgba(60, 64, 67, 0.15);\n",
              "      fill: #174EA6;\n",
              "    }\n",
              "\n",
              "    [theme=dark] .colab-df-convert {\n",
              "      background-color: #3B4455;\n",
              "      fill: #D2E3FC;\n",
              "    }\n",
              "\n",
              "    [theme=dark] .colab-df-convert:hover {\n",
              "      background-color: #434B5C;\n",
              "      box-shadow: 0px 1px 3px 1px rgba(0, 0, 0, 0.15);\n",
              "      filter: drop-shadow(0px 1px 2px rgba(0, 0, 0, 0.3));\n",
              "      fill: #FFFFFF;\n",
              "    }\n",
              "  </style>\n",
              "\n",
              "      <script>\n",
              "        const buttonEl =\n",
              "          document.querySelector('#df-70508b70-7a6a-4cd0-9d15-1d76ec340317 button.colab-df-convert');\n",
              "        buttonEl.style.display =\n",
              "          google.colab.kernel.accessAllowed ? 'block' : 'none';\n",
              "\n",
              "        async function convertToInteractive(key) {\n",
              "          const element = document.querySelector('#df-70508b70-7a6a-4cd0-9d15-1d76ec340317');\n",
              "          const dataTable =\n",
              "            await google.colab.kernel.invokeFunction('convertToInteractive',\n",
              "                                                     [key], {});\n",
              "          if (!dataTable) return;\n",
              "\n",
              "          const docLinkHtml = 'Like what you see? Visit the ' +\n",
              "            '<a target=\"_blank\" href=https://colab.research.google.com/notebooks/data_table.ipynb>data table notebook</a>'\n",
              "            + ' to learn more about interactive tables.';\n",
              "          element.innerHTML = '';\n",
              "          dataTable['output_type'] = 'display_data';\n",
              "          await google.colab.output.renderOutput(dataTable, element);\n",
              "          const docLink = document.createElement('div');\n",
              "          docLink.innerHTML = docLinkHtml;\n",
              "          element.appendChild(docLink);\n",
              "        }\n",
              "      </script>\n",
              "    </div>\n",
              "  </div>\n",
              "  "
            ]
          },
          "metadata": {},
          "execution_count": 16
        }
      ],
      "source": [
        "df.head()"
      ]
    },
    {
      "cell_type": "code",
      "execution_count": null,
      "metadata": {
        "colab": {
          "base_uri": "https://localhost:8080/"
        },
        "id": "dEEFUUOuxxAW",
        "outputId": "20fd3061-bacb-4904-cf98-a57a5155b82b"
      },
      "outputs": [
        {
          "output_type": "execute_result",
          "data": {
            "text/plain": [
              "array(['Partly Cloudy', 'Mostly Cloudy', 'Overcast', 'Foggy',\n",
              "       'Breezy and Mostly Cloudy', 'Clear', 'Breezy and Partly Cloudy',\n",
              "       'Breezy and Overcast', 'Humid and Mostly Cloudy',\n",
              "       'Humid and Partly Cloudy', 'Windy and Foggy', 'Windy and Overcast',\n",
              "       'Breezy and Foggy', 'Windy and Partly Cloudy', 'Breezy',\n",
              "       'Dry and Partly Cloudy', 'Windy and Mostly Cloudy',\n",
              "       'Dangerously Windy and Partly Cloudy', 'Dry', 'Windy',\n",
              "       'Humid and Overcast'], dtype=object)"
            ]
          },
          "metadata": {},
          "execution_count": 17
        }
      ],
      "source": [
        "df.Summary.unique()"
      ]
    },
    {
      "cell_type": "code",
      "execution_count": null,
      "metadata": {
        "colab": {
          "base_uri": "https://localhost:8080/"
        },
        "id": "jxsz1jNJxxAW",
        "outputId": "b99e9d08-27ed-4e14-f56f-94f741f051ec"
      },
      "outputs": [
        {
          "output_type": "execute_result",
          "data": {
            "text/plain": [
              "array([0.])"
            ]
          },
          "metadata": {},
          "execution_count": 18
        }
      ],
      "source": [
        "df.LoudCover.unique()"
      ]
    },
    {
      "cell_type": "code",
      "execution_count": null,
      "metadata": {
        "colab": {
          "base_uri": "https://localhost:8080/",
          "height": 356
        },
        "id": "epATCmQ-xxAX",
        "outputId": "df650a84-e5a0-4b5d-d24e-fbe469c48819"
      },
      "outputs": [
        {
          "output_type": "stream",
          "name": "stderr",
          "text": [
            "<ipython-input-19-2f6f6606aa2c>:1: FutureWarning: The default value of numeric_only in DataFrame.corr is deprecated. In a future version, it will default to False. Select only valid columns or specify the value of numeric_only to silence this warning.\n",
            "  df.corr()\n"
          ]
        },
        {
          "output_type": "execute_result",
          "data": {
            "text/plain": [
              "                     Temperature  ApparentTemperature  Humidity  WindSpeed  \\\n",
              "Temperature             1.000000             0.992478 -0.637634   0.011189   \n",
              "ApparentTemperature     0.992478             1.000000 -0.607291  -0.056907   \n",
              "Humidity               -0.637634            -0.607291  1.000000  -0.235131   \n",
              "WindSpeed               0.011189            -0.056907 -0.235131   1.000000   \n",
              "WindBearings            0.023104             0.018401  0.006531   0.124187   \n",
              "Visibilty               0.370702             0.359082 -0.329638   0.126961   \n",
              "LoudCover                    NaN                  NaN       NaN        NaN   \n",
              "Pressure               -0.038863            -0.037106  0.010397  -0.045841   \n",
              "\n",
              "                     WindBearings  Visibilty  LoudCover  Pressure  \n",
              "Temperature              0.023104   0.370702        NaN -0.038863  \n",
              "ApparentTemperature      0.018401   0.359082        NaN -0.037106  \n",
              "Humidity                 0.006531  -0.329638        NaN  0.010397  \n",
              "WindSpeed                0.124187   0.126961        NaN -0.045841  \n",
              "WindBearings             1.000000   0.058135        NaN -0.008477  \n",
              "Visibilty                0.058135   1.000000        NaN  0.008779  \n",
              "LoudCover                     NaN        NaN        NaN       NaN  \n",
              "Pressure                -0.008477   0.008779        NaN  1.000000  "
            ],
            "text/html": [
              "\n",
              "  <div id=\"df-2f79ff40-48da-40d9-92b8-23374d90222e\">\n",
              "    <div class=\"colab-df-container\">\n",
              "      <div>\n",
              "<style scoped>\n",
              "    .dataframe tbody tr th:only-of-type {\n",
              "        vertical-align: middle;\n",
              "    }\n",
              "\n",
              "    .dataframe tbody tr th {\n",
              "        vertical-align: top;\n",
              "    }\n",
              "\n",
              "    .dataframe thead th {\n",
              "        text-align: right;\n",
              "    }\n",
              "</style>\n",
              "<table border=\"1\" class=\"dataframe\">\n",
              "  <thead>\n",
              "    <tr style=\"text-align: right;\">\n",
              "      <th></th>\n",
              "      <th>Temperature</th>\n",
              "      <th>ApparentTemperature</th>\n",
              "      <th>Humidity</th>\n",
              "      <th>WindSpeed</th>\n",
              "      <th>WindBearings</th>\n",
              "      <th>Visibilty</th>\n",
              "      <th>LoudCover</th>\n",
              "      <th>Pressure</th>\n",
              "    </tr>\n",
              "  </thead>\n",
              "  <tbody>\n",
              "    <tr>\n",
              "      <th>Temperature</th>\n",
              "      <td>1.000000</td>\n",
              "      <td>0.992478</td>\n",
              "      <td>-0.637634</td>\n",
              "      <td>0.011189</td>\n",
              "      <td>0.023104</td>\n",
              "      <td>0.370702</td>\n",
              "      <td>NaN</td>\n",
              "      <td>-0.038863</td>\n",
              "    </tr>\n",
              "    <tr>\n",
              "      <th>ApparentTemperature</th>\n",
              "      <td>0.992478</td>\n",
              "      <td>1.000000</td>\n",
              "      <td>-0.607291</td>\n",
              "      <td>-0.056907</td>\n",
              "      <td>0.018401</td>\n",
              "      <td>0.359082</td>\n",
              "      <td>NaN</td>\n",
              "      <td>-0.037106</td>\n",
              "    </tr>\n",
              "    <tr>\n",
              "      <th>Humidity</th>\n",
              "      <td>-0.637634</td>\n",
              "      <td>-0.607291</td>\n",
              "      <td>1.000000</td>\n",
              "      <td>-0.235131</td>\n",
              "      <td>0.006531</td>\n",
              "      <td>-0.329638</td>\n",
              "      <td>NaN</td>\n",
              "      <td>0.010397</td>\n",
              "    </tr>\n",
              "    <tr>\n",
              "      <th>WindSpeed</th>\n",
              "      <td>0.011189</td>\n",
              "      <td>-0.056907</td>\n",
              "      <td>-0.235131</td>\n",
              "      <td>1.000000</td>\n",
              "      <td>0.124187</td>\n",
              "      <td>0.126961</td>\n",
              "      <td>NaN</td>\n",
              "      <td>-0.045841</td>\n",
              "    </tr>\n",
              "    <tr>\n",
              "      <th>WindBearings</th>\n",
              "      <td>0.023104</td>\n",
              "      <td>0.018401</td>\n",
              "      <td>0.006531</td>\n",
              "      <td>0.124187</td>\n",
              "      <td>1.000000</td>\n",
              "      <td>0.058135</td>\n",
              "      <td>NaN</td>\n",
              "      <td>-0.008477</td>\n",
              "    </tr>\n",
              "    <tr>\n",
              "      <th>Visibilty</th>\n",
              "      <td>0.370702</td>\n",
              "      <td>0.359082</td>\n",
              "      <td>-0.329638</td>\n",
              "      <td>0.126961</td>\n",
              "      <td>0.058135</td>\n",
              "      <td>1.000000</td>\n",
              "      <td>NaN</td>\n",
              "      <td>0.008779</td>\n",
              "    </tr>\n",
              "    <tr>\n",
              "      <th>LoudCover</th>\n",
              "      <td>NaN</td>\n",
              "      <td>NaN</td>\n",
              "      <td>NaN</td>\n",
              "      <td>NaN</td>\n",
              "      <td>NaN</td>\n",
              "      <td>NaN</td>\n",
              "      <td>NaN</td>\n",
              "      <td>NaN</td>\n",
              "    </tr>\n",
              "    <tr>\n",
              "      <th>Pressure</th>\n",
              "      <td>-0.038863</td>\n",
              "      <td>-0.037106</td>\n",
              "      <td>0.010397</td>\n",
              "      <td>-0.045841</td>\n",
              "      <td>-0.008477</td>\n",
              "      <td>0.008779</td>\n",
              "      <td>NaN</td>\n",
              "      <td>1.000000</td>\n",
              "    </tr>\n",
              "  </tbody>\n",
              "</table>\n",
              "</div>\n",
              "      <button class=\"colab-df-convert\" onclick=\"convertToInteractive('df-2f79ff40-48da-40d9-92b8-23374d90222e')\"\n",
              "              title=\"Convert this dataframe to an interactive table.\"\n",
              "              style=\"display:none;\">\n",
              "        \n",
              "  <svg xmlns=\"http://www.w3.org/2000/svg\" height=\"24px\"viewBox=\"0 0 24 24\"\n",
              "       width=\"24px\">\n",
              "    <path d=\"M0 0h24v24H0V0z\" fill=\"none\"/>\n",
              "    <path d=\"M18.56 5.44l.94 2.06.94-2.06 2.06-.94-2.06-.94-.94-2.06-.94 2.06-2.06.94zm-11 1L8.5 8.5l.94-2.06 2.06-.94-2.06-.94L8.5 2.5l-.94 2.06-2.06.94zm10 10l.94 2.06.94-2.06 2.06-.94-2.06-.94-.94-2.06-.94 2.06-2.06.94z\"/><path d=\"M17.41 7.96l-1.37-1.37c-.4-.4-.92-.59-1.43-.59-.52 0-1.04.2-1.43.59L10.3 9.45l-7.72 7.72c-.78.78-.78 2.05 0 2.83L4 21.41c.39.39.9.59 1.41.59.51 0 1.02-.2 1.41-.59l7.78-7.78 2.81-2.81c.8-.78.8-2.07 0-2.86zM5.41 20L4 18.59l7.72-7.72 1.47 1.35L5.41 20z\"/>\n",
              "  </svg>\n",
              "      </button>\n",
              "      \n",
              "  <style>\n",
              "    .colab-df-container {\n",
              "      display:flex;\n",
              "      flex-wrap:wrap;\n",
              "      gap: 12px;\n",
              "    }\n",
              "\n",
              "    .colab-df-convert {\n",
              "      background-color: #E8F0FE;\n",
              "      border: none;\n",
              "      border-radius: 50%;\n",
              "      cursor: pointer;\n",
              "      display: none;\n",
              "      fill: #1967D2;\n",
              "      height: 32px;\n",
              "      padding: 0 0 0 0;\n",
              "      width: 32px;\n",
              "    }\n",
              "\n",
              "    .colab-df-convert:hover {\n",
              "      background-color: #E2EBFA;\n",
              "      box-shadow: 0px 1px 2px rgba(60, 64, 67, 0.3), 0px 1px 3px 1px rgba(60, 64, 67, 0.15);\n",
              "      fill: #174EA6;\n",
              "    }\n",
              "\n",
              "    [theme=dark] .colab-df-convert {\n",
              "      background-color: #3B4455;\n",
              "      fill: #D2E3FC;\n",
              "    }\n",
              "\n",
              "    [theme=dark] .colab-df-convert:hover {\n",
              "      background-color: #434B5C;\n",
              "      box-shadow: 0px 1px 3px 1px rgba(0, 0, 0, 0.15);\n",
              "      filter: drop-shadow(0px 1px 2px rgba(0, 0, 0, 0.3));\n",
              "      fill: #FFFFFF;\n",
              "    }\n",
              "  </style>\n",
              "\n",
              "      <script>\n",
              "        const buttonEl =\n",
              "          document.querySelector('#df-2f79ff40-48da-40d9-92b8-23374d90222e button.colab-df-convert');\n",
              "        buttonEl.style.display =\n",
              "          google.colab.kernel.accessAllowed ? 'block' : 'none';\n",
              "\n",
              "        async function convertToInteractive(key) {\n",
              "          const element = document.querySelector('#df-2f79ff40-48da-40d9-92b8-23374d90222e');\n",
              "          const dataTable =\n",
              "            await google.colab.kernel.invokeFunction('convertToInteractive',\n",
              "                                                     [key], {});\n",
              "          if (!dataTable) return;\n",
              "\n",
              "          const docLinkHtml = 'Like what you see? Visit the ' +\n",
              "            '<a target=\"_blank\" href=https://colab.research.google.com/notebooks/data_table.ipynb>data table notebook</a>'\n",
              "            + ' to learn more about interactive tables.';\n",
              "          element.innerHTML = '';\n",
              "          dataTable['output_type'] = 'display_data';\n",
              "          await google.colab.output.renderOutput(dataTable, element);\n",
              "          const docLink = document.createElement('div');\n",
              "          docLink.innerHTML = docLinkHtml;\n",
              "          element.appendChild(docLink);\n",
              "        }\n",
              "      </script>\n",
              "    </div>\n",
              "  </div>\n",
              "  "
            ]
          },
          "metadata": {},
          "execution_count": 19
        }
      ],
      "source": [
        "df.corr()"
      ]
    },
    {
      "cell_type": "code",
      "execution_count": null,
      "metadata": {
        "id": "2BumNF1pxxAX"
      },
      "outputs": [],
      "source": [
        "df=df.drop(['LoudCover'],axis=1)"
      ]
    },
    {
      "cell_type": "code",
      "execution_count": null,
      "metadata": {
        "colab": {
          "base_uri": "https://localhost:8080/",
          "height": 649
        },
        "id": "uw4Ha928xxAX",
        "outputId": "0a5fda83-b704-40f9-e6d5-1bb029b9f3f6"
      },
      "outputs": [
        {
          "output_type": "stream",
          "name": "stderr",
          "text": [
            "<ipython-input-21-b4b1b00bc1f1>:1: FutureWarning: The default value of numeric_only in DataFrame.corr is deprecated. In a future version, it will default to False. Select only valid columns or specify the value of numeric_only to silence this warning.\n",
            "  sn.heatmap(df.corr())\n"
          ]
        },
        {
          "output_type": "execute_result",
          "data": {
            "text/plain": [
              "<Axes: >"
            ]
          },
          "metadata": {},
          "execution_count": 21
        },
        {
          "output_type": "display_data",
          "data": {
            "text/plain": [
              "<Figure size 640x480 with 2 Axes>"
            ],
            "image/png": "[encoded data removed]"
          },
          "metadata": {}
        }
      ],
      "source": [
        "sn.heatmap(df.corr())"
      ]
    },
    {
      "cell_type": "code",
      "execution_count": null,
      "metadata": {
        "colab": {
          "base_uri": "https://localhost:8080/",
          "height": 206
        },
        "id": "txDcuEtbxxAX",
        "outputId": "273bf4cc-b9b5-41c2-ee8e-3d8b95a83dd6"
      },
      "outputs": [
        {
          "output_type": "execute_result",
          "data": {
            "text/plain": [
              "                  Formatted Date        Summary PrecipType  Temperature  \\\n",
              "0  2006-04-01 00:00:00.000 +0200  Partly Cloudy          0     9.472222   \n",
              "1  2006-04-01 01:00:00.000 +0200  Partly Cloudy          0     9.355556   \n",
              "2  2006-04-01 02:00:00.000 +0200  Mostly Cloudy          0     9.377778   \n",
              "3  2006-04-01 03:00:00.000 +0200  Partly Cloudy          0     8.288889   \n",
              "4  2006-04-01 04:00:00.000 +0200  Mostly Cloudy          0     8.755556   \n",
              "\n",
              "   ApparentTemperature  Humidity  WindSpeed  WindBearings  Visibilty  Pressure  \n",
              "0             7.388889      0.89    14.1197         251.0    15.8263   1015.13  \n",
              "1             7.227778      0.86    14.2646         259.0    15.8263   1015.63  \n",
              "2             9.377778      0.89     3.9284         204.0    14.9569   1015.94  \n",
              "3             5.944444      0.83    14.1036         269.0    15.8263   1016.41  \n",
              "4             6.977778      0.83    11.0446         259.0    15.8263   1016.51  "
            ],
            "text/html": [
              "\n",
              "  <div id=\"df-fcf1a9fb-7c37-4102-a15f-a05ddf8402b3\">\n",
              "    <div class=\"colab-df-container\">\n",
              "      <div>\n",
              "<style scoped>\n",
              "    .dataframe tbody tr th:only-of-type {\n",
              "        vertical-align: middle;\n",
              "    }\n",
              "\n",
              "    .dataframe tbody tr th {\n",
              "        vertical-align: top;\n",
              "    }\n",
              "\n",
              "    .dataframe thead th {\n",
              "        text-align: right;\n",
              "    }\n",
              "</style>\n",
              "<table border=\"1\" class=\"dataframe\">\n",
              "  <thead>\n",
              "    <tr style=\"text-align: right;\">\n",
              "      <th></th>\n",
              "      <th>Formatted Date</th>\n",
              "      <th>Summary</th>\n",
              "      <th>PrecipType</th>\n",
              "      <th>Temperature</th>\n",
              "      <th>ApparentTemperature</th>\n",
              "      <th>Humidity</th>\n",
              "      <th>WindSpeed</th>\n",
              "      <th>WindBearings</th>\n",
              "      <th>Visibilty</th>\n",
              "      <th>Pressure</th>\n",
              "    </tr>\n",
              "  </thead>\n",
              "  <tbody>\n",
              "    <tr>\n",
              "      <th>0</th>\n",
              "      <td>2006-04-01 00:00:00.000 +0200</td>\n",
              "      <td>Partly Cloudy</td>\n",
              "      <td>0</td>\n",
              "      <td>9.472222</td>\n",
              "      <td>7.388889</td>\n",
              "      <td>0.89</td>\n",
              "      <td>14.1197</td>\n",
              "      <td>251.0</td>\n",
              "      <td>15.8263</td>\n",
              "      <td>1015.13</td>\n",
              "    </tr>\n",
              "    <tr>\n",
              "      <th>1</th>\n",
              "      <td>2006-04-01 01:00:00.000 +0200</td>\n",
              "      <td>Partly Cloudy</td>\n",
              "      <td>0</td>\n",
              "      <td>9.355556</td>\n",
              "      <td>7.227778</td>\n",
              "      <td>0.86</td>\n",
              "      <td>14.2646</td>\n",
              "      <td>259.0</td>\n",
              "      <td>15.8263</td>\n",
              "      <td>1015.63</td>\n",
              "    </tr>\n",
              "    <tr>\n",
              "      <th>2</th>\n",
              "      <td>2006-04-01 02:00:00.000 +0200</td>\n",
              "      <td>Mostly Cloudy</td>\n",
              "      <td>0</td>\n",
              "      <td>9.377778</td>\n",
              "      <td>9.377778</td>\n",
              "      <td>0.89</td>\n",
              "      <td>3.9284</td>\n",
              "      <td>204.0</td>\n",
              "      <td>14.9569</td>\n",
              "      <td>1015.94</td>\n",
              "    </tr>\n",
              "    <tr>\n",
              "      <th>3</th>\n",
              "      <td>2006-04-01 03:00:00.000 +0200</td>\n",
              "      <td>Partly Cloudy</td>\n",
              "      <td>0</td>\n",
              "      <td>8.288889</td>\n",
              "      <td>5.944444</td>\n",
              "      <td>0.83</td>\n",
              "      <td>14.1036</td>\n",
              "      <td>269.0</td>\n",
              "      <td>15.8263</td>\n",
              "      <td>1016.41</td>\n",
              "    </tr>\n",
              "    <tr>\n",
              "      <th>4</th>\n",
              "      <td>2006-04-01 04:00:00.000 +0200</td>\n",
              "      <td>Mostly Cloudy</td>\n",
              "      <td>0</td>\n",
              "      <td>8.755556</td>\n",
              "      <td>6.977778</td>\n",
              "      <td>0.83</td>\n",
              "      <td>11.0446</td>\n",
              "      <td>259.0</td>\n",
              "      <td>15.8263</td>\n",
              "      <td>1016.51</td>\n",
              "    </tr>\n",
              "  </tbody>\n",
              "</table>\n",
              "</div>\n",
              "      <button class=\"colab-df-convert\" onclick=\"convertToInteractive('df-fcf1a9fb-7c37-4102-a15f-a05ddf8402b3')\"\n",
              "              title=\"Convert this dataframe to an interactive table.\"\n",
              "              style=\"display:none;\">\n",
              "        \n",
              "  <svg xmlns=\"http://www.w3.org/2000/svg\" height=\"24px\"viewBox=\"0 0 24 24\"\n",
              "       width=\"24px\">\n",
              "    <path d=\"M0 0h24v24H0V0z\" fill=\"none\"/>\n",
              "    <path d=\"M18.56 5.44l.94 2.06.94-2.06 2.06-.94-2.06-.94-.94-2.06-.94 2.06-2.06.94zm-11 1L8.5 8.5l.94-2.06 2.06-.94-2.06-.94L8.5 2.5l-.94 2.06-2.06.94zm10 10l.94 2.06.94-2.06 2.06-.94-2.06-.94-.94-2.06-.94 2.06-2.06.94z\"/><path d=\"M17.41 7.96l-1.37-1.37c-.4-.4-.92-.59-1.43-.59-.52 0-1.04.2-1.43.59L10.3 9.45l-7.72 7.72c-.78.78-.78 2.05 0 2.83L4 21.41c.39.39.9.59 1.41.59.51 0 1.02-.2 1.41-.59l7.78-7.78 2.81-2.81c.8-.78.8-2.07 0-2.86zM5.41 20L4 18.59l7.72-7.72 1.47 1.35L5.41 20z\"/>\n",
              "  </svg>\n",
              "      </button>\n",
              "      \n",
              "  <style>\n",
              "    .colab-df-container {\n",
              "      display:flex;\n",
              "      flex-wrap:wrap;\n",
              "      gap: 12px;\n",
              "    }\n",
              "\n",
              "    .colab-df-convert {\n",
              "      background-color: #E8F0FE;\n",
              "      border: none;\n",
              "      border-radius: 50%;\n",
              "      cursor: pointer;\n",
              "      display: none;\n",
              "      fill: #1967D2;\n",
              "      height: 32px;\n",
              "      padding: 0 0 0 0;\n",
              "      width: 32px;\n",
              "    }\n",
              "\n",
              "    .colab-df-convert:hover {\n",
              "      background-color: #E2EBFA;\n",
              "      box-shadow: 0px 1px 2px rgba(60, 64, 67, 0.3), 0px 1px 3px 1px rgba(60, 64, 67, 0.15);\n",
              "      fill: #174EA6;\n",
              "    }\n",
              "\n",
              "    [theme=dark] .colab-df-convert {\n",
              "      background-color: #3B4455;\n",
              "      fill: #D2E3FC;\n",
              "    }\n",
              "\n",
              "    [theme=dark] .colab-df-convert:hover {\n",
              "      background-color: #434B5C;\n",
              "      box-shadow: 0px 1px 3px 1px rgba(0, 0, 0, 0.15);\n",
              "      filter: drop-shadow(0px 1px 2px rgba(0, 0, 0, 0.3));\n",
              "      fill: #FFFFFF;\n",
              "    }\n",
              "  </style>\n",
              "\n",
              "      <script>\n",
              "        const buttonEl =\n",
              "          document.querySelector('#df-fcf1a9fb-7c37-4102-a15f-a05ddf8402b3 button.colab-df-convert');\n",
              "        buttonEl.style.display =\n",
              "          google.colab.kernel.accessAllowed ? 'block' : 'none';\n",
              "\n",
              "        async function convertToInteractive(key) {\n",
              "          const element = document.querySelector('#df-fcf1a9fb-7c37-4102-a15f-a05ddf8402b3');\n",
              "          const dataTable =\n",
              "            await google.colab.kernel.invokeFunction('convertToInteractive',\n",
              "                                                     [key], {});\n",
              "          if (!dataTable) return;\n",
              "\n",
              "          const docLinkHtml = 'Like what you see? Visit the ' +\n",
              "            '<a target=\"_blank\" href=https://colab.research.google.com/notebooks/data_table.ipynb>data table notebook</a>'\n",
              "            + ' to learn more about interactive tables.';\n",
              "          element.innerHTML = '';\n",
              "          dataTable['output_type'] = 'display_data';\n",
              "          await google.colab.output.renderOutput(dataTable, element);\n",
              "          const docLink = document.createElement('div');\n",
              "          docLink.innerHTML = docLinkHtml;\n",
              "          element.appendChild(docLink);\n",
              "        }\n",
              "      </script>\n",
              "    </div>\n",
              "  </div>\n",
              "  "
            ]
          },
          "metadata": {},
          "execution_count": 22
        }
      ],
      "source": [
        "df.head()"
      ]
    },
    {
      "cell_type": "code",
      "execution_count": null,
      "metadata": {
        "colab": {
          "base_uri": "https://localhost:8080/"
        },
        "id": "eCJMxrLVxxAX",
        "outputId": "8a3d1837-d866-45d3-9fdb-c5fe4a253c51"
      },
      "outputs": [
        {
          "output_type": "stream",
          "name": "stdout",
          "text": [
            "21\n"
          ]
        },
        {
          "output_type": "execute_result",
          "data": {
            "text/plain": [
              "array(['Partly Cloudy', 'Mostly Cloudy', 'Overcast', 'Foggy',\n",
              "       'Breezy and Mostly Cloudy', 'Clear', 'Breezy and Partly Cloudy',\n",
              "       'Breezy and Overcast', 'Humid and Mostly Cloudy',\n",
              "       'Humid and Partly Cloudy', 'Windy and Foggy', 'Windy and Overcast',\n",
              "       'Breezy and Foggy', 'Windy and Partly Cloudy', 'Breezy',\n",
              "       'Dry and Partly Cloudy', 'Windy and Mostly Cloudy',\n",
              "       'Dangerously Windy and Partly Cloudy', 'Dry', 'Windy',\n",
              "       'Humid and Overcast'], dtype=object)"
            ]
          },
          "metadata": {},
          "execution_count": 23
        }
      ],
      "source": [
        "print(len(df.Summary.unique()))\n",
        "df.Summary.unique()"
      ]
    },
    {
      "cell_type": "code",
      "execution_count": null,
      "metadata": {
        "colab": {
          "base_uri": "https://localhost:8080/"
        },
        "id": "X4JEn6yHxxAY",
        "outputId": "603b5735-147d-40f6-ca32-fe3fa4b9467d"
      },
      "outputs": [
        {
          "output_type": "stream",
          "name": "stderr",
          "text": [
            "<ipython-input-24-217a850afdf1>:3: SettingWithCopyWarning: \n",
            "A value is trying to be set on a copy of a slice from a DataFrame\n",
            "\n",
            "See the caveats in the documentation: https://pandas.pydata.org/pandas-docs/stable/user_guide/indexing.html#returning-a-view-versus-a-copy\n",
            "  df.Summary[:] = labelencoder_X.fit_transform(df.Summary[:])\n"
          ]
        }
      ],
      "source": [
        "from sklearn.preprocessing import LabelEncoder, OneHotEncoder\n",
        "labelencoder_X = LabelEncoder()\n",
        "df.Summary[:] = labelencoder_X.fit_transform(df.Summary[:])"
      ]
    },
    {
      "cell_type": "code",
      "execution_count": null,
      "metadata": {
        "colab": {
          "base_uri": "https://localhost:8080/"
        },
        "id": "ML9-h0y1xxAY",
        "outputId": "b30414f7-fa86-487d-cc54-ba811f3940ed"
      },
      "outputs": [
        {
          "output_type": "execute_result",
          "data": {
            "text/plain": [
              "array([15, 13, 14, 9, 2, 5, 4, 3, 10, 12, 17, 19, 1, 20, 0, 8, 18, 6, 7,\n",
              "       16, 11], dtype=object)"
            ]
          },
          "metadata": {},
          "execution_count": 25
        }
      ],
      "source": [
        "df.Summary.unique()"
      ]
    },
    {
      "cell_type": "code",
      "execution_count": null,
      "metadata": {
        "colab": {
          "base_uri": "https://localhost:8080/"
        },
        "id": "iR6gD_z7xxAY",
        "outputId": "4c90f5de-a52a-4de4-8636-f27c78ff77a6"
      },
      "outputs": [
        {
          "output_type": "stream",
          "name": "stdout",
          "text": [
            "21\n"
          ]
        }
      ],
      "source": [
        "print(len(df.Summary.unique()))"
      ]
    },
    {
      "cell_type": "code",
      "execution_count": null,
      "metadata": {
        "colab": {
          "base_uri": "https://localhost:8080/",
          "height": 206
        },
        "id": "ZzBb9u2sxxAY",
        "outputId": "74bbcef6-86db-41cc-a57d-f7a23e3ed957"
      },
      "outputs": [
        {
          "output_type": "execute_result",
          "data": {
            "text/plain": [
              "                  Formatted Date Summary PrecipType  Temperature  \\\n",
              "0  2006-04-01 00:00:00.000 +0200      15          0     9.472222   \n",
              "1  2006-04-01 01:00:00.000 +0200      15          0     9.355556   \n",
              "2  2006-04-01 02:00:00.000 +0200      13          0     9.377778   \n",
              "3  2006-04-01 03:00:00.000 +0200      15          0     8.288889   \n",
              "4  2006-04-01 04:00:00.000 +0200      13          0     8.755556   \n",
              "\n",
              "   ApparentTemperature  Humidity  WindSpeed  WindBearings  Visibilty  Pressure  \n",
              "0             7.388889      0.89    14.1197         251.0    15.8263   1015.13  \n",
              "1             7.227778      0.86    14.2646         259.0    15.8263   1015.63  \n",
              "2             9.377778      0.89     3.9284         204.0    14.9569   1015.94  \n",
              "3             5.944444      0.83    14.1036         269.0    15.8263   1016.41  \n",
              "4             6.977778      0.83    11.0446         259.0    15.8263   1016.51  "
            ],
            "text/html": [
              "\n",
              "  <div id=\"df-05164bf8-7742-41dc-a1ea-2e836e4dce9c\">\n",
              "    <div class=\"colab-df-container\">\n",
              "      <div>\n",
              "<style scoped>\n",
              "    .dataframe tbody tr th:only-of-type {\n",
              "        vertical-align: middle;\n",
              "    }\n",
              "\n",
              "    .dataframe tbody tr th {\n",
              "        vertical-align: top;\n",
              "    }\n",
              "\n",
              "    .dataframe thead th {\n",
              "        text-align: right;\n",
              "    }\n",
              "</style>\n",
              "<table border=\"1\" class=\"dataframe\">\n",
              "  <thead>\n",
              "    <tr style=\"text-align: right;\">\n",
              "      <th></th>\n",
              "      <th>Formatted Date</th>\n",
              "      <th>Summary</th>\n",
              "      <th>PrecipType</th>\n",
              "      <th>Temperature</th>\n",
              "      <th>ApparentTemperature</th>\n",
              "      <th>Humidity</th>\n",
              "      <th>WindSpeed</th>\n",
              "      <th>WindBearings</th>\n",
              "      <th>Visibilty</th>\n",
              "      <th>Pressure</th>\n",
              "    </tr>\n",
              "  </thead>\n",
              "  <tbody>\n",
              "    <tr>\n",
              "      <th>0</th>\n",
              "      <td>2006-04-01 00:00:00.000 +0200</td>\n",
              "      <td>15</td>\n",
              "      <td>0</td>\n",
              "      <td>9.472222</td>\n",
              "      <td>7.388889</td>\n",
              "      <td>0.89</td>\n",
              "      <td>14.1197</td>\n",
              "      <td>251.0</td>\n",
              "      <td>15.8263</td>\n",
              "      <td>1015.13</td>\n",
              "    </tr>\n",
              "    <tr>\n",
              "      <th>1</th>\n",
              "      <td>2006-04-01 01:00:00.000 +0200</td>\n",
              "      <td>15</td>\n",
              "      <td>0</td>\n",
              "      <td>9.355556</td>\n",
              "      <td>7.227778</td>\n",
              "      <td>0.86</td>\n",
              "      <td>14.2646</td>\n",
              "      <td>259.0</td>\n",
              "      <td>15.8263</td>\n",
              "      <td>1015.63</td>\n",
              "    </tr>\n",
              "    <tr>\n",
              "      <th>2</th>\n",
              "      <td>2006-04-01 02:00:00.000 +0200</td>\n",
              "      <td>13</td>\n",
              "      <td>0</td>\n",
              "      <td>9.377778</td>\n",
              "      <td>9.377778</td>\n",
              "      <td>0.89</td>\n",
              "      <td>3.9284</td>\n",
              "      <td>204.0</td>\n",
              "      <td>14.9569</td>\n",
              "      <td>1015.94</td>\n",
              "    </tr>\n",
              "    <tr>\n",
              "      <th>3</th>\n",
              "      <td>2006-04-01 03:00:00.000 +0200</td>\n",
              "      <td>15</td>\n",
              "      <td>0</td>\n",
              "      <td>8.288889</td>\n",
              "      <td>5.944444</td>\n",
              "      <td>0.83</td>\n",
              "      <td>14.1036</td>\n",
              "      <td>269.0</td>\n",
              "      <td>15.8263</td>\n",
              "      <td>1016.41</td>\n",
              "    </tr>\n",
              "    <tr>\n",
              "      <th>4</th>\n",
              "      <td>2006-04-01 04:00:00.000 +0200</td>\n",
              "      <td>13</td>\n",
              "      <td>0</td>\n",
              "      <td>8.755556</td>\n",
              "      <td>6.977778</td>\n",
              "      <td>0.83</td>\n",
              "      <td>11.0446</td>\n",
              "      <td>259.0</td>\n",
              "      <td>15.8263</td>\n",
              "      <td>1016.51</td>\n",
              "    </tr>\n",
              "  </tbody>\n",
              "</table>\n",
              "</div>\n",
              "      <button class=\"colab-df-convert\" onclick=\"convertToInteractive('df-05164bf8-7742-41dc-a1ea-2e836e4dce9c')\"\n",
              "              title=\"Convert this dataframe to an interactive table.\"\n",
              "              style=\"display:none;\">\n",
              "        \n",
              "  <svg xmlns=\"http://www.w3.org/2000/svg\" height=\"24px\"viewBox=\"0 0 24 24\"\n",
              "       width=\"24px\">\n",
              "    <path d=\"M0 0h24v24H0V0z\" fill=\"none\"/>\n",
              "    <path d=\"M18.56 5.44l.94 2.06.94-2.06 2.06-.94-2.06-.94-.94-2.06-.94 2.06-2.06.94zm-11 1L8.5 8.5l.94-2.06 2.06-.94-2.06-.94L8.5 2.5l-.94 2.06-2.06.94zm10 10l.94 2.06.94-2.06 2.06-.94-2.06-.94-.94-2.06-.94 2.06-2.06.94z\"/><path d=\"M17.41 7.96l-1.37-1.37c-.4-.4-.92-.59-1.43-.59-.52 0-1.04.2-1.43.59L10.3 9.45l-7.72 7.72c-.78.78-.78 2.05 0 2.83L4 21.41c.39.39.9.59 1.41.59.51 0 1.02-.2 1.41-.59l7.78-7.78 2.81-2.81c.8-.78.8-2.07 0-2.86zM5.41 20L4 18.59l7.72-7.72 1.47 1.35L5.41 20z\"/>\n",
              "  </svg>\n",
              "      </button>\n",
              "      \n",
              "  <style>\n",
              "    .colab-df-container {\n",
              "      display:flex;\n",
              "      flex-wrap:wrap;\n",
              "      gap: 12px;\n",
              "    }\n",
              "\n",
              "    .colab-df-convert {\n",
              "      background-color: #E8F0FE;\n",
              "      border: none;\n",
              "      border-radius: 50%;\n",
              "      cursor: pointer;\n",
              "      display: none;\n",
              "      fill: #1967D2;\n",
              "      height: 32px;\n",
              "      padding: 0 0 0 0;\n",
              "      width: 32px;\n",
              "    }\n",
              "\n",
              "    .colab-df-convert:hover {\n",
              "      background-color: #E2EBFA;\n",
              "      box-shadow: 0px 1px 2px rgba(60, 64, 67, 0.3), 0px 1px 3px 1px rgba(60, 64, 67, 0.15);\n",
              "      fill: #174EA6;\n",
              "    }\n",
              "\n",
              "    [theme=dark] .colab-df-convert {\n",
              "      background-color: #3B4455;\n",
              "      fill: #D2E3FC;\n",
              "    }\n",
              "\n",
              "    [theme=dark] .colab-df-convert:hover {\n",
              "      background-color: #434B5C;\n",
              "      box-shadow: 0px 1px 3px 1px rgba(0, 0, 0, 0.15);\n",
              "      filter: drop-shadow(0px 1px 2px rgba(0, 0, 0, 0.3));\n",
              "      fill: #FFFFFF;\n",
              "    }\n",
              "  </style>\n",
              "\n",
              "      <script>\n",
              "        const buttonEl =\n",
              "          document.querySelector('#df-05164bf8-7742-41dc-a1ea-2e836e4dce9c button.colab-df-convert');\n",
              "        buttonEl.style.display =\n",
              "          google.colab.kernel.accessAllowed ? 'block' : 'none';\n",
              "\n",
              "        async function convertToInteractive(key) {\n",
              "          const element = document.querySelector('#df-05164bf8-7742-41dc-a1ea-2e836e4dce9c');\n",
              "          const dataTable =\n",
              "            await google.colab.kernel.invokeFunction('convertToInteractive',\n",
              "                                                     [key], {});\n",
              "          if (!dataTable) return;\n",
              "\n",
              "          const docLinkHtml = 'Like what you see? Visit the ' +\n",
              "            '<a target=\"_blank\" href=https://colab.research.google.com/notebooks/data_table.ipynb>data table notebook</a>'\n",
              "            + ' to learn more about interactive tables.';\n",
              "          element.innerHTML = '';\n",
              "          dataTable['output_type'] = 'display_data';\n",
              "          await google.colab.output.renderOutput(dataTable, element);\n",
              "          const docLink = document.createElement('div');\n",
              "          docLink.innerHTML = docLinkHtml;\n",
              "          element.appendChild(docLink);\n",
              "        }\n",
              "      </script>\n",
              "    </div>\n",
              "  </div>\n",
              "  "
            ]
          },
          "metadata": {},
          "execution_count": 27
        }
      ],
      "source": [
        "df.head()"
      ]
    },
    {
      "cell_type": "code",
      "execution_count": null,
      "metadata": {
        "id": "RYS7qpdexxAY"
      },
      "outputs": [],
      "source": [
        "# convert series to supervised learning\n",
        "def series_to_supervised(data, n_in=1, n_out=1, dropnan=True):\n",
        "    n_vars = 1 if type(data) is list else data.shape[1]\n",
        "    df = pd.DataFrame(data)\n",
        "    cols, names = list(), list()\n",
        "    # input sequence (t-n, ... t-1)\n",
        "    for i in range(n_in, 0, -1):\n",
        "        cols.append(df.shift(i))\n",
        "        names += [('var%d(t-%d)' % (j+1, i)) for j in range(n_vars)]\n",
        "    # forecast sequence (t, t+1, ... t+n)\n",
        "    for i in range(0, n_out):\n",
        "        cols.append(df.shift(-i))\n",
        "        if i == 0:\n",
        "            names += [('var%d(t)' % (j+1)) for j in range(n_vars)]\n",
        "        else:\n",
        "            names += [('var%d(t+%d)' % (j+1, i)) for j in range(n_vars)]\n",
        "    # put it all together\n",
        "    agg = pd.concat(cols, axis=1)\n",
        "    agg.columns = names\n",
        "    # drop rows with NaN values\n",
        "    if dropnan:\n",
        "        agg.dropna(inplace=True)\n",
        "    return agg"
      ]
    },
    {
      "cell_type": "code",
      "execution_count": null,
      "metadata": {
        "id": "PnVrGfQvxxAZ"
      },
      "outputs": [],
      "source": [
        "df=df.drop('Formatted Date',axis=1)"
      ]
    },
    {
      "cell_type": "code",
      "execution_count": null,
      "metadata": {
        "id": "M02QWrXexxAZ"
      },
      "outputs": [],
      "source": [
        "df.index.name='date'"
      ]
    },
    {
      "cell_type": "code",
      "execution_count": null,
      "metadata": {
        "colab": {
          "base_uri": "https://localhost:8080/",
          "height": 237
        },
        "id": "qsE3i2FLxxAZ",
        "outputId": "31592d22-7643-476b-9b7e-b1a38fef7a93"
      },
      "outputs": [
        {
          "output_type": "execute_result",
          "data": {
            "text/plain": [
              "     Summary PrecipType  Temperature  ApparentTemperature  Humidity  \\\n",
              "date                                                                  \n",
              "0         15          0     9.472222             7.388889      0.89   \n",
              "1         15          0     9.355556             7.227778      0.86   \n",
              "2         13          0     9.377778             9.377778      0.89   \n",
              "3         15          0     8.288889             5.944444      0.83   \n",
              "4         13          0     8.755556             6.977778      0.83   \n",
              "\n",
              "      WindSpeed  WindBearings  Visibilty  Pressure  \n",
              "date                                                \n",
              "0       14.1197         251.0    15.8263   1015.13  \n",
              "1       14.2646         259.0    15.8263   1015.63  \n",
              "2        3.9284         204.0    14.9569   1015.94  \n",
              "3       14.1036         269.0    15.8263   1016.41  \n",
              "4       11.0446         259.0    15.8263   1016.51  "
            ],
            "text/html": [
              "\n",
              "  <div id=\"df-bc47ff09-b5fc-4313-986d-3006d5223b72\">\n",
              "    <div class=\"colab-df-container\">\n",
              "      <div>\n",
              "<style scoped>\n",
              "    .dataframe tbody tr th:only-of-type {\n",
              "        vertical-align: middle;\n",
              "    }\n",
              "\n",
              "    .dataframe tbody tr th {\n",
              "        vertical-align: top;\n",
              "    }\n",
              "\n",
              "    .dataframe thead th {\n",
              "        text-align: right;\n",
              "    }\n",
              "</style>\n",
              "<table border=\"1\" class=\"dataframe\">\n",
              "  <thead>\n",
              "    <tr style=\"text-align: right;\">\n",
              "      <th></th>\n",
              "      <th>Summary</th>\n",
              "      <th>PrecipType</th>\n",
              "      <th>Temperature</th>\n",
              "      <th>ApparentTemperature</th>\n",
              "      <th>Humidity</th>\n",
              "      <th>WindSpeed</th>\n",
              "      <th>WindBearings</th>\n",
              "      <th>Visibilty</th>\n",
              "      <th>Pressure</th>\n",
              "    </tr>\n",
              "    <tr>\n",
              "      <th>date</th>\n",
              "      <th></th>\n",
              "      <th></th>\n",
              "      <th></th>\n",
              "      <th></th>\n",
              "      <th></th>\n",
              "      <th></th>\n",
              "      <th></th>\n",
              "      <th></th>\n",
              "      <th></th>\n",
              "    </tr>\n",
              "  </thead>\n",
              "  <tbody>\n",
              "    <tr>\n",
              "      <th>0</th>\n",
              "      <td>15</td>\n",
              "      <td>0</td>\n",
              "      <td>9.472222</td>\n",
              "      <td>7.388889</td>\n",
              "      <td>0.89</td>\n",
              "      <td>14.1197</td>\n",
              "      <td>251.0</td>\n",
              "      <td>15.8263</td>\n",
              "      <td>1015.13</td>\n",
              "    </tr>\n",
              "    <tr>\n",
              "      <th>1</th>\n",
              "      <td>15</td>\n",
              "      <td>0</td>\n",
              "      <td>9.355556</td>\n",
              "      <td>7.227778</td>\n",
              "      <td>0.86</td>\n",
              "      <td>14.2646</td>\n",
              "      <td>259.0</td>\n",
              "      <td>15.8263</td>\n",
              "      <td>1015.63</td>\n",
              "    </tr>\n",
              "    <tr>\n",
              "      <th>2</th>\n",
              "      <td>13</td>\n",
              "      <td>0</td>\n",
              "      <td>9.377778</td>\n",
              "      <td>9.377778</td>\n",
              "      <td>0.89</td>\n",
              "      <td>3.9284</td>\n",
              "      <td>204.0</td>\n",
              "      <td>14.9569</td>\n",
              "      <td>1015.94</td>\n",
              "    </tr>\n",
              "    <tr>\n",
              "      <th>3</th>\n",
              "      <td>15</td>\n",
              "      <td>0</td>\n",
              "      <td>8.288889</td>\n",
              "      <td>5.944444</td>\n",
              "      <td>0.83</td>\n",
              "      <td>14.1036</td>\n",
              "      <td>269.0</td>\n",
              "      <td>15.8263</td>\n",
              "      <td>1016.41</td>\n",
              "    </tr>\n",
              "    <tr>\n",
              "      <th>4</th>\n",
              "      <td>13</td>\n",
              "      <td>0</td>\n",
              "      <td>8.755556</td>\n",
              "      <td>6.977778</td>\n",
              "      <td>0.83</td>\n",
              "      <td>11.0446</td>\n",
              "      <td>259.0</td>\n",
              "      <td>15.8263</td>\n",
              "      <td>1016.51</td>\n",
              "    </tr>\n",
              "  </tbody>\n",
              "</table>\n",
              "</div>\n",
              "      <button class=\"colab-df-convert\" onclick=\"convertToInteractive('df-bc47ff09-b5fc-4313-986d-3006d5223b72')\"\n",
              "              title=\"Convert this dataframe to an interactive table.\"\n",
              "              style=\"display:none;\">\n",
              "        \n",
              "  <svg xmlns=\"http://www.w3.org/2000/svg\" height=\"24px\"viewBox=\"0 0 24 24\"\n",
              "       width=\"24px\">\n",
              "    <path d=\"M0 0h24v24H0V0z\" fill=\"none\"/>\n",
              "    <path d=\"M18.56 5.44l.94 2.06.94-2.06 2.06-.94-2.06-.94-.94-2.06-.94 2.06-2.06.94zm-11 1L8.5 8.5l.94-2.06 2.06-.94-2.06-.94L8.5 2.5l-.94 2.06-2.06.94zm10 10l.94 2.06.94-2.06 2.06-.94-2.06-.94-.94-2.06-.94 2.06-2.06.94z\"/><path d=\"M17.41 7.96l-1.37-1.37c-.4-.4-.92-.59-1.43-.59-.52 0-1.04.2-1.43.59L10.3 9.45l-7.72 7.72c-.78.78-.78 2.05 0 2.83L4 21.41c.39.39.9.59 1.41.59.51 0 1.02-.2 1.41-.59l7.78-7.78 2.81-2.81c.8-.78.8-2.07 0-2.86zM5.41 20L4 18.59l7.72-7.72 1.47 1.35L5.41 20z\"/>\n",
              "  </svg>\n",
              "      </button>\n",
              "      \n",
              "  <style>\n",
              "    .colab-df-container {\n",
              "      display:flex;\n",
              "      flex-wrap:wrap;\n",
              "      gap: 12px;\n",
              "    }\n",
              "\n",
              "    .colab-df-convert {\n",
              "      background-color: #E8F0FE;\n",
              "      border: none;\n",
              "      border-radius: 50%;\n",
              "      cursor: pointer;\n",
              "      display: none;\n",
              "      fill: #1967D2;\n",
              "      height: 32px;\n",
              "      padding: 0 0 0 0;\n",
              "      width: 32px;\n",
              "    }\n",
              "\n",
              "    .colab-df-convert:hover {\n",
              "      background-color: #E2EBFA;\n",
              "      box-shadow: 0px 1px 2px rgba(60, 64, 67, 0.3), 0px 1px 3px 1px rgba(60, 64, 67, 0.15);\n",
              "      fill: #174EA6;\n",
              "    }\n",
              "\n",
              "    [theme=dark] .colab-df-convert {\n",
              "      background-color: #3B4455;\n",
              "      fill: #D2E3FC;\n",
              "    }\n",
              "\n",
              "    [theme=dark] .colab-df-convert:hover {\n",
              "      background-color: #434B5C;\n",
              "      box-shadow: 0px 1px 3px 1px rgba(0, 0, 0, 0.15);\n",
              "      filter: drop-shadow(0px 1px 2px rgba(0, 0, 0, 0.3));\n",
              "      fill: #FFFFFF;\n",
              "    }\n",
              "  </style>\n",
              "\n",
              "      <script>\n",
              "        const buttonEl =\n",
              "          document.querySelector('#df-bc47ff09-b5fc-4313-986d-3006d5223b72 button.colab-df-convert');\n",
              "        buttonEl.style.display =\n",
              "          google.colab.kernel.accessAllowed ? 'block' : 'none';\n",
              "\n",
              "        async function convertToInteractive(key) {\n",
              "          const element = document.querySelector('#df-bc47ff09-b5fc-4313-986d-3006d5223b72');\n",
              "          const dataTable =\n",
              "            await google.colab.kernel.invokeFunction('convertToInteractive',\n",
              "                                                     [key], {});\n",
              "          if (!dataTable) return;\n",
              "\n",
              "          const docLinkHtml = 'Like what you see? Visit the ' +\n",
              "            '<a target=\"_blank\" href=https://colab.research.google.com/notebooks/data_table.ipynb>data table notebook</a>'\n",
              "            + ' to learn more about interactive tables.';\n",
              "          element.innerHTML = '';\n",
              "          dataTable['output_type'] = 'display_data';\n",
              "          await google.colab.output.renderOutput(dataTable, element);\n",
              "          const docLink = document.createElement('div');\n",
              "          docLink.innerHTML = docLinkHtml;\n",
              "          element.appendChild(docLink);\n",
              "        }\n",
              "      </script>\n",
              "    </div>\n",
              "  </div>\n",
              "  "
            ]
          },
          "metadata": {},
          "execution_count": 31
        }
      ],
      "source": [
        "df.head()"
      ]
    },
    {
      "cell_type": "code",
      "execution_count": null,
      "metadata": {
        "id": "K7LvL9-0xxAZ"
      },
      "outputs": [],
      "source": [
        "df=df.drop('ApparentTemperature',axis=1)"
      ]
    },
    {
      "cell_type": "code",
      "execution_count": null,
      "metadata": {
        "id": "JqiD3GvoxxAZ"
      },
      "outputs": [],
      "source": [
        "df.to_csv(\"weather.csv\")"
      ]
    },
    {
      "cell_type": "code",
      "execution_count": null,
      "metadata": {
        "colab": {
          "base_uri": "https://localhost:8080/",
          "height": 237
        },
        "id": "xThzmrlmxxAZ",
        "outputId": "0e59521b-96ab-4b06-ed4f-4cd59cd2cde4"
      },
      "outputs": [
        {
          "output_type": "execute_result",
          "data": {
            "text/plain": [
              "     Summary PrecipType  Temperature  Humidity  WindSpeed  WindBearings  \\\n",
              "date                                                                      \n",
              "0         15          0     9.472222      0.89    14.1197         251.0   \n",
              "1         15          0     9.355556      0.86    14.2646         259.0   \n",
              "2         13          0     9.377778      0.89     3.9284         204.0   \n",
              "3         15          0     8.288889      0.83    14.1036         269.0   \n",
              "4         13          0     8.755556      0.83    11.0446         259.0   \n",
              "\n",
              "      Visibilty  Pressure  \n",
              "date                       \n",
              "0       15.8263   1015.13  \n",
              "1       15.8263   1015.63  \n",
              "2       14.9569   1015.94  \n",
              "3       15.8263   1016.41  \n",
              "4       15.8263   1016.51  "
            ],
            "text/html": [
              "\n",
              "  <div id=\"df-6720c23d-2d8c-4a80-9214-13dd4f3cef41\">\n",
              "    <div class=\"colab-df-container\">\n",
              "      <div>\n",
              "<style scoped>\n",
              "    .dataframe tbody tr th:only-of-type {\n",
              "        vertical-align: middle;\n",
              "    }\n",
              "\n",
              "    .dataframe tbody tr th {\n",
              "        vertical-align: top;\n",
              "    }\n",
              "\n",
              "    .dataframe thead th {\n",
              "        text-align: right;\n",
              "    }\n",
              "</style>\n",
              "<table border=\"1\" class=\"dataframe\">\n",
              "  <thead>\n",
              "    <tr style=\"text-align: right;\">\n",
              "      <th></th>\n",
              "      <th>Summary</th>\n",
              "      <th>PrecipType</th>\n",
              "      <th>Temperature</th>\n",
              "      <th>Humidity</th>\n",
              "      <th>WindSpeed</th>\n",
              "      <th>WindBearings</th>\n",
              "      <th>Visibilty</th>\n",
              "      <th>Pressure</th>\n",
              "    </tr>\n",
              "    <tr>\n",
              "      <th>date</th>\n",
              "      <th></th>\n",
              "      <th></th>\n",
              "      <th></th>\n",
              "      <th></th>\n",
              "      <th></th>\n",
              "      <th></th>\n",
              "      <th></th>\n",
              "      <th></th>\n",
              "    </tr>\n",
              "  </thead>\n",
              "  <tbody>\n",
              "    <tr>\n",
              "      <th>0</th>\n",
              "      <td>15</td>\n",
              "      <td>0</td>\n",
              "      <td>9.472222</td>\n",
              "      <td>0.89</td>\n",
              "      <td>14.1197</td>\n",
              "      <td>251.0</td>\n",
              "      <td>15.8263</td>\n",
              "      <td>1015.13</td>\n",
              "    </tr>\n",
              "    <tr>\n",
              "      <th>1</th>\n",
              "      <td>15</td>\n",
              "      <td>0</td>\n",
              "      <td>9.355556</td>\n",
              "      <td>0.86</td>\n",
              "      <td>14.2646</td>\n",
              "      <td>259.0</td>\n",
              "      <td>15.8263</td>\n",
              "      <td>1015.63</td>\n",
              "    </tr>\n",
              "    <tr>\n",
              "      <th>2</th>\n",
              "      <td>13</td>\n",
              "      <td>0</td>\n",
              "      <td>9.377778</td>\n",
              "      <td>0.89</td>\n",
              "      <td>3.9284</td>\n",
              "      <td>204.0</td>\n",
              "      <td>14.9569</td>\n",
              "      <td>1015.94</td>\n",
              "    </tr>\n",
              "    <tr>\n",
              "      <th>3</th>\n",
              "      <td>15</td>\n",
              "      <td>0</td>\n",
              "      <td>8.288889</td>\n",
              "      <td>0.83</td>\n",
              "      <td>14.1036</td>\n",
              "      <td>269.0</td>\n",
              "      <td>15.8263</td>\n",
              "      <td>1016.41</td>\n",
              "    </tr>\n",
              "    <tr>\n",
              "      <th>4</th>\n",
              "      <td>13</td>\n",
              "      <td>0</td>\n",
              "      <td>8.755556</td>\n",
              "      <td>0.83</td>\n",
              "      <td>11.0446</td>\n",
              "      <td>259.0</td>\n",
              "      <td>15.8263</td>\n",
              "      <td>1016.51</td>\n",
              "    </tr>\n",
              "  </tbody>\n",
              "</table>\n",
              "</div>\n",
              "      <button class=\"colab-df-convert\" onclick=\"convertToInteractive('df-6720c23d-2d8c-4a80-9214-13dd4f3cef41')\"\n",
              "              title=\"Convert this dataframe to an interactive table.\"\n",
              "              style=\"display:none;\">\n",
              "        \n",
              "  <svg xmlns=\"http://www.w3.org/2000/svg\" height=\"24px\"viewBox=\"0 0 24 24\"\n",
              "       width=\"24px\">\n",
              "    <path d=\"M0 0h24v24H0V0z\" fill=\"none\"/>\n",
              "    <path d=\"M18.56 5.44l.94 2.06.94-2.06 2.06-.94-2.06-.94-.94-2.06-.94 2.06-2.06.94zm-11 1L8.5 8.5l.94-2.06 2.06-.94-2.06-.94L8.5 2.5l-.94 2.06-2.06.94zm10 10l.94 2.06.94-2.06 2.06-.94-2.06-.94-.94-2.06-.94 2.06-2.06.94z\"/><path d=\"M17.41 7.96l-1.37-1.37c-.4-.4-.92-.59-1.43-.59-.52 0-1.04.2-1.43.59L10.3 9.45l-7.72 7.72c-.78.78-.78 2.05 0 2.83L4 21.41c.39.39.9.59 1.41.59.51 0 1.02-.2 1.41-.59l7.78-7.78 2.81-2.81c.8-.78.8-2.07 0-2.86zM5.41 20L4 18.59l7.72-7.72 1.47 1.35L5.41 20z\"/>\n",
              "  </svg>\n",
              "      </button>\n",
              "      \n",
              "  <style>\n",
              "    .colab-df-container {\n",
              "      display:flex;\n",
              "      flex-wrap:wrap;\n",
              "      gap: 12px;\n",
              "    }\n",
              "\n",
              "    .colab-df-convert {\n",
              "      background-color: #E8F0FE;\n",
              "      border: none;\n",
              "      border-radius: 50%;\n",
              "      cursor: pointer;\n",
              "      display: none;\n",
              "      fill: #1967D2;\n",
              "      height: 32px;\n",
              "      padding: 0 0 0 0;\n",
              "      width: 32px;\n",
              "    }\n",
              "\n",
              "    .colab-df-convert:hover {\n",
              "      background-color: #E2EBFA;\n",
              "      box-shadow: 0px 1px 2px rgba(60, 64, 67, 0.3), 0px 1px 3px 1px rgba(60, 64, 67, 0.15);\n",
              "      fill: #174EA6;\n",
              "    }\n",
              "\n",
              "    [theme=dark] .colab-df-convert {\n",
              "      background-color: #3B4455;\n",
              "      fill: #D2E3FC;\n",
              "    }\n",
              "\n",
              "    [theme=dark] .colab-df-convert:hover {\n",
              "      background-color: #434B5C;\n",
              "      box-shadow: 0px 1px 3px 1px rgba(0, 0, 0, 0.15);\n",
              "      filter: drop-shadow(0px 1px 2px rgba(0, 0, 0, 0.3));\n",
              "      fill: #FFFFFF;\n",
              "    }\n",
              "  </style>\n",
              "\n",
              "      <script>\n",
              "        const buttonEl =\n",
              "          document.querySelector('#df-6720c23d-2d8c-4a80-9214-13dd4f3cef41 button.colab-df-convert');\n",
              "        buttonEl.style.display =\n",
              "          google.colab.kernel.accessAllowed ? 'block' : 'none';\n",
              "\n",
              "        async function convertToInteractive(key) {\n",
              "          const element = document.querySelector('#df-6720c23d-2d8c-4a80-9214-13dd4f3cef41');\n",
              "          const dataTable =\n",
              "            await google.colab.kernel.invokeFunction('convertToInteractive',\n",
              "                                                     [key], {});\n",
              "          if (!dataTable) return;\n",
              "\n",
              "          const docLinkHtml = 'Like what you see? Visit the ' +\n",
              "            '<a target=\"_blank\" href=https://colab.research.google.com/notebooks/data_table.ipynb>data table notebook</a>'\n",
              "            + ' to learn more about interactive tables.';\n",
              "          element.innerHTML = '';\n",
              "          dataTable['output_type'] = 'display_data';\n",
              "          await google.colab.output.renderOutput(dataTable, element);\n",
              "          const docLink = document.createElement('div');\n",
              "          docLink.innerHTML = docLinkHtml;\n",
              "          element.appendChild(docLink);\n",
              "        }\n",
              "      </script>\n",
              "    </div>\n",
              "  </div>\n",
              "  "
            ]
          },
          "metadata": {},
          "execution_count": 34
        }
      ],
      "source": [
        "df.head()"
      ]
    },
    {
      "cell_type": "code",
      "execution_count": null,
      "metadata": {
        "colab": {
          "base_uri": "https://localhost:8080/"
        },
        "id": "5RCmZX3wxxAa",
        "outputId": "7c79a32e-30b6-4ce4-da65-b8c576a342c9"
      },
      "outputs": [
        {
          "output_type": "stream",
          "name": "stdout",
          "text": [
            "-16.666666666666668\n"
          ]
        },
        {
          "output_type": "execute_result",
          "data": {
            "text/plain": [
              "39.90555555555555"
            ]
          },
          "metadata": {},
          "execution_count": 35
        }
      ],
      "source": [
        "data=df.values\n",
        "print(df.Temperature.min())\n",
        "df.Temperature.max()"
      ]
    },
    {
      "cell_type": "code",
      "execution_count": null,
      "metadata": {
        "id": "EdL3tRJcxxAa"
      },
      "outputs": [],
      "source": [
        "# ensure all data is float\n",
        "data=data.astype('float32')"
      ]
    },
    {
      "cell_type": "code",
      "execution_count": null,
      "metadata": {
        "id": "3nFoafAaxxAa"
      },
      "outputs": [],
      "source": [
        "# normalize features\n",
        "scaler=MinMaxScaler(feature_range=(0,1))\n",
        "scaled = scaler.fit_transform(data)"
      ]
    },
    {
      "cell_type": "code",
      "execution_count": null,
      "metadata": {
        "id": "6MTfcULAxxAa"
      },
      "outputs": [],
      "source": [
        "# specify no. of lag hours\n",
        "n_hours = 3\n",
        "n_features = 8"
      ]
    },
    {
      "cell_type": "code",
      "execution_count": null,
      "metadata": {
        "colab": {
          "base_uri": "https://localhost:8080/"
        },
        "id": "EYDwTl6zxxAa",
        "outputId": "33c49d3f-789d-4fb3-bd27-ceb611d2313e"
      },
      "outputs": [
        {
          "output_type": "stream",
          "name": "stdout",
          "text": [
            "(49162, 32)\n"
          ]
        }
      ],
      "source": [
        "# frame as supervised learning\n",
        "reframed = series_to_supervised(scaled,n_hours,1)\n",
        "print(reframed.shape)"
      ]
    },
    {
      "cell_type": "code",
      "execution_count": null,
      "metadata": {
        "colab": {
          "base_uri": "https://localhost:8080/"
        },
        "id": "y5kDUhLGxxAa",
        "outputId": "6adb00c2-f4bb-4bbe-cb7e-6b740eafca49"
      },
      "outputs": [
        {
          "output_type": "stream",
          "name": "stdout",
          "text": [
            "       var1(t-3)  var2(t-3)  var3(t-3)  var4(t-3)  var5(t-3)  var6(t-3)  \\\n",
            "3           0.75        0.0   0.462045       0.89   0.221130   0.699164   \n",
            "4           0.75        0.0   0.459982       0.86   0.223399   0.721448   \n",
            "5           0.65        0.0   0.460375       0.89   0.061523   0.568245   \n",
            "6           0.75        0.0   0.441127       0.83   0.220877   0.749304   \n",
            "7           0.65        0.0   0.449376       0.83   0.172970   0.721448   \n",
            "...          ...        ...        ...        ...        ...        ...   \n",
            "49160       0.70        0.0   0.419130       0.93   0.262985   0.420613   \n",
            "49161       0.65        0.0   0.418246       0.93   0.190872   0.445682   \n",
            "49162       0.65        0.0   0.430129       0.89   0.222138   0.420613   \n",
            "49163       0.65        0.0   0.433762       0.89   0.217347   0.473538   \n",
            "49164       0.65        0.0   0.455072       0.88   0.211548   0.445682   \n",
            "\n",
            "       var7(t-3)  var8(t-3)  var1(t-2)  var2(t-2)  ...  var7(t-1)  var8(t-1)  \\\n",
            "3          0.983   0.970135       0.75        0.0  ...      0.929   0.970909   \n",
            "4          0.983   0.970613       0.65        0.0  ...      0.983   0.971358   \n",
            "5          0.929   0.970909       0.75        0.0  ...      0.983   0.971454   \n",
            "6          0.983   0.971358       0.65        0.0  ...      0.929   0.971597   \n",
            "7          0.983   0.971454       0.75        0.0  ...      0.620   0.971655   \n",
            "...          ...        ...        ...        ...  ...        ...        ...   \n",
            "49160      0.615   0.966427       0.65        0.0  ...      0.631   0.967096   \n",
            "49161      0.606   0.966895       0.65        0.0  ...      0.620   0.967287   \n",
            "49162      0.631   0.967096       0.65        0.0  ...      0.620   0.967660   \n",
            "49163      0.620   0.967287       0.65        0.0  ...      0.688   0.967966   \n",
            "49164      0.620   0.967660       0.65        0.0  ...      0.700   0.968233   \n",
            "\n",
            "       var1(t)  var2(t)   var3(t)  var4(t)   var5(t)   var6(t)  var7(t)  \\\n",
            "3         0.75      0.0  0.441127     0.83  0.220877  0.749304    0.983   \n",
            "4         0.65      0.0  0.449376     0.83  0.172970  0.721448    0.983   \n",
            "5         0.75      0.0  0.457626     0.85  0.218608  0.718663    0.929   \n",
            "6         0.75      0.0  0.431307     0.95  0.193646  0.721448    0.620   \n",
            "7         0.75      0.0  0.449671     0.89  0.221634  0.724234    0.620   \n",
            "...        ...      ...       ...      ...       ...       ...      ...   \n",
            "49160     0.65      0.0  0.433762     0.89  0.217347  0.473538    0.620   \n",
            "49161     0.65      0.0  0.455072     0.88  0.211548  0.445682    0.620   \n",
            "49162     0.65      0.0  0.474615     0.83  0.166667  0.462396    0.688   \n",
            "49163     0.65      0.0  0.476971     0.84  0.104387  0.459610    0.700   \n",
            "49164     0.75      0.0  0.492586     0.79  0.111195  0.646240    0.700   \n",
            "\n",
            "        var8(t)  \n",
            "3      0.971358  \n",
            "4      0.971454  \n",
            "5      0.971597  \n",
            "6      0.971655  \n",
            "7      0.971769  \n",
            "...         ...  \n",
            "49160  0.967287  \n",
            "49161  0.967660  \n",
            "49162  0.967966  \n",
            "49163  0.968233  \n",
            "49164  0.000000  \n",
            "\n",
            "[49162 rows x 32 columns]\n"
          ]
        }
      ],
      "source": [
        "print(reframed)"
      ]
    },
    {
      "cell_type": "code",
      "execution_count": null,
      "metadata": {
        "id": "6GxTT7yBxxAb"
      },
      "outputs": [],
      "source": [
        "values = reframed.values"
      ]
    },
    {
      "cell_type": "code",
      "execution_count": null,
      "metadata": {
        "id": "Ft6we1A5xxAb"
      },
      "outputs": [],
      "source": [
        "n_train_hours=365*24"
      ]
    },
    {
      "cell_type": "code",
      "execution_count": null,
      "metadata": {
        "id": "aPIzq0-4xxAb"
      },
      "outputs": [],
      "source": [
        "train = values[:n_train_hours,:]\n",
        "test = values[n_train_hours:, : ]"
      ]
    },
    {
      "cell_type": "code",
      "execution_count": null,
      "metadata": {
        "id": "51OqNKzaxxAb"
      },
      "outputs": [],
      "source": [
        "# split into input and outputs\n",
        "n_obs = n_hours * n_features\n",
        "train_X,train_Y = train[:,:n_obs],train[:,-6]   # as at 6th no. from last is temp. our o/p var\n",
        "test_X,test_Y = test[:,:n_obs],test[:,-6]"
      ]
    },
    {
      "cell_type": "code",
      "execution_count": null,
      "metadata": {
        "colab": {
          "base_uri": "https://localhost:8080/"
        },
        "id": "azv0VzAOxxAb",
        "outputId": "098f0c30-2260-4f52-e679-9841774d7b4c"
      },
      "outputs": [
        {
          "output_type": "stream",
          "name": "stdout",
          "text": [
            "[0.49661204 0.4954336  0.4788373  ... 0.4746146  0.47697145 0.49258572]\n"
          ]
        }
      ],
      "source": [
        "print(test_Y)"
      ]
    },
    {
      "cell_type": "code",
      "execution_count": null,
      "metadata": {
        "colab": {
          "base_uri": "https://localhost:8080/"
        },
        "id": "7Q9W8edBxxAb",
        "outputId": "8c8a3554-0f6d-40b6-d810-65bfe61cee97"
      },
      "outputs": [
        {
          "output_type": "stream",
          "name": "stdout",
          "text": [
            "(8760, 24) 8760 (8760,)\n"
          ]
        }
      ],
      "source": [
        "print(train_X.shape,len(train_X),train_Y.shape)"
      ]
    },
    {
      "cell_type": "code",
      "execution_count": null,
      "metadata": {
        "colab": {
          "base_uri": "https://localhost:8080/"
        },
        "id": "TeIsZw13xxAb",
        "outputId": "83f3d698-5d15-4bf6-e048-eb993b8ffbee"
      },
      "outputs": [
        {
          "output_type": "stream",
          "name": "stdout",
          "text": [
            "(8760, 3, 8) (8760,) (40402, 3, 8) (40402,)\n"
          ]
        }
      ],
      "source": [
        "# reshape input to be 3D [samples, timesteps, fetures]\n",
        "train_X = train_X.reshape((train_X.shape[0],n_hours,n_features))\n",
        "test_X = test_X.reshape((test_X.shape[0],n_hours,n_features))  # 24 = 3 * 8\n",
        "print(train_X.shape, train_Y.shape, test_X.shape, test_Y.shape)"
      ]
    },
    {
      "cell_type": "code",
      "execution_count": null,
      "metadata": {
        "colab": {
          "base_uri": "https://localhost:8080/"
        },
        "id": "taelQCF_xxAc",
        "outputId": "1af33aa4-b5e4-4321-f10e-cd4d1d92740f"
      },
      "outputs": [
        {
          "output_type": "stream",
          "name": "stdout",
          "text": [
            "16\n"
          ]
        }
      ],
      "source": [
        "hidden_nodes = int(2/3 * (train_X.shape[1] * train_X.shape[2]))\n",
        "print(hidden_nodes)"
      ]
    },
    {
      "cell_type": "code",
      "execution_count": null,
      "metadata": {
        "id": "k9SOg4bGxxAc"
      },
      "outputs": [],
      "source": [
        "# design network\n",
        "model = Sequential()\n",
        "model.add(LSTM(30, input_shape=(train_X.shape[1], train_X.shape[2])))    # input_shape=(no. of i/p, dimension), result=(1,50)\n",
        "# test\n",
        "model.add(Dense(256,name='FC1'))  #256\n",
        "model.add(Activation('relu'))\n",
        "model.add(Dropout(0.2))\n",
        "# end\n",
        "model.add(Dense(1,name='out_layer'))\n",
        "model.compile(loss='mean_squared_error',optimizer='adam', metrics=['mean_squared_error'])"
      ]
    },
    {
      "cell_type": "code",
      "execution_count": null,
      "metadata": {
        "colab": {
          "base_uri": "https://localhost:8080/"
        },
        "id": "PWpTxc9WxxAc",
        "outputId": "9d2e746c-380f-4476-a2de-55eae31bb3c8"
      },
      "outputs": [
        {
          "output_type": "stream",
          "name": "stdout",
          "text": [
            "Model: \"sequential\"\n",
            "_________________________________________________________________\n",
            " Layer (type)                Output Shape              Param #   \n",
            "=================================================================\n",
            " lstm (LSTM)                 (None, 30)                4680      \n",
            "                                                                 \n",
            " FC1 (Dense)                 (None, 256)               7936      \n",
            "                                                                 \n",
            " activation (Activation)     (None, 256)               0         \n",
            "                                                                 \n",
            " dropout (Dropout)           (None, 256)               0         \n",
            "                                                                 \n",
            " out_layer (Dense)           (None, 1)                 257       \n",
            "                                                                 \n",
            "=================================================================\n",
            "Total params: 12,873\n",
            "Trainable params: 12,873\n",
            "Non-trainable params: 0\n",
            "_________________________________________________________________\n"
          ]
        }
      ],
      "source": [
        "model.summary()"
      ]
    },
    {
      "cell_type": "code",
      "execution_count": null,
      "metadata": {
        "colab": {
          "base_uri": "https://localhost:8080/"
        },
        "id": "yx30NFWRxxAc",
        "outputId": "50680c76-e931-46c1-d7c4-f783a89d0e02"
      },
      "outputs": [
        {
          "output_type": "stream",
          "name": "stdout",
          "text": [
            "Epoch 1/100\n",
            "69/69 - 5s - loss: 0.0633 - mean_squared_error: 0.0633 - val_loss: 0.0167 - val_mean_squared_error: 0.0167 - 5s/epoch - 76ms/step\n",
            "Epoch 2/100\n",
            "69/69 - 1s - loss: 0.0194 - mean_squared_error: 0.0194 - val_loss: 0.0092 - val_mean_squared_error: 0.0092 - 1s/epoch - 16ms/step\n",
            "Epoch 3/100\n",
            "69/69 - 2s - loss: 0.0107 - mean_squared_error: 0.0107 - val_loss: 0.0071 - val_mean_squared_error: 0.0071 - 2s/epoch - 24ms/step\n",
            "Epoch 4/100\n",
            "69/69 - 2s - loss: 0.0065 - mean_squared_error: 0.0065 - val_loss: 0.0031 - val_mean_squared_error: 0.0031 - 2s/epoch - 27ms/step\n",
            "Epoch 5/100\n",
            "69/69 - 1s - loss: 0.0045 - mean_squared_error: 0.0045 - val_loss: 0.0024 - val_mean_squared_error: 0.0024 - 1s/epoch - 17ms/step\n",
            "Epoch 6/100\n",
            "69/69 - 2s - loss: 0.0037 - mean_squared_error: 0.0037 - val_loss: 0.0021 - val_mean_squared_error: 0.0021 - 2s/epoch - 24ms/step\n",
            "Epoch 7/100\n",
            "69/69 - 1s - loss: 0.0032 - mean_squared_error: 0.0032 - val_loss: 0.0022 - val_mean_squared_error: 0.0022 - 1s/epoch - 15ms/step\n",
            "Epoch 8/100\n",
            "69/69 - 1s - loss: 0.0030 - mean_squared_error: 0.0030 - val_loss: 0.0020 - val_mean_squared_error: 0.0020 - 1s/epoch - 15ms/step\n",
            "Epoch 9/100\n",
            "69/69 - 2s - loss: 0.0028 - mean_squared_error: 0.0028 - val_loss: 0.0022 - val_mean_squared_error: 0.0022 - 2s/epoch - 24ms/step\n",
            "Epoch 10/100\n",
            "69/69 - 1s - loss: 0.0027 - mean_squared_error: 0.0027 - val_loss: 0.0021 - val_mean_squared_error: 0.0021 - 1s/epoch - 15ms/step\n",
            "Epoch 11/100\n",
            "69/69 - 1s - loss: 0.0027 - mean_squared_error: 0.0027 - val_loss: 0.0021 - val_mean_squared_error: 0.0021 - 1s/epoch - 15ms/step\n",
            "Epoch 12/100\n",
            "69/69 - 1s - loss: 0.0026 - mean_squared_error: 0.0026 - val_loss: 0.0018 - val_mean_squared_error: 0.0018 - 1s/epoch - 15ms/step\n",
            "Epoch 13/100\n",
            "69/69 - 2s - loss: 0.0025 - mean_squared_error: 0.0025 - val_loss: 0.0019 - val_mean_squared_error: 0.0019 - 2s/epoch - 24ms/step\n",
            "Epoch 14/100\n",
            "69/69 - 2s - loss: 0.0025 - mean_squared_error: 0.0025 - val_loss: 0.0020 - val_mean_squared_error: 0.0020 - 2s/epoch - 23ms/step\n",
            "Epoch 15/100\n",
            "69/69 - 1s - loss: 0.0024 - mean_squared_error: 0.0024 - val_loss: 0.0016 - val_mean_squared_error: 0.0016 - 1s/epoch - 15ms/step\n",
            "Epoch 16/100\n",
            "69/69 - 2s - loss: 0.0025 - mean_squared_error: 0.0025 - val_loss: 0.0018 - val_mean_squared_error: 0.0018 - 2s/epoch - 24ms/step\n",
            "Epoch 17/100\n",
            "69/69 - 2s - loss: 0.0022 - mean_squared_error: 0.0022 - val_loss: 0.0015 - val_mean_squared_error: 0.0015 - 2s/epoch - 24ms/step\n",
            "Epoch 18/100\n",
            "69/69 - 2s - loss: 0.0022 - mean_squared_error: 0.0022 - val_loss: 0.0016 - val_mean_squared_error: 0.0016 - 2s/epoch - 24ms/step\n",
            "Epoch 19/100\n",
            "69/69 - 1s - loss: 0.0023 - mean_squared_error: 0.0023 - val_loss: 0.0015 - val_mean_squared_error: 0.0015 - 1s/epoch - 16ms/step\n",
            "Epoch 20/100\n",
            "69/69 - 1s - loss: 0.0022 - mean_squared_error: 0.0022 - val_loss: 0.0016 - val_mean_squared_error: 0.0016 - 1s/epoch - 16ms/step\n",
            "Epoch 21/100\n",
            "69/69 - 2s - loss: 0.0021 - mean_squared_error: 0.0021 - val_loss: 0.0013 - val_mean_squared_error: 0.0013 - 2s/epoch - 24ms/step\n",
            "Epoch 22/100\n",
            "69/69 - 2s - loss: 0.0021 - mean_squared_error: 0.0021 - val_loss: 0.0015 - val_mean_squared_error: 0.0015 - 2s/epoch - 28ms/step\n",
            "Epoch 23/100\n",
            "69/69 - 2s - loss: 0.0021 - mean_squared_error: 0.0021 - val_loss: 0.0014 - val_mean_squared_error: 0.0014 - 2s/epoch - 28ms/step\n",
            "Epoch 24/100\n",
            "69/69 - 1s - loss: 0.0021 - mean_squared_error: 0.0021 - val_loss: 0.0014 - val_mean_squared_error: 0.0014 - 1s/epoch - 17ms/step\n",
            "Epoch 25/100\n",
            "69/69 - 2s - loss: 0.0020 - mean_squared_error: 0.0020 - val_loss: 0.0013 - val_mean_squared_error: 0.0013 - 2s/epoch - 25ms/step\n",
            "Epoch 26/100\n",
            "69/69 - 1s - loss: 0.0019 - mean_squared_error: 0.0019 - val_loss: 0.0013 - val_mean_squared_error: 0.0013 - 1s/epoch - 15ms/step\n",
            "Epoch 27/100\n",
            "69/69 - 1s - loss: 0.0019 - mean_squared_error: 0.0019 - val_loss: 0.0013 - val_mean_squared_error: 0.0013 - 1s/epoch - 17ms/step\n",
            "Epoch 28/100\n",
            "69/69 - 2s - loss: 0.0019 - mean_squared_error: 0.0019 - val_loss: 0.0013 - val_mean_squared_error: 0.0013 - 2s/epoch - 24ms/step\n",
            "Epoch 29/100\n",
            "69/69 - 2s - loss: 0.0019 - mean_squared_error: 0.0019 - val_loss: 0.0013 - val_mean_squared_error: 0.0013 - 2s/epoch - 24ms/step\n",
            "Epoch 30/100\n",
            "69/69 - 2s - loss: 0.0019 - mean_squared_error: 0.0019 - val_loss: 0.0013 - val_mean_squared_error: 0.0013 - 2s/epoch - 26ms/step\n",
            "Epoch 31/100\n",
            "69/69 - 2s - loss: 0.0020 - mean_squared_error: 0.0020 - val_loss: 0.0014 - val_mean_squared_error: 0.0014 - 2s/epoch - 27ms/step\n",
            "Epoch 32/100\n",
            "69/69 - 1s - loss: 0.0020 - mean_squared_error: 0.0020 - val_loss: 0.0013 - val_mean_squared_error: 0.0013 - 1s/epoch - 15ms/step\n",
            "Epoch 33/100\n",
            "69/69 - 1s - loss: 0.0019 - mean_squared_error: 0.0019 - val_loss: 0.0013 - val_mean_squared_error: 0.0013 - 1s/epoch - 16ms/step\n",
            "Epoch 34/100\n",
            "69/69 - 2s - loss: 0.0018 - mean_squared_error: 0.0018 - val_loss: 0.0011 - val_mean_squared_error: 0.0011 - 2s/epoch - 24ms/step\n",
            "Epoch 35/100\n",
            "69/69 - 2s - loss: 0.0018 - mean_squared_error: 0.0018 - val_loss: 0.0012 - val_mean_squared_error: 0.0012 - 2s/epoch - 24ms/step\n",
            "Epoch 36/100\n",
            "69/69 - 1s - loss: 0.0017 - mean_squared_error: 0.0017 - val_loss: 0.0011 - val_mean_squared_error: 0.0011 - 1s/epoch - 15ms/step\n",
            "Epoch 37/100\n",
            "69/69 - 1s - loss: 0.0017 - mean_squared_error: 0.0017 - val_loss: 0.0011 - val_mean_squared_error: 0.0011 - 1s/epoch - 15ms/step\n",
            "Epoch 38/100\n",
            "69/69 - 2s - loss: 0.0017 - mean_squared_error: 0.0017 - val_loss: 0.0011 - val_mean_squared_error: 0.0011 - 2s/epoch - 24ms/step\n",
            "Epoch 39/100\n",
            "69/69 - 2s - loss: 0.0016 - mean_squared_error: 0.0016 - val_loss: 0.0012 - val_mean_squared_error: 0.0012 - 2s/epoch - 28ms/step\n",
            "Epoch 40/100\n",
            "69/69 - 2s - loss: 0.0016 - mean_squared_error: 0.0016 - val_loss: 0.0011 - val_mean_squared_error: 0.0011 - 2s/epoch - 29ms/step\n",
            "Epoch 41/100\n",
            "69/69 - 1s - loss: 0.0015 - mean_squared_error: 0.0015 - val_loss: 0.0010 - val_mean_squared_error: 0.0010 - 1s/epoch - 19ms/step\n",
            "Epoch 42/100\n",
            "69/69 - 1s - loss: 0.0016 - mean_squared_error: 0.0016 - val_loss: 0.0012 - val_mean_squared_error: 0.0012 - 1s/epoch - 15ms/step\n",
            "Epoch 43/100\n",
            "69/69 - 2s - loss: 0.0017 - mean_squared_error: 0.0017 - val_loss: 0.0011 - val_mean_squared_error: 0.0011 - 2s/epoch - 24ms/step\n",
            "Epoch 44/100\n",
            "69/69 - 1s - loss: 0.0016 - mean_squared_error: 0.0016 - val_loss: 0.0010 - val_mean_squared_error: 0.0010 - 1s/epoch - 15ms/step\n",
            "Epoch 45/100\n",
            "69/69 - 2s - loss: 0.0016 - mean_squared_error: 0.0016 - val_loss: 0.0012 - val_mean_squared_error: 0.0012 - 2s/epoch - 24ms/step\n",
            "Epoch 46/100\n",
            "69/69 - 1s - loss: 0.0017 - mean_squared_error: 0.0017 - val_loss: 0.0011 - val_mean_squared_error: 0.0011 - 988ms/epoch - 14ms/step\n",
            "Epoch 47/100\n",
            "69/69 - 1s - loss: 0.0015 - mean_squared_error: 0.0015 - val_loss: 0.0010 - val_mean_squared_error: 0.0010 - 999ms/epoch - 14ms/step\n",
            "Epoch 48/100\n",
            "69/69 - 1s - loss: 0.0015 - mean_squared_error: 0.0015 - val_loss: 0.0010 - val_mean_squared_error: 0.0010 - 999ms/epoch - 14ms/step\n",
            "Epoch 49/100\n",
            "69/69 - 2s - loss: 0.0015 - mean_squared_error: 0.0015 - val_loss: 0.0011 - val_mean_squared_error: 0.0011 - 2s/epoch - 24ms/step\n",
            "Epoch 50/100\n",
            "69/69 - 2s - loss: 0.0015 - mean_squared_error: 0.0015 - val_loss: 0.0010 - val_mean_squared_error: 0.0010 - 2s/epoch - 27ms/step\n",
            "Epoch 51/100\n",
            "69/69 - 1s - loss: 0.0015 - mean_squared_error: 0.0015 - val_loss: 0.0010 - val_mean_squared_error: 0.0010 - 1s/epoch - 15ms/step\n",
            "Epoch 52/100\n",
            "69/69 - 1s - loss: 0.0015 - mean_squared_error: 0.0015 - val_loss: 0.0011 - val_mean_squared_error: 0.0011 - 1s/epoch - 15ms/step\n",
            "Epoch 53/100\n",
            "69/69 - 1s - loss: 0.0017 - mean_squared_error: 0.0017 - val_loss: 0.0012 - val_mean_squared_error: 0.0012 - 986ms/epoch - 14ms/step\n",
            "Epoch 54/100\n",
            "69/69 - 1s - loss: 0.0017 - mean_squared_error: 0.0017 - val_loss: 9.8809e-04 - val_mean_squared_error: 9.8809e-04 - 1s/epoch - 15ms/step\n",
            "Epoch 55/100\n",
            "69/69 - 1s - loss: 0.0016 - mean_squared_error: 0.0016 - val_loss: 0.0010 - val_mean_squared_error: 0.0010 - 1s/epoch - 15ms/step\n",
            "Epoch 56/100\n",
            "69/69 - 2s - loss: 0.0015 - mean_squared_error: 0.0015 - val_loss: 0.0010 - val_mean_squared_error: 0.0010 - 2s/epoch - 24ms/step\n",
            "Epoch 57/100\n",
            "69/69 - 2s - loss: 0.0014 - mean_squared_error: 0.0014 - val_loss: 9.3104e-04 - val_mean_squared_error: 9.3104e-04 - 2s/epoch - 24ms/step\n",
            "Epoch 58/100\n",
            "69/69 - 1s - loss: 0.0013 - mean_squared_error: 0.0013 - val_loss: 9.2689e-04 - val_mean_squared_error: 9.2689e-04 - 1s/epoch - 15ms/step\n",
            "Epoch 59/100\n",
            "69/69 - 2s - loss: 0.0014 - mean_squared_error: 0.0014 - val_loss: 9.9236e-04 - val_mean_squared_error: 9.9236e-04 - 2s/epoch - 25ms/step\n",
            "Epoch 60/100\n",
            "69/69 - 1s - loss: 0.0014 - mean_squared_error: 0.0014 - val_loss: 9.6249e-04 - val_mean_squared_error: 9.6249e-04 - 1s/epoch - 20ms/step\n",
            "Epoch 61/100\n",
            "69/69 - 2s - loss: 0.0013 - mean_squared_error: 0.0013 - val_loss: 9.2832e-04 - val_mean_squared_error: 9.2832e-04 - 2s/epoch - 24ms/step\n",
            "Epoch 62/100\n",
            "69/69 - 2s - loss: 0.0013 - mean_squared_error: 0.0013 - val_loss: 9.8449e-04 - val_mean_squared_error: 9.8449e-04 - 2s/epoch - 24ms/step\n",
            "Epoch 63/100\n",
            "69/69 - 1s - loss: 0.0014 - mean_squared_error: 0.0014 - val_loss: 9.7974e-04 - val_mean_squared_error: 9.7974e-04 - 1s/epoch - 15ms/step\n",
            "Epoch 64/100\n",
            "69/69 - 1s - loss: 0.0014 - mean_squared_error: 0.0014 - val_loss: 9.6478e-04 - val_mean_squared_error: 9.6478e-04 - 1s/epoch - 15ms/step\n",
            "Epoch 65/100\n",
            "69/69 - 1s - loss: 0.0014 - mean_squared_error: 0.0014 - val_loss: 9.4104e-04 - val_mean_squared_error: 9.4104e-04 - 1s/epoch - 15ms/step\n",
            "Epoch 66/100\n",
            "69/69 - 1s - loss: 0.0014 - mean_squared_error: 0.0014 - val_loss: 9.5382e-04 - val_mean_squared_error: 9.5382e-04 - 990ms/epoch - 14ms/step\n",
            "Epoch 67/100\n",
            "69/69 - 1s - loss: 0.0014 - mean_squared_error: 0.0014 - val_loss: 9.3268e-04 - val_mean_squared_error: 9.3268e-04 - 993ms/epoch - 14ms/step\n",
            "Epoch 68/100\n",
            "69/69 - 1s - loss: 0.0013 - mean_squared_error: 0.0013 - val_loss: 9.2580e-04 - val_mean_squared_error: 9.2580e-04 - 955ms/epoch - 14ms/step\n",
            "Epoch 69/100\n",
            "69/69 - 1s - loss: 0.0013 - mean_squared_error: 0.0013 - val_loss: 8.8151e-04 - val_mean_squared_error: 8.8151e-04 - 1s/epoch - 21ms/step\n",
            "Epoch 70/100\n",
            "69/69 - 2s - loss: 0.0013 - mean_squared_error: 0.0013 - val_loss: 9.0419e-04 - val_mean_squared_error: 9.0419e-04 - 2s/epoch - 22ms/step\n",
            "Epoch 71/100\n",
            "69/69 - 1s - loss: 0.0013 - mean_squared_error: 0.0013 - val_loss: 9.3257e-04 - val_mean_squared_error: 9.3257e-04 - 1s/epoch - 15ms/step\n",
            "Epoch 72/100\n",
            "69/69 - 2s - loss: 0.0013 - mean_squared_error: 0.0013 - val_loss: 9.0938e-04 - val_mean_squared_error: 9.0938e-04 - 2s/epoch - 28ms/step\n",
            "Epoch 73/100\n",
            "69/69 - 1s - loss: 0.0013 - mean_squared_error: 0.0013 - val_loss: 9.3863e-04 - val_mean_squared_error: 9.3863e-04 - 997ms/epoch - 14ms/step\n",
            "Epoch 74/100\n",
            "69/69 - 1s - loss: 0.0013 - mean_squared_error: 0.0013 - val_loss: 9.2003e-04 - val_mean_squared_error: 9.2003e-04 - 1s/epoch - 15ms/step\n",
            "Epoch 75/100\n",
            "69/69 - 1s - loss: 0.0013 - mean_squared_error: 0.0013 - val_loss: 9.0149e-04 - val_mean_squared_error: 9.0149e-04 - 1s/epoch - 15ms/step\n",
            "Epoch 76/100\n",
            "69/69 - 1s - loss: 0.0012 - mean_squared_error: 0.0012 - val_loss: 8.7612e-04 - val_mean_squared_error: 8.7612e-04 - 962ms/epoch - 14ms/step\n",
            "Epoch 77/100\n",
            "69/69 - 1s - loss: 0.0012 - mean_squared_error: 0.0012 - val_loss: 9.6516e-04 - val_mean_squared_error: 9.6516e-04 - 976ms/epoch - 14ms/step\n",
            "Epoch 78/100\n",
            "69/69 - 1s - loss: 0.0013 - mean_squared_error: 0.0013 - val_loss: 9.6637e-04 - val_mean_squared_error: 9.6637e-04 - 989ms/epoch - 14ms/step\n",
            "Epoch 79/100\n",
            "69/69 - 1s - loss: 0.0012 - mean_squared_error: 0.0012 - val_loss: 8.7553e-04 - val_mean_squared_error: 8.7553e-04 - 1s/epoch - 15ms/step\n",
            "Epoch 80/100\n",
            "69/69 - 1s - loss: 0.0012 - mean_squared_error: 0.0012 - val_loss: 9.0023e-04 - val_mean_squared_error: 9.0023e-04 - 1s/epoch - 21ms/step\n",
            "Epoch 81/100\n",
            "69/69 - 2s - loss: 0.0012 - mean_squared_error: 0.0012 - val_loss: 9.0720e-04 - val_mean_squared_error: 9.0720e-04 - 2s/epoch - 27ms/step\n",
            "Epoch 82/100\n",
            "69/69 - 1s - loss: 0.0013 - mean_squared_error: 0.0013 - val_loss: 0.0010 - val_mean_squared_error: 0.0010 - 955ms/epoch - 14ms/step\n",
            "Epoch 83/100\n",
            "69/69 - 1s - loss: 0.0013 - mean_squared_error: 0.0013 - val_loss: 9.6635e-04 - val_mean_squared_error: 9.6635e-04 - 1s/epoch - 15ms/step\n",
            "Epoch 84/100\n",
            "69/69 - 2s - loss: 0.0012 - mean_squared_error: 0.0012 - val_loss: 8.6897e-04 - val_mean_squared_error: 8.6897e-04 - 2s/epoch - 24ms/step\n",
            "Epoch 85/100\n",
            "69/69 - 2s - loss: 0.0012 - mean_squared_error: 0.0012 - val_loss: 8.9280e-04 - val_mean_squared_error: 8.9280e-04 - 2s/epoch - 24ms/step\n",
            "Epoch 86/100\n",
            "69/69 - 2s - loss: 0.0012 - mean_squared_error: 0.0012 - val_loss: 8.9787e-04 - val_mean_squared_error: 8.9787e-04 - 2s/epoch - 24ms/step\n",
            "Epoch 87/100\n",
            "69/69 - 2s - loss: 0.0012 - mean_squared_error: 0.0012 - val_loss: 8.1586e-04 - val_mean_squared_error: 8.1586e-04 - 2s/epoch - 24ms/step\n",
            "Epoch 88/100\n",
            "69/69 - 2s - loss: 0.0011 - mean_squared_error: 0.0011 - val_loss: 8.9606e-04 - val_mean_squared_error: 8.9606e-04 - 2s/epoch - 24ms/step\n",
            "Epoch 89/100\n",
            "69/69 - 2s - loss: 0.0012 - mean_squared_error: 0.0012 - val_loss: 9.3669e-04 - val_mean_squared_error: 9.3669e-04 - 2s/epoch - 23ms/step\n",
            "Epoch 90/100\n",
            "69/69 - 1s - loss: 0.0012 - mean_squared_error: 0.0012 - val_loss: 8.7975e-04 - val_mean_squared_error: 8.7975e-04 - 1s/epoch - 17ms/step\n",
            "Epoch 91/100\n",
            "69/69 - 2s - loss: 0.0012 - mean_squared_error: 0.0012 - val_loss: 8.7882e-04 - val_mean_squared_error: 8.7882e-04 - 2s/epoch - 24ms/step\n",
            "Epoch 92/100\n",
            "69/69 - 1s - loss: 0.0011 - mean_squared_error: 0.0011 - val_loss: 8.7922e-04 - val_mean_squared_error: 8.7922e-04 - 1s/epoch - 16ms/step\n",
            "Epoch 93/100\n",
            "69/69 - 1s - loss: 0.0011 - mean_squared_error: 0.0011 - val_loss: 8.8267e-04 - val_mean_squared_error: 8.8267e-04 - 1s/epoch - 16ms/step\n",
            "Epoch 94/100\n",
            "69/69 - 2s - loss: 0.0011 - mean_squared_error: 0.0011 - val_loss: 8.7390e-04 - val_mean_squared_error: 8.7390e-04 - 2s/epoch - 24ms/step\n",
            "Epoch 95/100\n",
            "69/69 - 2s - loss: 0.0012 - mean_squared_error: 0.0012 - val_loss: 8.9164e-04 - val_mean_squared_error: 8.9164e-04 - 2s/epoch - 24ms/step\n",
            "Epoch 96/100\n",
            "69/69 - 2s - loss: 0.0012 - mean_squared_error: 0.0012 - val_loss: 8.6456e-04 - val_mean_squared_error: 8.6456e-04 - 2s/epoch - 24ms/step\n",
            "Epoch 97/100\n",
            "69/69 - 2s - loss: 0.0011 - mean_squared_error: 0.0011 - val_loss: 8.6815e-04 - val_mean_squared_error: 8.6815e-04 - 2s/epoch - 27ms/step\n",
            "Epoch 98/100\n",
            "69/69 - 2s - loss: 0.0012 - mean_squared_error: 0.0012 - val_loss: 8.5436e-04 - val_mean_squared_error: 8.5436e-04 - 2s/epoch - 26ms/step\n",
            "Epoch 99/100\n",
            "69/69 - 2s - loss: 0.0011 - mean_squared_error: 0.0011 - val_loss: 8.7349e-04 - val_mean_squared_error: 8.7349e-04 - 2s/epoch - 24ms/step\n",
            "Epoch 100/100\n",
            "69/69 - 1s - loss: 0.0011 - mean_squared_error: 0.0011 - val_loss: 8.6651e-04 - val_mean_squared_error: 8.6651e-04 - 1s/epoch - 15ms/step\n"
          ]
        }
      ],
      "source": [
        "# fit network\n",
        "history = model.fit(train_X, train_Y, epochs=100, batch_size=128, validation_data=(test_X, test_Y), verbose=2, shuffle=False)  #, verbose=2, shuffle=False"
      ]
    },
    {
      "cell_type": "code",
      "execution_count": null,
      "metadata": {
        "colab": {
          "base_uri": "https://localhost:8080/",
          "height": 430
        },
        "id": "ifanM_e0xxAc",
        "outputId": "907a9ae4-2864-4788-d08e-7c212874d4ca"
      },
      "outputs": [
        {
          "output_type": "display_data",
          "data": {
            "text/plain": [
              "<Figure size 640x480 with 1 Axes>"
            ],
            "image/png": "[encoded data removed]"
          },
          "metadata": {}
        }
      ],
      "source": [
        "# plot history\n",
        "pyplot.plot(history.history['loss'], label='train')\n",
        "pyplot.plot(history.history['val_loss'], label='test')\n",
        "pyplot.legend()\n",
        "pyplot.show()"
      ]
    },
    {
      "cell_type": "code",
      "execution_count": null,
      "metadata": {
        "colab": {
          "base_uri": "https://localhost:8080/"
        },
        "id": "eBgUOxjbxxAc",
        "outputId": "7e07a95e-b71a-45f7-ba7d-c37d7822dd2c"
      },
      "outputs": [
        {
          "output_type": "stream",
          "name": "stdout",
          "text": [
            "1263/1263 [==============================] - 3s 2ms/step\n"
          ]
        }
      ],
      "source": [
        "# make a prediction\n",
        "test_Y_predicted = model.predict(test_X)\n",
        "test_X = test_X.reshape((test_X.shape[0], n_hours*n_features))"
      ]
    },
    {
      "cell_type": "code",
      "execution_count": null,
      "metadata": {
        "colab": {
          "base_uri": "https://localhost:8080/"
        },
        "id": "_i2Nc_U0xxAd",
        "outputId": "9b181111-4e58-454b-c581-7e42dbaee57f"
      },
      "outputs": [
        {
          "output_type": "stream",
          "name": "stdout",
          "text": [
            "[[0.4310603 ]\n",
            " [0.50056744]\n",
            " [0.5056354 ]\n",
            " ...\n",
            " [0.47146693]\n",
            " [0.49627632]\n",
            " [0.49384266]]\n",
            "[0.49661204 0.4954336  0.4788373  ... 0.4746146  0.47697145 0.49258572]\n"
          ]
        }
      ],
      "source": [
        "print(test_Y_predicted)\n",
        "print(test_Y)"
      ]
    },
    {
      "cell_type": "code",
      "execution_count": null,
      "metadata": {
        "colab": {
          "base_uri": "https://localhost:8080/",
          "height": 448
        },
        "id": "aBfHCdKhxxAd",
        "outputId": "64b4faa9-94f9-4123-e0b9-4c5128f40ecb"
      },
      "outputs": [
        {
          "output_type": "execute_result",
          "data": {
            "text/plain": [
              "<matplotlib.legend.Legend at 0x7f287bfae4a0>"
            ]
          },
          "metadata": {},
          "execution_count": 55
        },
        {
          "output_type": "display_data",
          "data": {
            "text/plain": [
              "<Figure size 640x480 with 1 Axes>"
            ],
            "image/png": "[encoded data removed]"
          },
          "metadata": {}
        }
      ],
      "source": [
        "pyplot.plot(test_Y[:100],label=\"Actual\")\n",
        "pyplot.plot(test_Y_predicted[:100],label=\"Predicted\")\n",
        "pyplot.legend()"
      ]
    },
    {
      "cell_type": "code",
      "execution_count": null,
      "metadata": {
        "colab": {
          "base_uri": "https://localhost:8080/",
          "height": 448
        },
        "id": "UdGJEmhexxAd",
        "outputId": "6f4a4d7d-75fe-4e0e-8f3b-cf415585204c"
      },
      "outputs": [
        {
          "output_type": "execute_result",
          "data": {
            "text/plain": [
              "<matplotlib.legend.Legend at 0x7f287be3be50>"
            ]
          },
          "metadata": {},
          "execution_count": 56
        },
        {
          "output_type": "display_data",
          "data": {
            "text/plain": [
              "<Figure size 640x480 with 1 Axes>"
            ],
            "image/png": "[encoded data removed]"
          },
          "metadata": {}
        }
      ],
      "source": [
        "pyplot.plot(test_Y[200:300],label=\"Actual\")\n",
        "pyplot.plot(test_Y_predicted[200:300],label=\"Predicted\")\n",
        "pyplot.legend()"
      ]
    },
    {
      "cell_type": "code",
      "execution_count": null,
      "metadata": {
        "colab": {
          "base_uri": "https://localhost:8080/"
        },
        "id": "a87PzJXoxxAd",
        "outputId": "9f80acac-2198-4615-dd75-5ee83e7c3aa4"
      },
      "outputs": [
        {
          "output_type": "stream",
          "name": "stdout",
          "text": [
            "[ 7.7193713 11.651544  11.938249  ... 10.005263  11.408786  11.271108 ]\n"
          ]
        }
      ],
      "source": [
        "# invert scaling for forecast\n",
        "vir_array= np.concatenate((test_X[:,-8:-6],test_Y_predicted),axis=1)\n",
        "inv_test_Y_predicted = np.concatenate((vir_array,test_X[:,-5:]),axis=1)\n",
        "inv_test_Y_predicted = scaler.inverse_transform(inv_test_Y_predicted)\n",
        "inv_test_Y_predicted = inv_test_Y_predicted[:,2]\n",
        "print(inv_test_Y_predicted)"
      ]
    },
    {
      "cell_type": "code",
      "execution_count": null,
      "metadata": {
        "colab": {
          "base_uri": "https://localhost:8080/"
        },
        "id": "Yt1E11_ExxAd",
        "outputId": "3dff800a-9f14-4777-f681-5240e4d82672"
      },
      "outputs": [
        {
          "output_type": "stream",
          "name": "stdout",
          "text": [
            "[11.427778 11.361111 10.422222 ... 10.183333 10.316666 11.2     ]\n"
          ]
        }
      ],
      "source": [
        "# invert scaling for actual\n",
        "test_Y = test_Y.reshape((len(test_Y), 1))\n",
        "vir_array2= np.concatenate((test_X[:,-8:-6],test_Y),axis=1)\n",
        "inv_test_Y = np.concatenate((vir_array2,test_X[:,-5:]),axis=1)\n",
        "inv_test_Y = scaler.inverse_transform(inv_test_Y)\n",
        "inv_test_Y = inv_test_Y[:,2]\n",
        "print(inv_test_Y)"
      ]
    },
    {
      "cell_type": "code",
      "execution_count": null,
      "metadata": {
        "colab": {
          "base_uri": "https://localhost:8080/",
          "height": 448
        },
        "id": "WRHQZyzIxxAd",
        "outputId": "3cd046cd-8877-4861-bc98-19f7ab28bfba"
      },
      "outputs": [
        {
          "output_type": "execute_result",
          "data": {
            "text/plain": [
              "<matplotlib.legend.Legend at 0x7f287beb68f0>"
            ]
          },
          "metadata": {},
          "execution_count": 59
        },
        {
          "output_type": "display_data",
          "data": {
            "text/plain": [
              "<Figure size 640x480 with 1 Axes>"
            ],
            "image/png": "[encoded data removed]"
          },
          "metadata": {}
        }
      ],
      "source": [
        "pyplot.plot(inv_test_Y[:100],label=\"Actual\")\n",
        "pyplot.plot(inv_test_Y_predicted[:100],label=\"Predicted\")\n",
        "pyplot.legend()"
      ]
    },
    {
      "cell_type": "code",
      "execution_count": null,
      "metadata": {
        "colab": {
          "base_uri": "https://localhost:8080/"
        },
        "id": "BwIJGKiYxxAe",
        "outputId": "9b8afad7-4795-4f4f-ee0d-d2a63f5a06a1"
      },
      "outputs": [
        {
          "output_type": "stream",
          "name": "stdout",
          "text": [
            "Test RMSE: 1.665\n"
          ]
        }
      ],
      "source": [
        "# calculate RMSE\n",
        "from math import sqrt\n",
        "rmse = sqrt(mean_squared_error(inv_test_Y, inv_test_Y_predicted))\n",
        "print('Test RMSE: %.3f' % rmse)"
      ]
    },
    {
      "cell_type": "code",
      "execution_count": null,
      "metadata": {
        "id": "wYmgzm6axxAe"
      },
      "outputs": [],
      "source": [
        "# comparing actual temperature and predicted temperature predicted using data of 3 previous hours\n",
        "df_result=pd.DataFrame({'Actual_Temperature':inv_test_Y,'Predicted_Temperature':inv_test_Y_predicted})"
      ]
    },
    {
      "cell_type": "code",
      "execution_count": null,
      "metadata": {
        "colab": {
          "base_uri": "https://localhost:8080/",
          "height": 423
        },
        "id": "OGrp69TpxxAe",
        "outputId": "f059a15a-11c0-4b7a-9560-384aa2e8e3eb"
      },
      "outputs": [
        {
          "output_type": "execute_result",
          "data": {
            "text/plain": [
              "       Actual_Temperature  Predicted_Temperature\n",
              "0               11.427778               7.719371\n",
              "1               11.361111              11.651544\n",
              "2               10.422222              11.938249\n",
              "3               10.833332              10.482141\n",
              "4               10.911110              11.787561\n",
              "...                   ...                    ...\n",
              "40397            7.872223               8.824415\n",
              "40398            9.077779               8.937920\n",
              "40399           10.183333              10.005263\n",
              "40400           10.316666              11.408786\n",
              "40401           11.200000              11.271108\n",
              "\n",
              "[40402 rows x 2 columns]"
            ],
            "text/html": [
              "\n",
              "  <div id=\"df-5b1de060-b3cc-461c-a87d-6efe5eb63d26\">\n",
              "    <div class=\"colab-df-container\">\n",
              "      <div>\n",
              "<style scoped>\n",
              "    .dataframe tbody tr th:only-of-type {\n",
              "        vertical-align: middle;\n",
              "    }\n",
              "\n",
              "    .dataframe tbody tr th {\n",
              "        vertical-align: top;\n",
              "    }\n",
              "\n",
              "    .dataframe thead th {\n",
              "        text-align: right;\n",
              "    }\n",
              "</style>\n",
              "<table border=\"1\" class=\"dataframe\">\n",
              "  <thead>\n",
              "    <tr style=\"text-align: right;\">\n",
              "      <th></th>\n",
              "      <th>Actual_Temperature</th>\n",
              "      <th>Predicted_Temperature</th>\n",
              "    </tr>\n",
              "  </thead>\n",
              "  <tbody>\n",
              "    <tr>\n",
              "      <th>0</th>\n",
              "      <td>11.427778</td>\n",
              "      <td>7.719371</td>\n",
              "    </tr>\n",
              "    <tr>\n",
              "      <th>1</th>\n",
              "      <td>11.361111</td>\n",
              "      <td>11.651544</td>\n",
              "    </tr>\n",
              "    <tr>\n",
              "      <th>2</th>\n",
              "      <td>10.422222</td>\n",
              "      <td>11.938249</td>\n",
              "    </tr>\n",
              "    <tr>\n",
              "      <th>3</th>\n",
              "      <td>10.833332</td>\n",
              "      <td>10.482141</td>\n",
              "    </tr>\n",
              "    <tr>\n",
              "      <th>4</th>\n",
              "      <td>10.911110</td>\n",
              "      <td>11.787561</td>\n",
              "    </tr>\n",
              "    <tr>\n",
              "      <th>...</th>\n",
              "      <td>...</td>\n",
              "      <td>...</td>\n",
              "    </tr>\n",
              "    <tr>\n",
              "      <th>40397</th>\n",
              "      <td>7.872223</td>\n",
              "      <td>8.824415</td>\n",
              "    </tr>\n",
              "    <tr>\n",
              "      <th>40398</th>\n",
              "      <td>9.077779</td>\n",
              "      <td>8.937920</td>\n",
              "    </tr>\n",
              "    <tr>\n",
              "      <th>40399</th>\n",
              "      <td>10.183333</td>\n",
              "      <td>10.005263</td>\n",
              "    </tr>\n",
              "    <tr>\n",
              "      <th>40400</th>\n",
              "      <td>10.316666</td>\n",
              "      <td>11.408786</td>\n",
              "    </tr>\n",
              "    <tr>\n",
              "      <th>40401</th>\n",
              "      <td>11.200000</td>\n",
              "      <td>11.271108</td>\n",
              "    </tr>\n",
              "  </tbody>\n",
              "</table>\n",
              "<p>40402 rows × 2 columns</p>\n",
              "</div>\n",
              "      <button class=\"colab-df-convert\" onclick=\"convertToInteractive('df-5b1de060-b3cc-461c-a87d-6efe5eb63d26')\"\n",
              "              title=\"Convert this dataframe to an interactive table.\"\n",
              "              style=\"display:none;\">\n",
              "        \n",
              "  <svg xmlns=\"http://www.w3.org/2000/svg\" height=\"24px\"viewBox=\"0 0 24 24\"\n",
              "       width=\"24px\">\n",
              "    <path d=\"M0 0h24v24H0V0z\" fill=\"none\"/>\n",
              "    <path d=\"M18.56 5.44l.94 2.06.94-2.06 2.06-.94-2.06-.94-.94-2.06-.94 2.06-2.06.94zm-11 1L8.5 8.5l.94-2.06 2.06-.94-2.06-.94L8.5 2.5l-.94 2.06-2.06.94zm10 10l.94 2.06.94-2.06 2.06-.94-2.06-.94-.94-2.06-.94 2.06-2.06.94z\"/><path d=\"M17.41 7.96l-1.37-1.37c-.4-.4-.92-.59-1.43-.59-.52 0-1.04.2-1.43.59L10.3 9.45l-7.72 7.72c-.78.78-.78 2.05 0 2.83L4 21.41c.39.39.9.59 1.41.59.51 0 1.02-.2 1.41-.59l7.78-7.78 2.81-2.81c.8-.78.8-2.07 0-2.86zM5.41 20L4 18.59l7.72-7.72 1.47 1.35L5.41 20z\"/>\n",
              "  </svg>\n",
              "      </button>\n",
              "      \n",
              "  <style>\n",
              "    .colab-df-container {\n",
              "      display:flex;\n",
              "      flex-wrap:wrap;\n",
              "      gap: 12px;\n",
              "    }\n",
              "\n",
              "    .colab-df-convert {\n",
              "      background-color: #E8F0FE;\n",
              "      border: none;\n",
              "      border-radius: 50%;\n",
              "      cursor: pointer;\n",
              "      display: none;\n",
              "      fill: #1967D2;\n",
              "      height: 32px;\n",
              "      padding: 0 0 0 0;\n",
              "      width: 32px;\n",
              "    }\n",
              "\n",
              "    .colab-df-convert:hover {\n",
              "      background-color: #E2EBFA;\n",
              "      box-shadow: 0px 1px 2px rgba(60, 64, 67, 0.3), 0px 1px 3px 1px rgba(60, 64, 67, 0.15);\n",
              "      fill: #174EA6;\n",
              "    }\n",
              "\n",
              "    [theme=dark] .colab-df-convert {\n",
              "      background-color: #3B4455;\n",
              "      fill: #D2E3FC;\n",
              "    }\n",
              "\n",
              "    [theme=dark] .colab-df-convert:hover {\n",
              "      background-color: #434B5C;\n",
              "      box-shadow: 0px 1px 3px 1px rgba(0, 0, 0, 0.15);\n",
              "      filter: drop-shadow(0px 1px 2px rgba(0, 0, 0, 0.3));\n",
              "      fill: #FFFFFF;\n",
              "    }\n",
              "  </style>\n",
              "\n",
              "      <script>\n",
              "        const buttonEl =\n",
              "          document.querySelector('#df-5b1de060-b3cc-461c-a87d-6efe5eb63d26 button.colab-df-convert');\n",
              "        buttonEl.style.display =\n",
              "          google.colab.kernel.accessAllowed ? 'block' : 'none';\n",
              "\n",
              "        async function convertToInteractive(key) {\n",
              "          const element = document.querySelector('#df-5b1de060-b3cc-461c-a87d-6efe5eb63d26');\n",
              "          const dataTable =\n",
              "            await google.colab.kernel.invokeFunction('convertToInteractive',\n",
              "                                                     [key], {});\n",
              "          if (!dataTable) return;\n",
              "\n",
              "          const docLinkHtml = 'Like what you see? Visit the ' +\n",
              "            '<a target=\"_blank\" href=https://colab.research.google.com/notebooks/data_table.ipynb>data table notebook</a>'\n",
              "            + ' to learn more about interactive tables.';\n",
              "          element.innerHTML = '';\n",
              "          dataTable['output_type'] = 'display_data';\n",
              "          await google.colab.output.renderOutput(dataTable, element);\n",
              "          const docLink = document.createElement('div');\n",
              "          docLink.innerHTML = docLinkHtml;\n",
              "          element.appendChild(docLink);\n",
              "        }\n",
              "      </script>\n",
              "    </div>\n",
              "  </div>\n",
              "  "
            ]
          },
          "metadata": {},
          "execution_count": 62
        }
      ],
      "source": [
        "df_result"
      ]
    },
    {
      "cell_type": "code",
      "execution_count": null,
      "metadata": {
        "id": "wTxU56vHxxAe"
      },
      "outputs": [],
      "source": [
        "df_result.to_csv(\"weather_result.csv\")"
      ]
    },
    {
      "cell_type": "code",
      "execution_count": null,
      "metadata": {
        "id": "-_hDDValxxAe"
      },
      "outputs": [],
      "source": []
    }
  ],
  "metadata": {
    "kernelspec": {
      "display_name": "Python 3",
      "language": "python",
      "name": "python3"
    },
    "language_info": {
      "codemirror_mode": {
        "name": "ipython",
        "version": 3
      },
      "file_extension": ".py",
      "mimetype": "text/x-python",
      "name": "python",
      "nbconvert_exporter": "python",
      "pygments_lexer": "ipython3",
      "version": "3.7.1"
    },
    "colab": {
      "provenance": []
    }
  },
  "nbformat": 4,
  "nbformat_minor": 0
}