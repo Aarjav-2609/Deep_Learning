{
  "cells": [
    {
      "cell_type": "markdown",
      "metadata": {
        "id": "7PeaGuClf6f3"
      },
      "source": [
        "# Reconstructing MNIST images using Autoencoder"
      ]
    },
    {
      "cell_type": "markdown",
      "metadata": {
        "id": "xx6GUcllf6f6"
      },
      "source": [
        "Now that we have understood how autoencoders reconstruct the inputs, in this section we will learn how autoencoders reconstruct the images of handwritten digits using the MNIST dataset.\n",
        "\n",
        "\n",
        "In this chapter, we use keras API from the tensorflow for building the models. So that we would be familiarized with how to use high-level APIs."
      ]
    },
    {
      "cell_type": "markdown",
      "metadata": {
        "id": "bikY4Y-Af6f6"
      },
      "source": [
        "## Import Libraries"
      ]
    },
    {
      "cell_type": "markdown",
      "metadata": {
        "id": "gfBDVeq4f6f6"
      },
      "source": [
        "First, let us import the necessary libraries:"
      ]
    },
    {
      "cell_type": "code",
      "execution_count": null,
      "metadata": {
        "scrolled": true,
        "id": "G_SKwRiof6f7",
        "colab": {
          "base_uri": "https://localhost:8080/"
        },
        "outputId": "736b081d-9ab4-4ea2-c780-effae37bf77a"
      },
      "outputs": [
        {
          "output_type": "stream",
          "name": "stderr",
          "text": [
            "WARNING:tensorflow:From /usr/local/lib/python3.9/dist-packages/tensorflow/python/compat/v2_compat.py:107: disable_resource_variables (from tensorflow.python.ops.variable_scope) is deprecated and will be removed in a future version.\n",
            "Instructions for updating:\n",
            "non-resource variables are not supported in the long term\n"
          ]
        }
      ],
      "source": [
        "import warnings\n",
        "warnings.filterwarnings('ignore')\n",
        "\n",
        "from tensorflow.keras.models import Model\n",
        "from tensorflow.keras.layers import Input, Dense\n",
        "\n",
        "import tensorflow.compat.v1 as tf; tf.disable_v2_behavior()\n",
        "tf.logging.set_verbosity(tf.logging.ERROR)\n",
        "\n",
        "#plotting\n",
        "import matplotlib.pyplot as plt\n",
        "%matplotlib inline\n",
        "\n",
        "#dataset\n",
        "from tensorflow.keras.datasets import mnist\n",
        "import numpy as np"
      ]
    },
    {
      "cell_type": "markdown",
      "metadata": {
        "id": "gsnqPUsaf6f8"
      },
      "source": [
        "## Prepare the Dataset"
      ]
    },
    {
      "cell_type": "markdown",
      "metadata": {
        "id": "M2x9qM2df6f8"
      },
      "source": [
        "Let us load the MNIST dataset. We don't need the labels for autoencoder. Since we are reconstructing the given input we don't need the labels. So, we just load x_train for training and x_test for testing:"
      ]
    },
    {
      "cell_type": "code",
      "execution_count": null,
      "metadata": {
        "id": "4Zwhwvfmf6f8",
        "colab": {
          "base_uri": "https://localhost:8080/"
        },
        "outputId": "4208ffa7-9187-4578-8429-568d09bfd326"
      },
      "outputs": [
        {
          "output_type": "stream",
          "name": "stdout",
          "text": [
            "Downloading data from https://storage.googleapis.com/tensorflow/tf-keras-datasets/mnist.npz\n",
            "11490434/11490434 [==============================] - 0s 0us/step\n"
          ]
        }
      ],
      "source": [
        "(x_train, _), (x_test, _) = mnist.load_data()"
      ]
    },
    {
      "cell_type": "markdown",
      "metadata": {
        "id": "upu6H3_lf6f9"
      },
      "source": [
        "Normalize the data by dividing with max pixel value which is 255:"
      ]
    },
    {
      "cell_type": "code",
      "execution_count": null,
      "metadata": {
        "id": "fuIbVAp3f6f9"
      },
      "outputs": [],
      "source": [
        "x_train = x_train.astype('float32') / 255\n",
        "x_test = x_test.astype('float32') / 255"
      ]
    },
    {
      "cell_type": "markdown",
      "metadata": {
        "id": "pC41B_tif6f9"
      },
      "source": [
        "Shape of our dataset:"
      ]
    },
    {
      "cell_type": "code",
      "execution_count": null,
      "metadata": {
        "colab": {
          "base_uri": "https://localhost:8080/"
        },
        "id": "fDAaXxmlf6f9",
        "outputId": "a6ef779a-a957-41ba-b2ac-9392563a9382"
      },
      "outputs": [
        {
          "output_type": "stream",
          "name": "stdout",
          "text": [
            "(60000, 28, 28) (10000, 28, 28)\n"
          ]
        }
      ],
      "source": [
        "print(x_train.shape, x_test.shape)"
      ]
    },
    {
      "cell_type": "markdown",
      "metadata": {
        "id": "JLO3RhJef6f-"
      },
      "source": [
        "Reshape the images as 2D array:"
      ]
    },
    {
      "cell_type": "code",
      "execution_count": null,
      "metadata": {
        "id": "p0VBSenWf6f-"
      },
      "outputs": [],
      "source": [
        "x_train = x_train.reshape((len(x_train), np.prod(x_train.shape[1:])))\n",
        "x_test = x_test.reshape((len(x_test), np.prod(x_test.shape[1:])))"
      ]
    },
    {
      "cell_type": "markdown",
      "metadata": {
        "id": "XMZuR811f6f-"
      },
      "source": [
        "Now, the shape of data would become:"
      ]
    },
    {
      "cell_type": "code",
      "execution_count": null,
      "metadata": {
        "colab": {
          "base_uri": "https://localhost:8080/"
        },
        "id": "LF1egZFef6f_",
        "outputId": "728051fe-b499-4ea8-fb18-dcbbe633c7b4"
      },
      "outputs": [
        {
          "output_type": "stream",
          "name": "stdout",
          "text": [
            "(60000, 784) (10000, 784)\n"
          ]
        }
      ],
      "source": [
        "print(x_train.shape, x_test.shape)"
      ]
    },
    {
      "cell_type": "markdown",
      "metadata": {
        "id": "Y4QmVCb7f6f_"
      },
      "source": [
        "# Define the Encoder"
      ]
    },
    {
      "cell_type": "markdown",
      "metadata": {
        "id": "qYVCCFHCf6f_"
      },
      "source": [
        "Now, we define the encoder which takes the images as an input and returns the encodings.\n",
        "\n",
        "Define the size of the encodings:"
      ]
    },
    {
      "cell_type": "code",
      "execution_count": null,
      "metadata": {
        "id": "-Wgt4Wb2f6f_"
      },
      "outputs": [],
      "source": [
        "encoding_dim = 32"
      ]
    },
    {
      "cell_type": "markdown",
      "metadata": {
        "id": "kI_msn52f6gA"
      },
      "source": [
        "Define the placeholders for the input:"
      ]
    },
    {
      "cell_type": "code",
      "execution_count": null,
      "metadata": {
        "id": "ulPaSP-vf6gA"
      },
      "outputs": [],
      "source": [
        "input_image = Input(shape=(784,))"
      ]
    },
    {
      "cell_type": "markdown",
      "metadata": {
        "id": "jj9Ya1Pgf6gA"
      },
      "source": [
        "\n",
        "Define the encoder which takes the input_image and returns the encodings:"
      ]
    },
    {
      "cell_type": "code",
      "execution_count": null,
      "metadata": {
        "id": "O7s5m9Luf6gA"
      },
      "outputs": [],
      "source": [
        "encoder  = Dense(encoding_dim, activation='relu')(input_image)"
      ]
    },
    {
      "cell_type": "markdown",
      "metadata": {
        "id": "9BAzYYzcf6gA"
      },
      "source": [
        "# Define the Decoder\n",
        "\n",
        "Let us define the decoder which takes the encoded values from the encoder and returns the reconstructed image:"
      ]
    },
    {
      "cell_type": "code",
      "execution_count": null,
      "metadata": {
        "id": "jQBDZ2Epf6gB"
      },
      "outputs": [],
      "source": [
        "decoder = Dense(784, activation='sigmoid')(encoder)"
      ]
    },
    {
      "cell_type": "markdown",
      "metadata": {
        "id": "qN0NTvBRf6gB"
      },
      "source": [
        "# Build the model\n",
        "\n",
        "Now that we defined encoder and decoder, we define the model which takes images as input and returns the output of the decoder which is the reconstructed image:"
      ]
    },
    {
      "cell_type": "code",
      "execution_count": null,
      "metadata": {
        "id": "KQSRKbaDf6gB"
      },
      "outputs": [],
      "source": [
        "model = Model(inputs=input_image, outputs=decoder)"
      ]
    },
    {
      "cell_type": "markdown",
      "metadata": {
        "id": "-v4Hfjcef6gB"
      },
      "source": [
        "Let us look at summary of the model:"
      ]
    },
    {
      "cell_type": "code",
      "execution_count": null,
      "metadata": {
        "scrolled": true,
        "colab": {
          "base_uri": "https://localhost:8080/"
        },
        "id": "OMP-wRxvf6gB",
        "outputId": "4e3d6a4a-3772-4ab2-bcd2-6fd91c036914"
      },
      "outputs": [
        {
          "output_type": "stream",
          "name": "stdout",
          "text": [
            "Model: \"model\"\n",
            "_________________________________________________________________\n",
            " Layer (type)                Output Shape              Param #   \n",
            "=================================================================\n",
            " input_1 (InputLayer)        [(None, 784)]             0         \n",
            "                                                                 \n",
            " dense (Dense)               (None, 32)                25120     \n",
            "                                                                 \n",
            " dense_1 (Dense)             (None, 784)               25872     \n",
            "                                                                 \n",
            "=================================================================\n",
            "Total params: 50,992\n",
            "Trainable params: 50,992\n",
            "Non-trainable params: 0\n",
            "_________________________________________________________________\n"
          ]
        }
      ],
      "source": [
        "model.summary()"
      ]
    },
    {
      "cell_type": "markdown",
      "metadata": {
        "id": "q6RifqXsf6gC"
      },
      "source": [
        "Compile the model with loss as binary cross entropy and we minimize the loss using AdaDelta optimizer:"
      ]
    },
    {
      "cell_type": "code",
      "execution_count": null,
      "metadata": {
        "id": "lA7vvgTaf6gC"
      },
      "outputs": [],
      "source": [
        "model.compile(optimizer='adam', loss='binary_crossentropy')"
      ]
    },
    {
      "cell_type": "markdown",
      "metadata": {
        "id": "7p_LALTdf6gC"
      },
      "source": [
        "Now, let us train the model.\n",
        "\n",
        "Generally, we feed the data to the model as model.fit(x,y) where x is the input and y is the label. But since autoencoders reconstruct its inputs, the input and output to the model should be the same. So we feed the data to the model as model.fit(x_train, x_train)\n",
        "\n"
      ]
    },
    {
      "cell_type": "code",
      "execution_count": null,
      "metadata": {
        "colab": {
          "base_uri": "https://localhost:8080/"
        },
        "id": "Je6-JiHDf6gD",
        "outputId": "47a9c942-bbce-4193-b160-abde52a7729f"
      },
      "outputs": [
        {
          "output_type": "stream",
          "name": "stdout",
          "text": [
            "Train on 60000 samples, validate on 10000 samples\n",
            "Epoch 1/50\n",
            "60000/60000 [==============================] - 3s 56us/sample - loss: 0.2768 - val_loss: 0.1926\n",
            "Epoch 2/50\n",
            "60000/60000 [==============================] - 5s 75us/sample - loss: 0.1731 - val_loss: 0.1553\n",
            "Epoch 3/50\n",
            "60000/60000 [==============================] - 5s 84us/sample - loss: 0.1456 - val_loss: 0.1346\n",
            "Epoch 4/50\n",
            "60000/60000 [==============================] - 5s 81us/sample - loss: 0.1294 - val_loss: 0.1224\n",
            "Epoch 5/50\n",
            "60000/60000 [==============================] - 4s 70us/sample - loss: 0.1192 - val_loss: 0.1137\n",
            "Epoch 6/50\n",
            "60000/60000 [==============================] - 4s 63us/sample - loss: 0.1119 - val_loss: 0.1075\n",
            "Epoch 7/50\n",
            "60000/60000 [==============================] - 2s 41us/sample - loss: 0.1065 - val_loss: 0.1031\n",
            "Epoch 8/50\n",
            "60000/60000 [==============================] - 3s 43us/sample - loss: 0.1026 - val_loss: 0.0997\n",
            "Epoch 9/50\n",
            "60000/60000 [==============================] - 3s 42us/sample - loss: 0.0998 - val_loss: 0.0974\n",
            "Epoch 10/50\n",
            "60000/60000 [==============================] - 3s 45us/sample - loss: 0.0978 - val_loss: 0.0957\n",
            "Epoch 11/50\n",
            "60000/60000 [==============================] - 3s 56us/sample - loss: 0.0965 - val_loss: 0.0946\n",
            "Epoch 12/50\n",
            "60000/60000 [==============================] - 3s 44us/sample - loss: 0.0956 - val_loss: 0.0940\n",
            "Epoch 13/50\n",
            "60000/60000 [==============================] - 3s 43us/sample - loss: 0.0950 - val_loss: 0.0935\n",
            "Epoch 14/50\n",
            "60000/60000 [==============================] - 3s 42us/sample - loss: 0.0946 - val_loss: 0.0931\n",
            "Epoch 15/50\n",
            "60000/60000 [==============================] - 3s 53us/sample - loss: 0.0943 - val_loss: 0.0929\n",
            "Epoch 16/50\n",
            "60000/60000 [==============================] - 3s 52us/sample - loss: 0.0941 - val_loss: 0.0927\n",
            "Epoch 17/50\n",
            "60000/60000 [==============================] - 3s 51us/sample - loss: 0.0939 - val_loss: 0.0925\n",
            "Epoch 18/50\n",
            "60000/60000 [==============================] - 3s 42us/sample - loss: 0.0938 - val_loss: 0.0925\n",
            "Epoch 19/50\n",
            "60000/60000 [==============================] - 2s 41us/sample - loss: 0.0937 - val_loss: 0.0924\n",
            "Epoch 20/50\n",
            "60000/60000 [==============================] - 4s 61us/sample - loss: 0.0936 - val_loss: 0.0923\n",
            "Epoch 21/50\n",
            "60000/60000 [==============================] - 3s 42us/sample - loss: 0.0935 - val_loss: 0.0922\n",
            "Epoch 22/50\n",
            "60000/60000 [==============================] - 3s 43us/sample - loss: 0.0934 - val_loss: 0.0921\n",
            "Epoch 23/50\n",
            "60000/60000 [==============================] - 2s 41us/sample - loss: 0.0933 - val_loss: 0.0921\n",
            "Epoch 24/50\n",
            "60000/60000 [==============================] - 3s 47us/sample - loss: 0.0933 - val_loss: 0.0920\n",
            "Epoch 25/50\n",
            "60000/60000 [==============================] - 3s 57us/sample - loss: 0.0932 - val_loss: 0.0921\n",
            "Epoch 26/50\n",
            "60000/60000 [==============================] - 2s 41us/sample - loss: 0.0932 - val_loss: 0.0920\n",
            "Epoch 27/50\n",
            "60000/60000 [==============================] - 3s 49us/sample - loss: 0.0931 - val_loss: 0.0920\n",
            "Epoch 28/50\n",
            "60000/60000 [==============================] - 3s 50us/sample - loss: 0.0931 - val_loss: 0.0920\n",
            "Epoch 29/50\n",
            "60000/60000 [==============================] - 4s 61us/sample - loss: 0.0931 - val_loss: 0.0919\n",
            "Epoch 30/50\n",
            "60000/60000 [==============================] - 3s 42us/sample - loss: 0.0930 - val_loss: 0.0918\n",
            "Epoch 31/50\n",
            "60000/60000 [==============================] - 2s 42us/sample - loss: 0.0930 - val_loss: 0.0919\n",
            "Epoch 32/50\n",
            "60000/60000 [==============================] - 3s 42us/sample - loss: 0.0930 - val_loss: 0.0918\n",
            "Epoch 33/50\n",
            "60000/60000 [==============================] - 3s 44us/sample - loss: 0.0929 - val_loss: 0.0917\n",
            "Epoch 34/50\n",
            "60000/60000 [==============================] - 4s 59us/sample - loss: 0.0929 - val_loss: 0.0917\n",
            "Epoch 35/50\n",
            "60000/60000 [==============================] - 3s 42us/sample - loss: 0.0929 - val_loss: 0.0918\n",
            "Epoch 36/50\n",
            "60000/60000 [==============================] - 2s 40us/sample - loss: 0.0929 - val_loss: 0.0918\n",
            "Epoch 37/50\n",
            "60000/60000 [==============================] - 2s 41us/sample - loss: 0.0929 - val_loss: 0.0917\n",
            "Epoch 38/50\n",
            "60000/60000 [==============================] - 3s 43us/sample - loss: 0.0928 - val_loss: 0.0917\n",
            "Epoch 39/50\n",
            "60000/60000 [==============================] - 4s 73us/sample - loss: 0.0928 - val_loss: 0.0917\n",
            "Epoch 40/50\n",
            "60000/60000 [==============================] - 3s 43us/sample - loss: 0.0928 - val_loss: 0.0917\n",
            "Epoch 41/50\n",
            "60000/60000 [==============================] - 3s 43us/sample - loss: 0.0928 - val_loss: 0.0917\n",
            "Epoch 42/50\n",
            "60000/60000 [==============================] - 3s 42us/sample - loss: 0.0928 - val_loss: 0.0918\n",
            "Epoch 43/50\n",
            "60000/60000 [==============================] - 4s 61us/sample - loss: 0.0928 - val_loss: 0.0917\n",
            "Epoch 44/50\n",
            "60000/60000 [==============================] - 2s 40us/sample - loss: 0.0927 - val_loss: 0.0916\n",
            "Epoch 45/50\n",
            "60000/60000 [==============================] - 3s 44us/sample - loss: 0.0927 - val_loss: 0.0916\n",
            "Epoch 46/50\n",
            "60000/60000 [==============================] - 3s 43us/sample - loss: 0.0927 - val_loss: 0.0917\n",
            "Epoch 47/50\n",
            "60000/60000 [==============================] - 3s 44us/sample - loss: 0.0927 - val_loss: 0.0916\n",
            "Epoch 48/50\n",
            "60000/60000 [==============================] - 4s 60us/sample - loss: 0.0927 - val_loss: 0.0916\n",
            "Epoch 49/50\n",
            "60000/60000 [==============================] - 3s 44us/sample - loss: 0.0927 - val_loss: 0.0916\n",
            "Epoch 50/50\n",
            "60000/60000 [==============================] - 3s 50us/sample - loss: 0.0927 - val_loss: 0.0916\n"
          ]
        },
        {
          "output_type": "execute_result",
          "data": {
            "text/plain": [
              "<keras.callbacks.History at 0x7f69bd3c0190>"
            ]
          },
          "metadata": {},
          "execution_count": 14
        }
      ],
      "source": [
        "model.fit(x_train, x_train, epochs=50, batch_size=256, shuffle=True, validation_data=(x_test, x_test))"
      ]
    },
    {
      "cell_type": "markdown",
      "metadata": {
        "id": "5bJm4ixcf6gD"
      },
      "source": [
        "## Reconstruct images\n",
        "\n",
        "Let us see how our model is performing in the test dataset. Feed the test images to the model and get the reconstructed images:"
      ]
    },
    {
      "cell_type": "code",
      "execution_count": null,
      "metadata": {
        "id": "J_RTfj1Df6gE"
      },
      "outputs": [],
      "source": [
        "reconstructed_images = model.predict(x_test)"
      ]
    },
    {
      "cell_type": "markdown",
      "metadata": {
        "id": "Qqbk_geVf6gE"
      },
      "source": [
        "## Plotting reconstructed images\n",
        "\n",
        "\n",
        "First let us plot the atcual images i.e input images:"
      ]
    },
    {
      "cell_type": "code",
      "execution_count": null,
      "metadata": {
        "colab": {
          "base_uri": "https://localhost:8080/",
          "height": 226
        },
        "id": "ACXjnGQ2f6gE",
        "outputId": "d5b097d3-d97b-44ef-8945-db45ea04e199"
      },
      "outputs": [
        {
          "output_type": "display_data",
          "data": {
            "text/plain": [
              "<Figure size 2000x400 with 7 Axes>"
            ],
            "image/png": "[encoded data removed]"
          },
          "metadata": {}
        }
      ],
      "source": [
        "n = 7\n",
        "plt.figure(figsize=(20, 4))\n",
        "for i in range(n):\n",
        "\n",
        "    ax = plt.subplot(1, n, i+1)\n",
        "    plt.imshow(x_test[i].reshape(28, 28))\n",
        "    plt.gray()\n",
        "    ax.get_xaxis().set_visible(False)\n",
        "    ax.get_yaxis().set_visible(False)\n",
        "plt.show()"
      ]
    },
    {
      "cell_type": "markdown",
      "metadata": {
        "id": "W-FVFNbcf6gF"
      },
      "source": [
        "Plot the reconstructed image:"
      ]
    },
    {
      "cell_type": "code",
      "execution_count": null,
      "metadata": {
        "colab": {
          "base_uri": "https://localhost:8080/",
          "height": 177
        },
        "id": "qAKcU89uf6gF",
        "outputId": "bd15c63c-02d5-4502-ff97-8affebaef446"
      },
      "outputs": [
        {
          "output_type": "display_data",
          "data": {
            "text/plain": [
              "<Figure size 2000x400 with 7 Axes>"
            ],
            "image/png": "[encoded data removed]"
          },
          "metadata": {}
        }
      ],
      "source": [
        "n = 7\n",
        "plt.figure(figsize=(20, 4))\n",
        "for i in range(n):\n",
        "\n",
        "    ax = plt.subplot(2, n, i + n + 1)\n",
        "    plt.imshow(reconstructed_images[i].reshape(28, 28))\n",
        "    plt.gray()\n",
        "    ax.get_xaxis().set_visible(False)\n",
        "    ax.get_yaxis().set_visible(False)\n",
        "plt.show()"
      ]
    },
    {
      "cell_type": "markdown",
      "metadata": {
        "id": "VO5cNmxpf6gF"
      },
      "source": [
        "As you can notice, autoencoders have learned to reconstruct the given input image. In the next section, we will learn about convolutional autoencoder which uses convolutional layers in the encoder and decoder network."
      ]
    }
  ],
  "metadata": {
    "kernelspec": {
      "display_name": "Python 3",
      "name": "python3"
    },
    "language_info": {
      "name": "python"
    },
    "colab": {
      "provenance": []
    },
    "gpuClass": "standard"
  },
  "nbformat": 4,
  "nbformat_minor": 0
}