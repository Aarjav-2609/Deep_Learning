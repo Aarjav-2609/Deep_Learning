{
  "cells": [
    {
      "cell_type": "code",
      "execution_count": null,
      "metadata": {
        "id": "T_wMiGl_ekvN"
      },
      "outputs": [],
      "source": [
        "import pandas as pd\n",
        "import numpy as np\n",
        "%matplotlib inline\n",
        "import matplotlib.pyplot as plt"
      ]
    },
    {
      "cell_type": "markdown",
      "metadata": {
        "id": "s8iT7j4KekvP"
      },
      "source": [
        "## Data\n",
        "https://fred.stlouisfed.org/series/S4248SM144NCEN"
      ]
    },
    {
      "cell_type": "code",
      "execution_count": null,
      "metadata": {
        "id": "wWqdk68iekvQ"
      },
      "outputs": [],
      "source": [
        "df = pd.read_csv('Alcohol_Sales.csv',index_col='DATE',parse_dates=True)\n",
        "df.index.freq = 'MS'"
      ]
    },
    {
      "cell_type": "code",
      "execution_count": null,
      "metadata": {
        "colab": {
          "base_uri": "https://localhost:8080/",
          "height": 238
        },
        "id": "AxmD9_zbekvR",
        "outputId": "3bf074ed-daf3-449c-f39d-722de4273492"
      },
      "outputs": [
        {
          "output_type": "execute_result",
          "data": {
            "text/plain": [
              "            S4248SM144NCEN\n",
              "DATE                      \n",
              "1992-01-01            3459\n",
              "1992-02-01            3458\n",
              "1992-03-01            4002\n",
              "1992-04-01            4564\n",
              "1992-05-01            4221"
            ],
            "text/html": [
              "\n",
              "  <div id=\"df-265b7dca-adee-42f3-a091-aceb403d6387\">\n",
              "    <div class=\"colab-df-container\">\n",
              "      <div>\n",
              "<style scoped>\n",
              "    .dataframe tbody tr th:only-of-type {\n",
              "        vertical-align: middle;\n",
              "    }\n",
              "\n",
              "    .dataframe tbody tr th {\n",
              "        vertical-align: top;\n",
              "    }\n",
              "\n",
              "    .dataframe thead th {\n",
              "        text-align: right;\n",
              "    }\n",
              "</style>\n",
              "<table border=\"1\" class=\"dataframe\">\n",
              "  <thead>\n",
              "    <tr style=\"text-align: right;\">\n",
              "      <th></th>\n",
              "      <th>S4248SM144NCEN</th>\n",
              "    </tr>\n",
              "    <tr>\n",
              "      <th>DATE</th>\n",
              "      <th></th>\n",
              "    </tr>\n",
              "  </thead>\n",
              "  <tbody>\n",
              "    <tr>\n",
              "      <th>1992-01-01</th>\n",
              "      <td>3459</td>\n",
              "    </tr>\n",
              "    <tr>\n",
              "      <th>1992-02-01</th>\n",
              "      <td>3458</td>\n",
              "    </tr>\n",
              "    <tr>\n",
              "      <th>1992-03-01</th>\n",
              "      <td>4002</td>\n",
              "    </tr>\n",
              "    <tr>\n",
              "      <th>1992-04-01</th>\n",
              "      <td>4564</td>\n",
              "    </tr>\n",
              "    <tr>\n",
              "      <th>1992-05-01</th>\n",
              "      <td>4221</td>\n",
              "    </tr>\n",
              "  </tbody>\n",
              "</table>\n",
              "</div>\n",
              "      <button class=\"colab-df-convert\" onclick=\"convertToInteractive('df-265b7dca-adee-42f3-a091-aceb403d6387')\"\n",
              "              title=\"Convert this dataframe to an interactive table.\"\n",
              "              style=\"display:none;\">\n",
              "        \n",
              "  <svg xmlns=\"http://www.w3.org/2000/svg\" height=\"24px\"viewBox=\"0 0 24 24\"\n",
              "       width=\"24px\">\n",
              "    <path d=\"M0 0h24v24H0V0z\" fill=\"none\"/>\n",
              "    <path d=\"M18.56 5.44l.94 2.06.94-2.06 2.06-.94-2.06-.94-.94-2.06-.94 2.06-2.06.94zm-11 1L8.5 8.5l.94-2.06 2.06-.94-2.06-.94L8.5 2.5l-.94 2.06-2.06.94zm10 10l.94 2.06.94-2.06 2.06-.94-2.06-.94-.94-2.06-.94 2.06-2.06.94z\"/><path d=\"M17.41 7.96l-1.37-1.37c-.4-.4-.92-.59-1.43-.59-.52 0-1.04.2-1.43.59L10.3 9.45l-7.72 7.72c-.78.78-.78 2.05 0 2.83L4 21.41c.39.39.9.59 1.41.59.51 0 1.02-.2 1.41-.59l7.78-7.78 2.81-2.81c.8-.78.8-2.07 0-2.86zM5.41 20L4 18.59l7.72-7.72 1.47 1.35L5.41 20z\"/>\n",
              "  </svg>\n",
              "      </button>\n",
              "      \n",
              "  <style>\n",
              "    .colab-df-container {\n",
              "      display:flex;\n",
              "      flex-wrap:wrap;\n",
              "      gap: 12px;\n",
              "    }\n",
              "\n",
              "    .colab-df-convert {\n",
              "      background-color: #E8F0FE;\n",
              "      border: none;\n",
              "      border-radius: 50%;\n",
              "      cursor: pointer;\n",
              "      display: none;\n",
              "      fill: #1967D2;\n",
              "      height: 32px;\n",
              "      padding: 0 0 0 0;\n",
              "      width: 32px;\n",
              "    }\n",
              "\n",
              "    .colab-df-convert:hover {\n",
              "      background-color: #E2EBFA;\n",
              "      box-shadow: 0px 1px 2px rgba(60, 64, 67, 0.3), 0px 1px 3px 1px rgba(60, 64, 67, 0.15);\n",
              "      fill: #174EA6;\n",
              "    }\n",
              "\n",
              "    [theme=dark] .colab-df-convert {\n",
              "      background-color: #3B4455;\n",
              "      fill: #D2E3FC;\n",
              "    }\n",
              "\n",
              "    [theme=dark] .colab-df-convert:hover {\n",
              "      background-color: #434B5C;\n",
              "      box-shadow: 0px 1px 3px 1px rgba(0, 0, 0, 0.15);\n",
              "      filter: drop-shadow(0px 1px 2px rgba(0, 0, 0, 0.3));\n",
              "      fill: #FFFFFF;\n",
              "    }\n",
              "  </style>\n",
              "\n",
              "      <script>\n",
              "        const buttonEl =\n",
              "          document.querySelector('#df-265b7dca-adee-42f3-a091-aceb403d6387 button.colab-df-convert');\n",
              "        buttonEl.style.display =\n",
              "          google.colab.kernel.accessAllowed ? 'block' : 'none';\n",
              "\n",
              "        async function convertToInteractive(key) {\n",
              "          const element = document.querySelector('#df-265b7dca-adee-42f3-a091-aceb403d6387');\n",
              "          const dataTable =\n",
              "            await google.colab.kernel.invokeFunction('convertToInteractive',\n",
              "                                                     [key], {});\n",
              "          if (!dataTable) return;\n",
              "\n",
              "          const docLinkHtml = 'Like what you see? Visit the ' +\n",
              "            '<a target=\"_blank\" href=https://colab.research.google.com/notebooks/data_table.ipynb>data table notebook</a>'\n",
              "            + ' to learn more about interactive tables.';\n",
              "          element.innerHTML = '';\n",
              "          dataTable['output_type'] = 'display_data';\n",
              "          await google.colab.output.renderOutput(dataTable, element);\n",
              "          const docLink = document.createElement('div');\n",
              "          docLink.innerHTML = docLinkHtml;\n",
              "          element.appendChild(docLink);\n",
              "        }\n",
              "      </script>\n",
              "    </div>\n",
              "  </div>\n",
              "  "
            ]
          },
          "metadata": {},
          "execution_count": 3
        }
      ],
      "source": [
        "df.head()"
      ]
    },
    {
      "cell_type": "code",
      "execution_count": null,
      "metadata": {
        "id": "TvFcD8_SekvR"
      },
      "outputs": [],
      "source": [
        "df.columns = ['Sales']"
      ]
    },
    {
      "cell_type": "code",
      "execution_count": null,
      "metadata": {
        "colab": {
          "base_uri": "https://localhost:8080/",
          "height": 714
        },
        "id": "jVmgmuAIekvR",
        "outputId": "0168d385-f2b0-476d-d319-84385df34101"
      },
      "outputs": [
        {
          "output_type": "execute_result",
          "data": {
            "text/plain": [
              "<Axes: xlabel='DATE'>"
            ]
          },
          "metadata": {},
          "execution_count": 5
        },
        {
          "output_type": "display_data",
          "data": {
            "text/plain": [
              "<Figure size 1200x800 with 1 Axes>"
            ],
            "image/png": "[encoded data removed]"
          },
          "metadata": {}
        }
      ],
      "source": [
        "df.plot(figsize=(12,8))"
      ]
    },
    {
      "cell_type": "code",
      "execution_count": null,
      "metadata": {
        "id": "ua8dS5HUekvS"
      },
      "outputs": [],
      "source": [
        "from statsmodels.tsa.seasonal import seasonal_decompose"
      ]
    },
    {
      "cell_type": "code",
      "execution_count": null,
      "metadata": {
        "colab": {
          "base_uri": "https://localhost:8080/",
          "height": 252
        },
        "id": "ZIccrBWSekvS",
        "outputId": "278c5b8d-1aef-4182-80a9-df38612897a6"
      },
      "outputs": [
        {
          "output_type": "execute_result",
          "data": {
            "text/plain": [
              "<Axes: xlabel='DATE'>"
            ]
          },
          "metadata": {},
          "execution_count": 7
        },
        {
          "output_type": "display_data",
          "data": {
            "text/plain": [
              "<Figure size 1200x200 with 1 Axes>"
            ],
            "image/png": "[encoded data removed]"
          },
          "metadata": {}
        }
      ],
      "source": [
        "results = seasonal_decompose(df['Sales'])\n",
        "results.observed.plot(figsize=(12,2))"
      ]
    },
    {
      "cell_type": "code",
      "execution_count": null,
      "metadata": {
        "colab": {
          "base_uri": "https://localhost:8080/",
          "height": 252
        },
        "id": "cpACkUChekvS",
        "outputId": "6d6265f9-8b6c-42cc-f360-7f998a14c372"
      },
      "outputs": [
        {
          "output_type": "execute_result",
          "data": {
            "text/plain": [
              "<Axes: xlabel='DATE'>"
            ]
          },
          "metadata": {},
          "execution_count": 8
        },
        {
          "output_type": "display_data",
          "data": {
            "text/plain": [
              "<Figure size 1200x200 with 1 Axes>"
            ],
            "image/png": "[encoded data removed]"
          },
          "metadata": {}
        }
      ],
      "source": [
        "results.trend.plot(figsize=(12,2))"
      ]
    },
    {
      "cell_type": "code",
      "execution_count": null,
      "metadata": {
        "colab": {
          "base_uri": "https://localhost:8080/",
          "height": 252
        },
        "id": "_zhT-qpRekvS",
        "outputId": "01be0bb3-2ec6-4a0a-c900-240483771320"
      },
      "outputs": [
        {
          "output_type": "execute_result",
          "data": {
            "text/plain": [
              "<Axes: xlabel='DATE'>"
            ]
          },
          "metadata": {},
          "execution_count": 9
        },
        {
          "output_type": "display_data",
          "data": {
            "text/plain": [
              "<Figure size 1200x200 with 1 Axes>"
            ],
            "image/png": "[encoded data removed]"
          },
          "metadata": {}
        }
      ],
      "source": [
        "results.seasonal.plot(figsize=(12,2))"
      ]
    },
    {
      "cell_type": "code",
      "execution_count": null,
      "metadata": {
        "colab": {
          "base_uri": "https://localhost:8080/",
          "height": 252
        },
        "id": "qxU7eSHCekvT",
        "outputId": "e23c4382-c7bf-47db-fefd-e00545ce4286"
      },
      "outputs": [
        {
          "output_type": "execute_result",
          "data": {
            "text/plain": [
              "<Axes: xlabel='DATE'>"
            ]
          },
          "metadata": {},
          "execution_count": 10
        },
        {
          "output_type": "display_data",
          "data": {
            "text/plain": [
              "<Figure size 1200x200 with 1 Axes>"
            ],
            "image/png": "[encoded data removed]"
          },
          "metadata": {}
        }
      ],
      "source": [
        "results.resid.plot(figsize=(12,2))"
      ]
    },
    {
      "cell_type": "markdown",
      "metadata": {
        "id": "rvff0d0WekvT"
      },
      "source": [
        "## Train Test Split"
      ]
    },
    {
      "cell_type": "code",
      "execution_count": null,
      "metadata": {
        "colab": {
          "base_uri": "https://localhost:8080/"
        },
        "id": "C4XJb6SLekvT",
        "outputId": "ac8bff9f-6584-4129-f11a-b434fbfce1a4"
      },
      "outputs": [
        {
          "output_type": "execute_result",
          "data": {
            "text/plain": [
              "340"
            ]
          },
          "metadata": {},
          "execution_count": 11
        }
      ],
      "source": [
        "len(df)"
      ]
    },
    {
      "cell_type": "code",
      "execution_count": null,
      "metadata": {
        "colab": {
          "base_uri": "https://localhost:8080/"
        },
        "id": "XCVcjrEYekvT",
        "outputId": "33ca83d1-28a4-4793-b1ce-36910c1ace58"
      },
      "outputs": [
        {
          "output_type": "execute_result",
          "data": {
            "text/plain": [
              "313"
            ]
          },
          "metadata": {},
          "execution_count": 12
        }
      ],
      "source": [
        "325-12"
      ]
    },
    {
      "cell_type": "code",
      "execution_count": null,
      "metadata": {
        "id": "gNYHMHiQekvT"
      },
      "outputs": [],
      "source": [
        "train = df.iloc[:313]\n",
        "test = df.iloc[313:]"
      ]
    },
    {
      "cell_type": "code",
      "execution_count": null,
      "metadata": {
        "colab": {
          "base_uri": "https://localhost:8080/"
        },
        "id": "ymIjMneqekvT",
        "outputId": "528582b8-196f-4a39-a1ea-69b6ec0407ec"
      },
      "outputs": [
        {
          "output_type": "execute_result",
          "data": {
            "text/plain": [
              "27"
            ]
          },
          "metadata": {},
          "execution_count": 14
        }
      ],
      "source": [
        "len(test)"
      ]
    },
    {
      "cell_type": "markdown",
      "metadata": {
        "id": "tKb6_OqNekvT"
      },
      "source": [
        "## Scale Data"
      ]
    },
    {
      "cell_type": "code",
      "execution_count": null,
      "metadata": {
        "id": "JQ3ABTriekvU"
      },
      "outputs": [],
      "source": [
        "from sklearn.preprocessing import MinMaxScaler"
      ]
    },
    {
      "cell_type": "code",
      "execution_count": null,
      "metadata": {
        "id": "-I1bN6PuekvU"
      },
      "outputs": [],
      "source": [
        "scaler = MinMaxScaler()"
      ]
    },
    {
      "cell_type": "code",
      "execution_count": null,
      "metadata": {
        "colab": {
          "base_uri": "https://localhost:8080/",
          "height": 75
        },
        "id": "UGKRbzrCekvU",
        "outputId": "a56827ef-7537-47a3-cf36-1574cd8084e9"
      },
      "outputs": [
        {
          "output_type": "execute_result",
          "data": {
            "text/plain": [
              "MinMaxScaler()"
            ],
            "text/html": [
              "<style>#sk-container-id-1 {color: black;background-color: white;}#sk-container-id-1 pre{padding: 0;}#sk-container-id-1 div.sk-toggleable {background-color: white;}#sk-container-id-1 label.sk-toggleable__label {cursor: pointer;display: block;width: 100%;margin-bottom: 0;padding: 0.3em;box-sizing: border-box;text-align: center;}#sk-container-id-1 label.sk-toggleable__label-arrow:before {content: \"▸\";float: left;margin-right: 0.25em;color: #696969;}#sk-container-id-1 label.sk-toggleable__label-arrow:hover:before {color: black;}#sk-container-id-1 div.sk-estimator:hover label.sk-toggleable__label-arrow:before {color: black;}#sk-container-id-1 div.sk-toggleable__content {max-height: 0;max-width: 0;overflow: hidden;text-align: left;background-color: #f0f8ff;}#sk-container-id-1 div.sk-toggleable__content pre {margin: 0.2em;color: black;border-radius: 0.25em;background-color: #f0f8ff;}#sk-container-id-1 input.sk-toggleable__control:checked~div.sk-toggleable__content {max-height: 200px;max-width: 100%;overflow: auto;}#sk-container-id-1 input.sk-toggleable__control:checked~label.sk-toggleable__label-arrow:before {content: \"▾\";}#sk-container-id-1 div.sk-estimator input.sk-toggleable__control:checked~label.sk-toggleable__label {background-color: #d4ebff;}#sk-container-id-1 div.sk-label input.sk-toggleable__control:checked~label.sk-toggleable__label {background-color: #d4ebff;}#sk-container-id-1 input.sk-hidden--visually {border: 0;clip: rect(1px 1px 1px 1px);clip: rect(1px, 1px, 1px, 1px);height: 1px;margin: -1px;overflow: hidden;padding: 0;position: absolute;width: 1px;}#sk-container-id-1 div.sk-estimator {font-family: monospace;background-color: #f0f8ff;border: 1px dotted black;border-radius: 0.25em;box-sizing: border-box;margin-bottom: 0.5em;}#sk-container-id-1 div.sk-estimator:hover {background-color: #d4ebff;}#sk-container-id-1 div.sk-parallel-item::after {content: \"\";width: 100%;border-bottom: 1px solid gray;flex-grow: 1;}#sk-container-id-1 div.sk-label:hover label.sk-toggleable__label {background-color: #d4ebff;}#sk-container-id-1 div.sk-serial::before {content: \"\";position: absolute;border-left: 1px solid gray;box-sizing: border-box;top: 0;bottom: 0;left: 50%;z-index: 0;}#sk-container-id-1 div.sk-serial {display: flex;flex-direction: column;align-items: center;background-color: white;padding-right: 0.2em;padding-left: 0.2em;position: relative;}#sk-container-id-1 div.sk-item {position: relative;z-index: 1;}#sk-container-id-1 div.sk-parallel {display: flex;align-items: stretch;justify-content: center;background-color: white;position: relative;}#sk-container-id-1 div.sk-item::before, #sk-container-id-1 div.sk-parallel-item::before {content: \"\";position: absolute;border-left: 1px solid gray;box-sizing: border-box;top: 0;bottom: 0;left: 50%;z-index: -1;}#sk-container-id-1 div.sk-parallel-item {display: flex;flex-direction: column;z-index: 1;position: relative;background-color: white;}#sk-container-id-1 div.sk-parallel-item:first-child::after {align-self: flex-end;width: 50%;}#sk-container-id-1 div.sk-parallel-item:last-child::after {align-self: flex-start;width: 50%;}#sk-container-id-1 div.sk-parallel-item:only-child::after {width: 0;}#sk-container-id-1 div.sk-dashed-wrapped {border: 1px dashed gray;margin: 0 0.4em 0.5em 0.4em;box-sizing: border-box;padding-bottom: 0.4em;background-color: white;}#sk-container-id-1 div.sk-label label {font-family: monospace;font-weight: bold;display: inline-block;line-height: 1.2em;}#sk-container-id-1 div.sk-label-container {text-align: center;}#sk-container-id-1 div.sk-container {/* jupyter's `normalize.less` sets `[hidden] { display: none; }` but bootstrap.min.css set `[hidden] { display: none !important; }` so we also need the `!important` here to be able to override the default hidden behavior on the sphinx rendered scikit-learn.org. See: https://github.com/scikit-learn/scikit-learn/issues/21755 */display: inline-block !important;position: relative;}#sk-container-id-1 div.sk-text-repr-fallback {display: none;}</style><div id=\"sk-container-id-1\" class=\"sk-top-container\"><div class=\"sk-text-repr-fallback\"><pre>MinMaxScaler()</pre><b>In a Jupyter environment, please rerun this cell to show the HTML representation or trust the notebook. <br />On GitHub, the HTML representation is unable to render, please try loading this page with nbviewer.org.</b></div><div class=\"sk-container\" hidden><div class=\"sk-item\"><div class=\"sk-estimator sk-toggleable\"><input class=\"sk-toggleable__control sk-hidden--visually\" id=\"sk-estimator-id-1\" type=\"checkbox\" checked><label for=\"sk-estimator-id-1\" class=\"sk-toggleable__label sk-toggleable__label-arrow\">MinMaxScaler</label><div class=\"sk-toggleable__content\"><pre>MinMaxScaler()</pre></div></div></div></div></div>"
            ]
          },
          "metadata": {},
          "execution_count": 17
        }
      ],
      "source": [
        "# IGNORE WARNING ITS JUST CONVERTING TO FLOATS\n",
        "# WE ONLY FIT TO TRAININ DATA, OTHERWISE WE ARE CHEATING ASSUMING INFO ABOUT TEST SET\n",
        "scaler.fit(train)"
      ]
    },
    {
      "cell_type": "code",
      "execution_count": null,
      "metadata": {
        "id": "kwi1u40yekvU"
      },
      "outputs": [],
      "source": [
        "scaled_train = scaler.transform(train)\n",
        "scaled_test = scaler.transform(test)"
      ]
    },
    {
      "cell_type": "markdown",
      "metadata": {
        "id": "DE6iiw9uekvU"
      },
      "source": [
        "# Time Series Generator\n",
        "\n",
        "This class takes in a sequence of data-points gathered at\n",
        "equal intervals, along with time series parameters such as\n",
        "stride, length of history, etc., to produce batches for\n",
        "training/validation.\n",
        "\n",
        "#### Arguments\n",
        "    data: Indexable generator (such as list or Numpy array)\n",
        "        containing consecutive data points (timesteps).\n",
        "        The data should be at 2D, and axis 0 is expected\n",
        "        to be the time dimension.\n",
        "    targets: Targets corresponding to timesteps in `data`.\n",
        "        It should have same length as `data`.\n",
        "    length: Length of the output sequences (in number of timesteps).\n",
        "    sampling_rate: Period between successive individual timesteps\n",
        "        within sequences. For rate `r`, timesteps\n",
        "        `data[i]`, `data[i-r]`, ... `data[i - length]`\n",
        "        are used for create a sample sequence.\n",
        "    stride: Period between successive output sequences.\n",
        "        For stride `s`, consecutive output samples would\n",
        "        be centered around `data[i]`, `data[i+s]`, `data[i+2*s]`, etc.\n",
        "    start_index: Data points earlier than `start_index` will not be used\n",
        "        in the output sequences. This is useful to reserve part of the\n",
        "        data for test or validation.\n",
        "    end_index: Data points later than `end_index` will not be used\n",
        "        in the output sequences. This is useful to reserve part of the\n",
        "        data for test or validation.\n",
        "    shuffle: Whether to shuffle output samples,\n",
        "        or instead draw them in chronological order.\n",
        "    reverse: Boolean: if `true`, timesteps in each output sample will be\n",
        "        in reverse chronological order.\n",
        "    batch_size: Number of timeseries samples in each batch\n",
        "        (except maybe the last one)."
      ]
    },
    {
      "cell_type": "code",
      "execution_count": null,
      "metadata": {
        "id": "wwvIMoesekvV"
      },
      "outputs": [],
      "source": [
        "from keras.preprocessing.sequence import TimeseriesGenerator"
      ]
    },
    {
      "cell_type": "code",
      "execution_count": null,
      "metadata": {
        "colab": {
          "base_uri": "https://localhost:8080/"
        },
        "id": "QuLzVSySekvV",
        "outputId": "55b5a24a-8429-4096-f5b1-eb4d5c4aeca9"
      },
      "outputs": [
        {
          "output_type": "execute_result",
          "data": {
            "text/plain": [
              "array([[0.03662502],\n",
              "       [0.03653945],\n",
              "       [0.08309088],\n",
              "       [0.13118261],\n",
              "       [0.10183125],\n",
              "       [0.12818757],\n",
              "       [0.12279651],\n",
              "       [0.09464316],\n",
              "       [0.09370187],\n",
              "       [0.10508301],\n",
              "       [0.10345713],\n",
              "       [0.16301557],\n",
              "       [0.        ],\n",
              "       [0.01968167],\n",
              "       [0.09661133],\n",
              "       [0.11518056],\n",
              "       [0.10919048],\n",
              "       [0.14247818],\n",
              "       [0.12211193],\n",
              "       [0.12202636],\n",
              "       [0.11406812],\n",
              "       [0.10311484],\n",
              "       [0.12570597],\n",
              "       [0.16626733],\n",
              "       [0.00376519],\n",
              "       [0.02960808],\n",
              "       [0.12082834],\n",
              "       [0.10525415],\n",
              "       [0.12228307],\n",
              "       [0.16720863],\n",
              "       [0.11064522],\n",
              "       [0.14444635],\n",
              "       [0.11492384],\n",
              "       [0.10414171],\n",
              "       [0.15000856],\n",
              "       [0.16601061],\n",
              "       [0.02900907],\n",
              "       [0.03876433],\n",
              "       [0.10593873],\n",
              "       [0.0824063 ],\n",
              "       [0.14410406],\n",
              "       [0.16626733],\n",
              "       [0.1020024 ],\n",
              "       [0.16849221],\n",
              "       [0.10302927],\n",
              "       [0.13032689],\n",
              "       [0.15574191],\n",
              "       [0.1536026 ],\n",
              "       [0.05716242],\n",
              "       [0.081465  ],\n",
              "       [0.10533972],\n",
              "       [0.1358891 ],\n",
              "       [0.18723259],\n",
              "       [0.15445833],\n",
              "       [0.16344344],\n",
              "       [0.17379771],\n",
              "       [0.11415369],\n",
              "       [0.16951908],\n",
              "       [0.15565634],\n",
              "       [0.17679274],\n",
              "       [0.06221119],\n",
              "       [0.06794455],\n",
              "       [0.12176964],\n",
              "       [0.13725826],\n",
              "       [0.18646243],\n",
              "       [0.17336984],\n",
              "       [0.18825946],\n",
              "       [0.17140168],\n",
              "       [0.16592504],\n",
              "       [0.197758  ],\n",
              "       [0.15403046],\n",
              "       [0.25106966],\n",
              "       [0.06546295],\n",
              "       [0.08454561],\n",
              "       [0.15976382],\n",
              "       [0.17619374],\n",
              "       [0.18877289],\n",
              "       [0.20674311],\n",
              "       [0.20571624],\n",
              "       [0.17764847],\n",
              "       [0.21256204],\n",
              "       [0.21838097],\n",
              "       [0.19810029],\n",
              "       [0.27853842],\n",
              "       [0.08565805],\n",
              "       [0.12014376],\n",
              "       [0.20948143],\n",
              "       [0.20982372],\n",
              "       [0.21872326],\n",
              "       [0.26912545],\n",
              "       [0.22163272],\n",
              "       [0.24456615],\n",
              "       [0.23934623],\n",
              "       [0.24114325],\n",
              "       [0.26946774],\n",
              "       [0.32004107],\n",
              "       [0.10371385],\n",
              "       [0.16438473],\n",
              "       [0.25474927],\n",
              "       [0.1986993 ],\n",
              "       [0.29128872],\n",
              "       [0.31165497],\n",
              "       [0.22291631],\n",
              "       [0.30797536],\n",
              "       [0.244395  ],\n",
              "       [0.28161903],\n",
              "       [0.29856238],\n",
              "       [0.31208283],\n",
              "       [0.17550916],\n",
              "       [0.18697587],\n",
              "       [0.24490844],\n",
              "       [0.24499401],\n",
              "       [0.3224371 ],\n",
              "       [0.31114154],\n",
              "       [0.2860688 ],\n",
              "       [0.32594558],\n",
              "       [0.21769639],\n",
              "       [0.30070169],\n",
              "       [0.32158138],\n",
              "       [0.35504022],\n",
              "       [0.17850419],\n",
              "       [0.20631525],\n",
              "       [0.28290262],\n",
              "       [0.29899024],\n",
              "       [0.35812083],\n",
              "       [0.31918535],\n",
              "       [0.33604313],\n",
              "       [0.34562725],\n",
              "       [0.26672942],\n",
              "       [0.33313366],\n",
              "       [0.31533459],\n",
              "       [0.42307034],\n",
              "       [0.19638884],\n",
              "       [0.22060585],\n",
              "       [0.2894917 ],\n",
              "       [0.3174739 ],\n",
              "       [0.35195961],\n",
              "       [0.35101831],\n",
              "       [0.38824234],\n",
              "       [0.36239945],\n",
              "       [0.30831765],\n",
              "       [0.39320555],\n",
              "       [0.32620229],\n",
              "       [0.47141879],\n",
              "       [0.2223173 ],\n",
              "       [0.2453363 ],\n",
              "       [0.34348793],\n",
              "       [0.34768099],\n",
              "       [0.36813281],\n",
              "       [0.41819271],\n",
              "       [0.36436762],\n",
              "       [0.37352387],\n",
              "       [0.36180044],\n",
              "       [0.3625706 ],\n",
              "       [0.40219066],\n",
              "       [0.51574534],\n",
              "       [0.21615608],\n",
              "       [0.27434537],\n",
              "       [0.40150608],\n",
              "       [0.36205716],\n",
              "       [0.44583262],\n",
              "       [0.48998802],\n",
              "       [0.36975869],\n",
              "       [0.4676536 ],\n",
              "       [0.40304638],\n",
              "       [0.40039363],\n",
              "       [0.44634606],\n",
              "       [0.50239603],\n",
              "       [0.25971248],\n",
              "       [0.30455246],\n",
              "       [0.41862057],\n",
              "       [0.36830395],\n",
              "       [0.49734725],\n",
              "       [0.53876433],\n",
              "       [0.40741058],\n",
              "       [0.52413144],\n",
              "       [0.42837583],\n",
              "       [0.47997604],\n",
              "       [0.52173541],\n",
              "       [0.55741913],\n",
              "       [0.30771864],\n",
              "       [0.31764505],\n",
              "       [0.44189629],\n",
              "       [0.41049119],\n",
              "       [0.55955845],\n",
              "       [0.55219921],\n",
              "       [0.47723772],\n",
              "       [0.55724799],\n",
              "       [0.43573507],\n",
              "       [0.56631867],\n",
              "       [0.5441554 ],\n",
              "       [0.60191682],\n",
              "       [0.34759541],\n",
              "       [0.38096868],\n",
              "       [0.45644361],\n",
              "       [0.50179702],\n",
              "       [0.57872668],\n",
              "       [0.59438645],\n",
              "       [0.55810371],\n",
              "       [0.54287181],\n",
              "       [0.53003594],\n",
              "       [0.59190484],\n",
              "       [0.49007359],\n",
              "       [0.66814992],\n",
              "       [0.36239945],\n",
              "       [0.38909807],\n",
              "       [0.48408352],\n",
              "       [0.52464487],\n",
              "       [0.54235838],\n",
              "       [0.61064522],\n",
              "       [0.55416738],\n",
              "       [0.50419305],\n",
              "       [0.53405785],\n",
              "       [0.51720007],\n",
              "       [0.50641794],\n",
              "       [0.66849221],\n",
              "       [0.30181414],\n",
              "       [0.38079754],\n",
              "       [0.55142906],\n",
              "       [0.54706486],\n",
              "       [0.54081807],\n",
              "       [0.64359062],\n",
              "       [0.51737121],\n",
              "       [0.53414342],\n",
              "       [0.54672257],\n",
              "       [0.54612357],\n",
              "       [0.5848879 ],\n",
              "       [0.72086257],\n",
              "       [0.3311655 ],\n",
              "       [0.42640767],\n",
              "       [0.58197844],\n",
              "       [0.534828  ],\n",
              "       [0.59353072],\n",
              "       [0.71136403],\n",
              "       [0.51985282],\n",
              "       [0.63648811],\n",
              "       [0.60362827],\n",
              "       [0.56315249],\n",
              "       [0.62442239],\n",
              "       [0.7232586 ],\n",
              "       [0.3812254 ],\n",
              "       [0.48006161],\n",
              "       [0.57145302],\n",
              "       [0.54697929],\n",
              "       [0.71119288],\n",
              "       [0.70537395],\n",
              "       [0.58309088],\n",
              "       [0.69587541],\n",
              "       [0.55630669],\n",
              "       [0.66087626],\n",
              "       [0.67790519],\n",
              "       [0.76082492],\n",
              "       [0.45901078],\n",
              "       [0.50119801],\n",
              "       [0.60576759],\n",
              "       [0.63854184],\n",
              "       [0.78615437],\n",
              "       [0.7148725 ],\n",
              "       [0.69784357],\n",
              "       [0.72146158],\n",
              "       [0.63862742],\n",
              "       [0.72813623],\n",
              "       [0.69373609],\n",
              "       [0.82817046],\n",
              "       [0.47287352],\n",
              "       [0.51583091],\n",
              "       [0.6010611 ],\n",
              "       [0.67995893],\n",
              "       [0.7497005 ],\n",
              "       [0.75928461],\n",
              "       [0.67893206],\n",
              "       [0.68030122],\n",
              "       [0.66720863],\n",
              "       [0.75183981],\n",
              "       [0.63657368],\n",
              "       [0.87959952],\n",
              "       [0.45943864],\n",
              "       [0.51608763],\n",
              "       [0.65813794],\n",
              "       [0.69108335],\n",
              "       [0.72539791],\n",
              "       [0.84485709],\n",
              "       [0.75628958],\n",
              "       [0.70109533],\n",
              "       [0.76938217],\n",
              "       [0.76604484],\n",
              "       [0.72522677],\n",
              "       [0.9543043 ],\n",
              "       [0.48083176],\n",
              "       [0.6240801 ],\n",
              "       [0.77682697],\n",
              "       [0.71812425],\n",
              "       [0.78820811],\n",
              "       [0.9116892 ],\n",
              "       [0.67807633],\n",
              "       [0.82782817],\n",
              "       [0.79111758],\n",
              "       [0.75979805],\n",
              "       [0.85486907],\n",
              "       [0.97501284],\n",
              "       [0.51463289],\n",
              "       [0.63511895],\n",
              "       [0.80865993],\n",
              "       [0.72377203],\n",
              "       [0.89902447],\n",
              "       [1.        ],\n",
              "       [0.71572822],\n",
              "       [0.88499059],\n",
              "       [0.75646072],\n",
              "       [0.82423413],\n",
              "       [0.87035769],\n",
              "       [0.95498888],\n",
              "       [0.55296937]])"
            ]
          },
          "metadata": {},
          "execution_count": 20
        }
      ],
      "source": [
        "scaled_train"
      ]
    },
    {
      "cell_type": "code",
      "execution_count": null,
      "metadata": {
        "id": "pchbvMzaekvV"
      },
      "outputs": [],
      "source": [
        "# define generator\n",
        "n_input = 2\n",
        "n_features = 1\n",
        "generator = TimeseriesGenerator(scaled_train, scaled_train, length=n_input, batch_size=1)"
      ]
    },
    {
      "cell_type": "code",
      "execution_count": null,
      "metadata": {
        "colab": {
          "base_uri": "https://localhost:8080/"
        },
        "id": "1JWexa0sekvV",
        "outputId": "fa666793-5ddf-4048-beaa-b3208a19aa18"
      },
      "outputs": [
        {
          "output_type": "execute_result",
          "data": {
            "text/plain": [
              "313"
            ]
          },
          "metadata": {},
          "execution_count": 22
        }
      ],
      "source": [
        "len(scaled_train)"
      ]
    },
    {
      "cell_type": "code",
      "execution_count": null,
      "metadata": {
        "colab": {
          "base_uri": "https://localhost:8080/"
        },
        "id": "EErDhoDhekvV",
        "outputId": "6458f036-4b7e-4901-8510-32bf035b058f"
      },
      "outputs": [
        {
          "output_type": "execute_result",
          "data": {
            "text/plain": [
              "311"
            ]
          },
          "metadata": {},
          "execution_count": 23
        }
      ],
      "source": [
        "len(generator) # n_input = 2"
      ]
    },
    {
      "cell_type": "code",
      "execution_count": null,
      "metadata": {
        "colab": {
          "base_uri": "https://localhost:8080/"
        },
        "id": "XfmQo2YuekvV",
        "outputId": "e6daf006-4d5c-4b97-d88c-cfaafad6eac6"
      },
      "outputs": [
        {
          "output_type": "execute_result",
          "data": {
            "text/plain": [
              "array([[0.03662502],\n",
              "       [0.03653945],\n",
              "       [0.08309088],\n",
              "       [0.13118261],\n",
              "       [0.10183125],\n",
              "       [0.12818757],\n",
              "       [0.12279651],\n",
              "       [0.09464316],\n",
              "       [0.09370187],\n",
              "       [0.10508301],\n",
              "       [0.10345713],\n",
              "       [0.16301557],\n",
              "       [0.        ],\n",
              "       [0.01968167],\n",
              "       [0.09661133],\n",
              "       [0.11518056],\n",
              "       [0.10919048],\n",
              "       [0.14247818],\n",
              "       [0.12211193],\n",
              "       [0.12202636],\n",
              "       [0.11406812],\n",
              "       [0.10311484],\n",
              "       [0.12570597],\n",
              "       [0.16626733],\n",
              "       [0.00376519],\n",
              "       [0.02960808],\n",
              "       [0.12082834],\n",
              "       [0.10525415],\n",
              "       [0.12228307],\n",
              "       [0.16720863],\n",
              "       [0.11064522],\n",
              "       [0.14444635],\n",
              "       [0.11492384],\n",
              "       [0.10414171],\n",
              "       [0.15000856],\n",
              "       [0.16601061],\n",
              "       [0.02900907],\n",
              "       [0.03876433],\n",
              "       [0.10593873],\n",
              "       [0.0824063 ],\n",
              "       [0.14410406],\n",
              "       [0.16626733],\n",
              "       [0.1020024 ],\n",
              "       [0.16849221],\n",
              "       [0.10302927],\n",
              "       [0.13032689],\n",
              "       [0.15574191],\n",
              "       [0.1536026 ],\n",
              "       [0.05716242],\n",
              "       [0.081465  ],\n",
              "       [0.10533972],\n",
              "       [0.1358891 ],\n",
              "       [0.18723259],\n",
              "       [0.15445833],\n",
              "       [0.16344344],\n",
              "       [0.17379771],\n",
              "       [0.11415369],\n",
              "       [0.16951908],\n",
              "       [0.15565634],\n",
              "       [0.17679274],\n",
              "       [0.06221119],\n",
              "       [0.06794455],\n",
              "       [0.12176964],\n",
              "       [0.13725826],\n",
              "       [0.18646243],\n",
              "       [0.17336984],\n",
              "       [0.18825946],\n",
              "       [0.17140168],\n",
              "       [0.16592504],\n",
              "       [0.197758  ],\n",
              "       [0.15403046],\n",
              "       [0.25106966],\n",
              "       [0.06546295],\n",
              "       [0.08454561],\n",
              "       [0.15976382],\n",
              "       [0.17619374],\n",
              "       [0.18877289],\n",
              "       [0.20674311],\n",
              "       [0.20571624],\n",
              "       [0.17764847],\n",
              "       [0.21256204],\n",
              "       [0.21838097],\n",
              "       [0.19810029],\n",
              "       [0.27853842],\n",
              "       [0.08565805],\n",
              "       [0.12014376],\n",
              "       [0.20948143],\n",
              "       [0.20982372],\n",
              "       [0.21872326],\n",
              "       [0.26912545],\n",
              "       [0.22163272],\n",
              "       [0.24456615],\n",
              "       [0.23934623],\n",
              "       [0.24114325],\n",
              "       [0.26946774],\n",
              "       [0.32004107],\n",
              "       [0.10371385],\n",
              "       [0.16438473],\n",
              "       [0.25474927],\n",
              "       [0.1986993 ],\n",
              "       [0.29128872],\n",
              "       [0.31165497],\n",
              "       [0.22291631],\n",
              "       [0.30797536],\n",
              "       [0.244395  ],\n",
              "       [0.28161903],\n",
              "       [0.29856238],\n",
              "       [0.31208283],\n",
              "       [0.17550916],\n",
              "       [0.18697587],\n",
              "       [0.24490844],\n",
              "       [0.24499401],\n",
              "       [0.3224371 ],\n",
              "       [0.31114154],\n",
              "       [0.2860688 ],\n",
              "       [0.32594558],\n",
              "       [0.21769639],\n",
              "       [0.30070169],\n",
              "       [0.32158138],\n",
              "       [0.35504022],\n",
              "       [0.17850419],\n",
              "       [0.20631525],\n",
              "       [0.28290262],\n",
              "       [0.29899024],\n",
              "       [0.35812083],\n",
              "       [0.31918535],\n",
              "       [0.33604313],\n",
              "       [0.34562725],\n",
              "       [0.26672942],\n",
              "       [0.33313366],\n",
              "       [0.31533459],\n",
              "       [0.42307034],\n",
              "       [0.19638884],\n",
              "       [0.22060585],\n",
              "       [0.2894917 ],\n",
              "       [0.3174739 ],\n",
              "       [0.35195961],\n",
              "       [0.35101831],\n",
              "       [0.38824234],\n",
              "       [0.36239945],\n",
              "       [0.30831765],\n",
              "       [0.39320555],\n",
              "       [0.32620229],\n",
              "       [0.47141879],\n",
              "       [0.2223173 ],\n",
              "       [0.2453363 ],\n",
              "       [0.34348793],\n",
              "       [0.34768099],\n",
              "       [0.36813281],\n",
              "       [0.41819271],\n",
              "       [0.36436762],\n",
              "       [0.37352387],\n",
              "       [0.36180044],\n",
              "       [0.3625706 ],\n",
              "       [0.40219066],\n",
              "       [0.51574534],\n",
              "       [0.21615608],\n",
              "       [0.27434537],\n",
              "       [0.40150608],\n",
              "       [0.36205716],\n",
              "       [0.44583262],\n",
              "       [0.48998802],\n",
              "       [0.36975869],\n",
              "       [0.4676536 ],\n",
              "       [0.40304638],\n",
              "       [0.40039363],\n",
              "       [0.44634606],\n",
              "       [0.50239603],\n",
              "       [0.25971248],\n",
              "       [0.30455246],\n",
              "       [0.41862057],\n",
              "       [0.36830395],\n",
              "       [0.49734725],\n",
              "       [0.53876433],\n",
              "       [0.40741058],\n",
              "       [0.52413144],\n",
              "       [0.42837583],\n",
              "       [0.47997604],\n",
              "       [0.52173541],\n",
              "       [0.55741913],\n",
              "       [0.30771864],\n",
              "       [0.31764505],\n",
              "       [0.44189629],\n",
              "       [0.41049119],\n",
              "       [0.55955845],\n",
              "       [0.55219921],\n",
              "       [0.47723772],\n",
              "       [0.55724799],\n",
              "       [0.43573507],\n",
              "       [0.56631867],\n",
              "       [0.5441554 ],\n",
              "       [0.60191682],\n",
              "       [0.34759541],\n",
              "       [0.38096868],\n",
              "       [0.45644361],\n",
              "       [0.50179702],\n",
              "       [0.57872668],\n",
              "       [0.59438645],\n",
              "       [0.55810371],\n",
              "       [0.54287181],\n",
              "       [0.53003594],\n",
              "       [0.59190484],\n",
              "       [0.49007359],\n",
              "       [0.66814992],\n",
              "       [0.36239945],\n",
              "       [0.38909807],\n",
              "       [0.48408352],\n",
              "       [0.52464487],\n",
              "       [0.54235838],\n",
              "       [0.61064522],\n",
              "       [0.55416738],\n",
              "       [0.50419305],\n",
              "       [0.53405785],\n",
              "       [0.51720007],\n",
              "       [0.50641794],\n",
              "       [0.66849221],\n",
              "       [0.30181414],\n",
              "       [0.38079754],\n",
              "       [0.55142906],\n",
              "       [0.54706486],\n",
              "       [0.54081807],\n",
              "       [0.64359062],\n",
              "       [0.51737121],\n",
              "       [0.53414342],\n",
              "       [0.54672257],\n",
              "       [0.54612357],\n",
              "       [0.5848879 ],\n",
              "       [0.72086257],\n",
              "       [0.3311655 ],\n",
              "       [0.42640767],\n",
              "       [0.58197844],\n",
              "       [0.534828  ],\n",
              "       [0.59353072],\n",
              "       [0.71136403],\n",
              "       [0.51985282],\n",
              "       [0.63648811],\n",
              "       [0.60362827],\n",
              "       [0.56315249],\n",
              "       [0.62442239],\n",
              "       [0.7232586 ],\n",
              "       [0.3812254 ],\n",
              "       [0.48006161],\n",
              "       [0.57145302],\n",
              "       [0.54697929],\n",
              "       [0.71119288],\n",
              "       [0.70537395],\n",
              "       [0.58309088],\n",
              "       [0.69587541],\n",
              "       [0.55630669],\n",
              "       [0.66087626],\n",
              "       [0.67790519],\n",
              "       [0.76082492],\n",
              "       [0.45901078],\n",
              "       [0.50119801],\n",
              "       [0.60576759],\n",
              "       [0.63854184],\n",
              "       [0.78615437],\n",
              "       [0.7148725 ],\n",
              "       [0.69784357],\n",
              "       [0.72146158],\n",
              "       [0.63862742],\n",
              "       [0.72813623],\n",
              "       [0.69373609],\n",
              "       [0.82817046],\n",
              "       [0.47287352],\n",
              "       [0.51583091],\n",
              "       [0.6010611 ],\n",
              "       [0.67995893],\n",
              "       [0.7497005 ],\n",
              "       [0.75928461],\n",
              "       [0.67893206],\n",
              "       [0.68030122],\n",
              "       [0.66720863],\n",
              "       [0.75183981],\n",
              "       [0.63657368],\n",
              "       [0.87959952],\n",
              "       [0.45943864],\n",
              "       [0.51608763],\n",
              "       [0.65813794],\n",
              "       [0.69108335],\n",
              "       [0.72539791],\n",
              "       [0.84485709],\n",
              "       [0.75628958],\n",
              "       [0.70109533],\n",
              "       [0.76938217],\n",
              "       [0.76604484],\n",
              "       [0.72522677],\n",
              "       [0.9543043 ],\n",
              "       [0.48083176],\n",
              "       [0.6240801 ],\n",
              "       [0.77682697],\n",
              "       [0.71812425],\n",
              "       [0.78820811],\n",
              "       [0.9116892 ],\n",
              "       [0.67807633],\n",
              "       [0.82782817],\n",
              "       [0.79111758],\n",
              "       [0.75979805],\n",
              "       [0.85486907],\n",
              "       [0.97501284],\n",
              "       [0.51463289],\n",
              "       [0.63511895],\n",
              "       [0.80865993],\n",
              "       [0.72377203],\n",
              "       [0.89902447],\n",
              "       [1.        ],\n",
              "       [0.71572822],\n",
              "       [0.88499059],\n",
              "       [0.75646072],\n",
              "       [0.82423413],\n",
              "       [0.87035769],\n",
              "       [0.95498888],\n",
              "       [0.55296937]])"
            ]
          },
          "metadata": {},
          "execution_count": 24
        }
      ],
      "source": [
        "scaled_train"
      ]
    },
    {
      "cell_type": "code",
      "execution_count": null,
      "metadata": {
        "id": "l5PzGd-zekvV"
      },
      "outputs": [],
      "source": [
        "# What does the first batch look like?\n",
        "X,y = generator[0]"
      ]
    },
    {
      "cell_type": "code",
      "execution_count": null,
      "metadata": {
        "colab": {
          "base_uri": "https://localhost:8080/"
        },
        "id": "KSDAgqbBekvV",
        "outputId": "c262a840-c492-4960-ff44-098559b76772"
      },
      "outputs": [
        {
          "output_type": "stream",
          "name": "stdout",
          "text": [
            "Given the Array: \n",
            "[0.03662502 0.03653945]\n",
            "Predict this y: \n",
            " [[0.08309088]]\n"
          ]
        }
      ],
      "source": [
        "print(f'Given the Array: \\n{X.flatten()}')\n",
        "print(f'Predict this y: \\n {y}')"
      ]
    },
    {
      "cell_type": "code",
      "execution_count": null,
      "metadata": {
        "id": "srn1zDXUekvV"
      },
      "outputs": [],
      "source": [
        "# Let's redefine to get 12 months back and then predict the next month out\n",
        "n_input = 12\n",
        "generator = TimeseriesGenerator(scaled_train, scaled_train, length=n_input, batch_size=1)"
      ]
    },
    {
      "cell_type": "code",
      "execution_count": null,
      "metadata": {
        "id": "mAaFk-rMekvW"
      },
      "outputs": [],
      "source": [
        "# What does the first batch look like?\n",
        "X,y = generator[0]"
      ]
    },
    {
      "cell_type": "code",
      "execution_count": null,
      "metadata": {
        "colab": {
          "base_uri": "https://localhost:8080/"
        },
        "id": "_4DWUYiVekvW",
        "outputId": "7c8c579e-93ce-4a3f-bd0a-9ad89d2848cf"
      },
      "outputs": [
        {
          "output_type": "stream",
          "name": "stdout",
          "text": [
            "Given the Array: \n",
            "[0.03662502 0.03653945 0.08309088 0.13118261 0.10183125 0.12818757\n",
            " 0.12279651 0.09464316 0.09370187 0.10508301 0.10345713 0.16301557]\n",
            "Predict this y: \n",
            " [[0.]]\n"
          ]
        }
      ],
      "source": [
        "print(f'Given the Array: \\n{X.flatten()}')\n",
        "print(f'Predict this y: \\n {y}')"
      ]
    },
    {
      "cell_type": "markdown",
      "metadata": {
        "id": "aYbo8eeYekvW"
      },
      "source": [
        "### Create the Model"
      ]
    },
    {
      "cell_type": "code",
      "execution_count": null,
      "metadata": {
        "id": "xsmgcFwlekvW"
      },
      "outputs": [],
      "source": [
        "from keras.models import Sequential\n",
        "from keras.layers import Dense\n",
        "from keras.layers import LSTM"
      ]
    },
    {
      "cell_type": "code",
      "execution_count": null,
      "metadata": {
        "id": "15AOexqlekvW"
      },
      "outputs": [],
      "source": [
        "# define model\n",
        "model = Sequential()\n",
        "model.add(LSTM(100, activation='relu', input_shape=(n_input, n_features)))\n",
        "model.add(Dense(1))\n",
        "model.compile(optimizer='adam', loss='mse')"
      ]
    },
    {
      "cell_type": "code",
      "execution_count": null,
      "metadata": {
        "colab": {
          "base_uri": "https://localhost:8080/"
        },
        "id": "3mz5A8JsekvW",
        "outputId": "533cca71-efc5-4e15-dc4e-b9a0ad0d9809"
      },
      "outputs": [
        {
          "output_type": "stream",
          "name": "stdout",
          "text": [
            "Model: \"sequential\"\n",
            "_________________________________________________________________\n",
            " Layer (type)                Output Shape              Param #   \n",
            "=================================================================\n",
            " lstm (LSTM)                 (None, 100)               40800     \n",
            "                                                                 \n",
            " dense (Dense)               (None, 1)                 101       \n",
            "                                                                 \n",
            "=================================================================\n",
            "Total params: 40,901\n",
            "Trainable params: 40,901\n",
            "Non-trainable params: 0\n",
            "_________________________________________________________________\n"
          ]
        }
      ],
      "source": [
        "model.summary()"
      ]
    },
    {
      "cell_type": "code",
      "execution_count": null,
      "metadata": {
        "colab": {
          "base_uri": "https://localhost:8080/"
        },
        "id": "c3d7BrNsekvW",
        "outputId": "da629560-bec3-44b3-f7e8-e71e043762f3"
      },
      "outputs": [
        {
          "output_type": "stream",
          "name": "stdout",
          "text": [
            "Epoch 1/50\n"
          ]
        },
        {
          "output_type": "stream",
          "name": "stderr",
          "text": [
            "<timed eval>:2: UserWarning: `Model.fit_generator` is deprecated and will be removed in a future version. Please use `Model.fit`, which supports generators.\n"
          ]
        },
        {
          "output_type": "stream",
          "name": "stdout",
          "text": [
            "301/301 [==============================] - 4s 7ms/step - loss: 0.0224\n",
            "Epoch 2/50\n",
            "301/301 [==============================] - 2s 7ms/step - loss: 0.0087\n",
            "Epoch 3/50\n",
            "301/301 [==============================] - 2s 7ms/step - loss: 0.0089\n",
            "Epoch 4/50\n",
            "301/301 [==============================] - 3s 8ms/step - loss: 0.0079\n",
            "Epoch 5/50\n",
            "301/301 [==============================] - 3s 9ms/step - loss: 0.0066\n",
            "Epoch 6/50\n",
            "301/301 [==============================] - 2s 7ms/step - loss: 0.0051\n",
            "Epoch 7/50\n",
            "301/301 [==============================] - 2s 7ms/step - loss: 0.0037\n",
            "Epoch 8/50\n",
            "301/301 [==============================] - 2s 8ms/step - loss: 0.0031\n",
            "Epoch 9/50\n",
            "301/301 [==============================] - 3s 10ms/step - loss: 0.0030\n",
            "Epoch 10/50\n",
            "301/301 [==============================] - 2s 7ms/step - loss: 0.0028\n",
            "Epoch 11/50\n",
            "301/301 [==============================] - 2s 7ms/step - loss: 0.0024\n",
            "Epoch 12/50\n",
            "301/301 [==============================] - 5s 15ms/step - loss: 0.0024\n",
            "Epoch 13/50\n",
            "301/301 [==============================] - 4s 12ms/step - loss: 0.0020\n",
            "Epoch 14/50\n",
            "301/301 [==============================] - 2s 7ms/step - loss: 0.0018\n",
            "Epoch 15/50\n",
            "301/301 [==============================] - 2s 7ms/step - loss: 0.0019\n",
            "Epoch 16/50\n",
            "301/301 [==============================] - 2s 7ms/step - loss: 0.0017\n",
            "Epoch 17/50\n",
            "301/301 [==============================] - 3s 11ms/step - loss: 0.0017\n",
            "Epoch 18/50\n",
            "301/301 [==============================] - 2s 7ms/step - loss: 0.0018\n",
            "Epoch 19/50\n",
            "301/301 [==============================] - 2s 7ms/step - loss: 0.0018\n",
            "Epoch 20/50\n",
            "301/301 [==============================] - 2s 7ms/step - loss: 0.0017\n",
            "Epoch 21/50\n",
            "301/301 [==============================] - 3s 10ms/step - loss: 0.0016\n",
            "Epoch 22/50\n",
            "301/301 [==============================] - 2s 7ms/step - loss: 0.0015\n",
            "Epoch 23/50\n",
            "301/301 [==============================] - 2s 8ms/step - loss: 0.0015\n",
            "Epoch 24/50\n",
            "301/301 [==============================] - 2s 8ms/step - loss: 0.0016\n",
            "Epoch 25/50\n",
            "301/301 [==============================] - 4s 12ms/step - loss: 0.0017\n",
            "Epoch 26/50\n",
            "301/301 [==============================] - 2s 7ms/step - loss: 0.0017\n",
            "Epoch 27/50\n",
            "301/301 [==============================] - 2s 7ms/step - loss: 0.0017\n",
            "Epoch 28/50\n",
            "301/301 [==============================] - 2s 8ms/step - loss: 0.0017\n",
            "Epoch 29/50\n",
            "301/301 [==============================] - 3s 8ms/step - loss: 0.0016\n",
            "Epoch 30/50\n",
            "301/301 [==============================] - 3s 9ms/step - loss: 0.0015\n",
            "Epoch 31/50\n",
            "301/301 [==============================] - 2s 7ms/step - loss: 0.0018\n",
            "Epoch 32/50\n",
            "301/301 [==============================] - 2s 8ms/step - loss: 0.0017\n",
            "Epoch 33/50\n",
            "301/301 [==============================] - 3s 8ms/step - loss: 0.0014\n",
            "Epoch 34/50\n",
            "301/301 [==============================] - 2s 7ms/step - loss: 0.0017\n",
            "Epoch 35/50\n",
            "301/301 [==============================] - 2s 7ms/step - loss: 0.0013\n",
            "Epoch 36/50\n",
            "301/301 [==============================] - 2s 8ms/step - loss: 0.0015\n",
            "Epoch 37/50\n",
            "301/301 [==============================] - 3s 9ms/step - loss: 0.0017\n",
            "Epoch 38/50\n",
            "301/301 [==============================] - 2s 7ms/step - loss: 0.0014\n",
            "Epoch 39/50\n",
            "301/301 [==============================] - 2s 7ms/step - loss: 0.0015\n",
            "Epoch 40/50\n",
            "301/301 [==============================] - 2s 7ms/step - loss: 0.0014\n",
            "Epoch 41/50\n",
            "301/301 [==============================] - 3s 9ms/step - loss: 0.0014\n",
            "Epoch 42/50\n",
            "301/301 [==============================] - 2s 7ms/step - loss: 0.0013\n",
            "Epoch 43/50\n",
            "301/301 [==============================] - 2s 7ms/step - loss: 0.0014\n",
            "Epoch 44/50\n",
            "301/301 [==============================] - 2s 7ms/step - loss: 0.0015\n",
            "Epoch 45/50\n",
            "301/301 [==============================] - 3s 9ms/step - loss: 0.0013\n",
            "Epoch 46/50\n",
            "301/301 [==============================] - 2s 7ms/step - loss: 0.0014\n",
            "Epoch 47/50\n",
            "301/301 [==============================] - 2s 7ms/step - loss: 0.0014\n",
            "Epoch 48/50\n",
            "301/301 [==============================] - 2s 7ms/step - loss: 0.0015\n",
            "Epoch 49/50\n",
            "301/301 [==============================] - 3s 9ms/step - loss: 0.0013\n",
            "Epoch 50/50\n",
            "301/301 [==============================] - 2s 7ms/step - loss: 0.0013\n",
            "CPU times: user 2min 40s, sys: 5.07 s, total: 2min 46s\n",
            "Wall time: 2min 37s\n"
          ]
        },
        {
          "output_type": "execute_result",
          "data": {
            "text/plain": [
              "<keras.callbacks.History at 0x7fa1be64ee50>"
            ]
          },
          "metadata": {},
          "execution_count": 33
        }
      ],
      "source": [
        "%%time\n",
        "# fit model\n",
        "model.fit_generator(generator,epochs=50)"
      ]
    },
    {
      "cell_type": "code",
      "execution_count": null,
      "metadata": {
        "colab": {
          "base_uri": "https://localhost:8080/"
        },
        "id": "azblV5V1ekvW",
        "outputId": "cafcb83f-6757-4cdf-a886-b1c43d50ffe1"
      },
      "outputs": [
        {
          "output_type": "execute_result",
          "data": {
            "text/plain": [
              "dict_keys(['loss'])"
            ]
          },
          "metadata": {},
          "execution_count": 34
        }
      ],
      "source": [
        "model.history.history.keys()"
      ]
    },
    {
      "cell_type": "code",
      "execution_count": null,
      "metadata": {
        "colab": {
          "base_uri": "https://localhost:8080/",
          "height": 448
        },
        "id": "i9ul61msekvW",
        "outputId": "086dc3b6-a565-4223-ab27-fed1ee973db6"
      },
      "outputs": [
        {
          "output_type": "execute_result",
          "data": {
            "text/plain": [
              "[<matplotlib.lines.Line2D at 0x7fa1befcb7c0>]"
            ]
          },
          "metadata": {},
          "execution_count": 35
        },
        {
          "output_type": "display_data",
          "data": {
            "text/plain": [
              "<Figure size 640x480 with 1 Axes>"
            ],
            "image/png": "[encoded data removed]"
          },
          "metadata": {}
        }
      ],
      "source": [
        "loss_per_epoch = model.history.history['loss']\n",
        "plt.plot(range(len(loss_per_epoch)),loss_per_epoch)"
      ]
    },
    {
      "cell_type": "markdown",
      "metadata": {
        "id": "EQEhU8YcekvW"
      },
      "source": [
        "## Evaluate on Test Data"
      ]
    },
    {
      "cell_type": "code",
      "execution_count": null,
      "metadata": {
        "id": "51-WzCRvekvX"
      },
      "outputs": [],
      "source": [
        "first_eval_batch = scaled_train[-12:]"
      ]
    },
    {
      "cell_type": "code",
      "execution_count": null,
      "metadata": {
        "colab": {
          "base_uri": "https://localhost:8080/"
        },
        "id": "JjYGdR8cekvX",
        "outputId": "cc7cb62d-1b0b-4855-ea35-13a47b5d4861"
      },
      "outputs": [
        {
          "output_type": "execute_result",
          "data": {
            "text/plain": [
              "array([[0.63511895],\n",
              "       [0.80865993],\n",
              "       [0.72377203],\n",
              "       [0.89902447],\n",
              "       [1.        ],\n",
              "       [0.71572822],\n",
              "       [0.88499059],\n",
              "       [0.75646072],\n",
              "       [0.82423413],\n",
              "       [0.87035769],\n",
              "       [0.95498888],\n",
              "       [0.55296937]])"
            ]
          },
          "metadata": {},
          "execution_count": 37
        }
      ],
      "source": [
        "first_eval_batch"
      ]
    },
    {
      "cell_type": "code",
      "execution_count": null,
      "metadata": {
        "id": "4IgXpfMPekvX"
      },
      "outputs": [],
      "source": [
        "first_eval_batch = first_eval_batch.reshape((1, n_input, n_features))"
      ]
    },
    {
      "cell_type": "code",
      "execution_count": null,
      "metadata": {
        "colab": {
          "base_uri": "https://localhost:8080/"
        },
        "id": "goOSRN-RekvX",
        "outputId": "cd2049a2-06a2-44be-838e-62cd628d7560"
      },
      "outputs": [
        {
          "output_type": "stream",
          "name": "stdout",
          "text": [
            "1/1 [==============================] - 0s 223ms/step\n"
          ]
        },
        {
          "output_type": "execute_result",
          "data": {
            "text/plain": [
              "array([[0.7051188]], dtype=float32)"
            ]
          },
          "metadata": {},
          "execution_count": 39
        }
      ],
      "source": [
        "model.predict(first_eval_batch)"
      ]
    },
    {
      "cell_type": "code",
      "execution_count": null,
      "metadata": {
        "colab": {
          "base_uri": "https://localhost:8080/"
        },
        "id": "ha2ztopxekvX",
        "outputId": "8073dfec-59c6-4679-ee94-0d711614330a"
      },
      "outputs": [
        {
          "output_type": "execute_result",
          "data": {
            "text/plain": [
              "array([0.62450796])"
            ]
          },
          "metadata": {},
          "execution_count": 40
        }
      ],
      "source": [
        "scaled_test[0]"
      ]
    },
    {
      "cell_type": "markdown",
      "metadata": {
        "id": "z3jVuW67ekvX"
      },
      "source": [
        "Now let's put this logic in a for loop to predict into the future for the entire test range.\n",
        "\n",
        "----"
      ]
    },
    {
      "cell_type": "code",
      "execution_count": null,
      "metadata": {
        "id": "CvFt93GMekvX"
      },
      "outputs": [],
      "source": [
        "test_predictions = []\n",
        "\n",
        "first_eval_batch = scaled_train[-n_input:]\n",
        "current_batch = first_eval_batch.reshape((1, n_input, n_features))"
      ]
    },
    {
      "cell_type": "code",
      "execution_count": null,
      "metadata": {
        "colab": {
          "base_uri": "https://localhost:8080/"
        },
        "id": "PQc1QH64ekvX",
        "outputId": "a392cbd0-ed06-4b19-910b-4953915ec5a8"
      },
      "outputs": [
        {
          "output_type": "execute_result",
          "data": {
            "text/plain": [
              "(1, 12, 1)"
            ]
          },
          "metadata": {},
          "execution_count": 42
        }
      ],
      "source": [
        "current_batch.shape"
      ]
    },
    {
      "cell_type": "code",
      "execution_count": null,
      "metadata": {
        "colab": {
          "base_uri": "https://localhost:8080/"
        },
        "id": "eADAXqt_ekvX",
        "outputId": "3ab0fff6-34e2-482b-fb5b-4214ff7fbc2e"
      },
      "outputs": [
        {
          "output_type": "execute_result",
          "data": {
            "text/plain": [
              "array([[[0.63511895],\n",
              "        [0.80865993],\n",
              "        [0.72377203],\n",
              "        [0.89902447],\n",
              "        [1.        ],\n",
              "        [0.71572822],\n",
              "        [0.88499059],\n",
              "        [0.75646072],\n",
              "        [0.82423413],\n",
              "        [0.87035769],\n",
              "        [0.95498888],\n",
              "        [0.55296937]]])"
            ]
          },
          "metadata": {},
          "execution_count": 43
        }
      ],
      "source": [
        "current_batch"
      ]
    },
    {
      "cell_type": "code",
      "execution_count": null,
      "metadata": {
        "colab": {
          "base_uri": "https://localhost:8080/"
        },
        "id": "QMAAV0zkekvX",
        "outputId": "e3ecb3b5-8a8e-47b0-e4d7-de2d691b8b8a"
      },
      "outputs": [
        {
          "output_type": "execute_result",
          "data": {
            "text/plain": [
              "array([[[ 0.80865993],\n",
              "        [ 0.72377203],\n",
              "        [ 0.89902447],\n",
              "        [ 1.        ],\n",
              "        [ 0.71572822],\n",
              "        [ 0.88499059],\n",
              "        [ 0.75646072],\n",
              "        [ 0.82423413],\n",
              "        [ 0.87035769],\n",
              "        [ 0.95498888],\n",
              "        [ 0.55296937],\n",
              "        [99.        ]]])"
            ]
          },
          "metadata": {},
          "execution_count": 44
        }
      ],
      "source": [
        "np.append(current_batch[:,1:,:],[[[99]]],axis=1)"
      ]
    },
    {
      "cell_type": "markdown",
      "metadata": {
        "id": "ekZGeQuDekvY"
      },
      "source": [
        "**NOTE: PAY CLOSE ATTENTION HERE TO WHAT IS BEING OUTPUTED AND IN WHAT DIMENSIONS. ADD YOUR OWN PRINT() STATEMENTS TO SEE WHAT IS TRULY GOING ON!!**"
      ]
    },
    {
      "cell_type": "code",
      "execution_count": null,
      "metadata": {
        "colab": {
          "base_uri": "https://localhost:8080/"
        },
        "id": "RrspxyftekvY",
        "outputId": "cfb5d6ae-4bae-4b80-d2b3-1fd48012f533"
      },
      "outputs": [
        {
          "output_type": "stream",
          "name": "stdout",
          "text": [
            "1/1 [==============================] - 0s 26ms/step\n",
            "1/1 [==============================] - 0s 22ms/step\n",
            "1/1 [==============================] - 0s 23ms/step\n",
            "1/1 [==============================] - 0s 26ms/step\n",
            "1/1 [==============================] - 0s 27ms/step\n",
            "1/1 [==============================] - 0s 23ms/step\n",
            "1/1 [==============================] - 0s 22ms/step\n",
            "1/1 [==============================] - 0s 25ms/step\n",
            "1/1 [==============================] - 0s 24ms/step\n",
            "1/1 [==============================] - 0s 27ms/step\n",
            "1/1 [==============================] - 0s 38ms/step\n",
            "1/1 [==============================] - 0s 34ms/step\n",
            "1/1 [==============================] - 0s 25ms/step\n",
            "1/1 [==============================] - 0s 24ms/step\n",
            "1/1 [==============================] - 0s 28ms/step\n",
            "1/1 [==============================] - 0s 24ms/step\n",
            "1/1 [==============================] - 0s 24ms/step\n",
            "1/1 [==============================] - 0s 24ms/step\n",
            "1/1 [==============================] - 0s 23ms/step\n",
            "1/1 [==============================] - 0s 25ms/step\n",
            "1/1 [==============================] - 0s 24ms/step\n",
            "1/1 [==============================] - 0s 30ms/step\n",
            "1/1 [==============================] - 0s 25ms/step\n",
            "1/1 [==============================] - 0s 25ms/step\n",
            "1/1 [==============================] - 0s 27ms/step\n",
            "1/1 [==============================] - 0s 24ms/step\n",
            "1/1 [==============================] - 0s 36ms/step\n"
          ]
        }
      ],
      "source": [
        "test_predictions = []\n",
        "\n",
        "first_eval_batch = scaled_train[-n_input:]\n",
        "current_batch = first_eval_batch.reshape((1, n_input, n_features))\n",
        "\n",
        "for i in range(len(test)):\n",
        "\n",
        "    # get prediction 1 time stamp ahead ([0] is for grabbing just the number instead of [array])\n",
        "    current_pred = model.predict(current_batch)[0]\n",
        "\n",
        "    # store prediction\n",
        "    test_predictions.append(current_pred)\n",
        "\n",
        "    # update batch to now include prediction and drop first value\n",
        "    current_batch = np.append(current_batch[:,1:,:],[[current_pred]],axis=1)"
      ]
    },
    {
      "cell_type": "code",
      "execution_count": null,
      "metadata": {
        "colab": {
          "base_uri": "https://localhost:8080/"
        },
        "id": "seU9c5JDekvY",
        "outputId": "6bfd9405-378c-4d88-b907-21dd5d809669"
      },
      "outputs": [
        {
          "output_type": "execute_result",
          "data": {
            "text/plain": [
              "[array([0.7051188], dtype=float32),\n",
              " array([0.83758897], dtype=float32),\n",
              " array([0.7803153], dtype=float32),\n",
              " array([0.9583216], dtype=float32),\n",
              " array([1.0413369], dtype=float32),\n",
              " array([0.7578301], dtype=float32),\n",
              " array([0.9419568], dtype=float32),\n",
              " array([0.7791908], dtype=float32),\n",
              " array([0.87130046], dtype=float32),\n",
              " array([0.9080152], dtype=float32),\n",
              " array([1.0018464], dtype=float32),\n",
              " array([0.5806647], dtype=float32),\n",
              " array([0.7716791], dtype=float32),\n",
              " array([0.8662476], dtype=float32),\n",
              " array([0.84172994], dtype=float32),\n",
              " array([1.0118206], dtype=float32),\n",
              " array([1.084492], dtype=float32),\n",
              " array([0.8032602], dtype=float32),\n",
              " array([1.0041555], dtype=float32),\n",
              " array([0.8037261], dtype=float32),\n",
              " array([0.9254017], dtype=float32),\n",
              " array([0.9442362], dtype=float32),\n",
              " array([1.0543672], dtype=float32),\n",
              " array([0.61681736], dtype=float32),\n",
              " array([0.8366295], dtype=float32),\n",
              " array([0.89438635], dtype=float32),\n",
              " array([0.90635914], dtype=float32)]"
            ]
          },
          "metadata": {},
          "execution_count": 46
        }
      ],
      "source": [
        "test_predictions"
      ]
    },
    {
      "cell_type": "code",
      "execution_count": null,
      "metadata": {
        "colab": {
          "base_uri": "https://localhost:8080/"
        },
        "id": "QcjfGL0JekvY",
        "outputId": "1d469a86-344b-4e2e-c5db-31d3f86c29c2"
      },
      "outputs": [
        {
          "output_type": "execute_result",
          "data": {
            "text/plain": [
              "array([[0.62450796],\n",
              "       [0.81619031],\n",
              "       [0.75081294],\n",
              "       [0.9396714 ],\n",
              "       [0.97458497],\n",
              "       [0.81182612],\n",
              "       [0.94489132],\n",
              "       [0.78726681],\n",
              "       [0.91528324],\n",
              "       [0.93428034],\n",
              "       [1.05057334],\n",
              "       [0.64906726],\n",
              "       [0.67987335],\n",
              "       [0.80788978],\n",
              "       [0.86145816],\n",
              "       [0.98767756],\n",
              "       [0.96234811],\n",
              "       [0.89448913],\n",
              "       [0.95618689],\n",
              "       [0.85238747],\n",
              "       [0.97518398],\n",
              "       [0.91921958],\n",
              "       [1.12664727],\n",
              "       [0.65274688],\n",
              "       [0.71187746],\n",
              "       [0.88815677],\n",
              "       [0.79984597]])"
            ]
          },
          "metadata": {},
          "execution_count": 47
        }
      ],
      "source": [
        "scaled_test"
      ]
    },
    {
      "cell_type": "markdown",
      "metadata": {
        "id": "v1SJbFNvekvY"
      },
      "source": [
        "## Inverse Transformations and Compare"
      ]
    },
    {
      "cell_type": "code",
      "execution_count": null,
      "metadata": {
        "id": "bpIQ1G_DekvY"
      },
      "outputs": [],
      "source": [
        "true_predictions = scaler.inverse_transform(test_predictions)"
      ]
    },
    {
      "cell_type": "code",
      "execution_count": null,
      "metadata": {
        "colab": {
          "base_uri": "https://localhost:8080/"
        },
        "id": "tyCZnrBIekvY",
        "outputId": "8fb28693-c34c-444b-c161-e6875bc07864"
      },
      "outputs": [
        {
          "output_type": "execute_result",
          "data": {
            "text/plain": [
              "array([[11271.01800895],\n",
              "       [12819.06465542],\n",
              "       [12149.76436162],\n",
              "       [14229.9458828 ],\n",
              "       [15200.0629437 ],\n",
              "       [11887.00235426],\n",
              "       [14038.70737636],\n",
              "       [12136.62344027],\n",
              "       [13213.0171628 ],\n",
              "       [13642.06552851],\n",
              "       [14738.57741237],\n",
              "       [ 9816.6476177 ],\n",
              "       [12048.84200203],\n",
              "       [13153.96938765],\n",
              "       [12867.45606697],\n",
              "       [14855.13500261],\n",
              "       [15704.37313986],\n",
              "       [12417.89878106],\n",
              "       [14765.56136727],\n",
              "       [12423.34293675],\n",
              "       [13845.24412155],\n",
              "       [14065.34445441],\n",
              "       [15352.33491969],\n",
              "       [10239.12761235],\n",
              "       [12807.85245299],\n",
              "       [13482.79889905],\n",
              "       [13622.71286452]])"
            ]
          },
          "metadata": {},
          "execution_count": 49
        }
      ],
      "source": [
        "true_predictions"
      ]
    },
    {
      "cell_type": "code",
      "execution_count": null,
      "metadata": {
        "colab": {
          "base_uri": "https://localhost:8080/",
          "height": 927
        },
        "id": "JBwsyviYekvY",
        "outputId": "a08f9f51-df44-4f7b-9f06-de3318f07efd"
      },
      "outputs": [
        {
          "output_type": "execute_result",
          "data": {
            "text/plain": [
              "            Sales\n",
              "DATE             \n",
              "2018-02-01  10329\n",
              "2018-03-01  12569\n",
              "2018-04-01  11805\n",
              "2018-05-01  14012\n",
              "2018-06-01  14420\n",
              "2018-07-01  12518\n",
              "2018-08-01  14073\n",
              "2018-09-01  12231\n",
              "2018-10-01  13727\n",
              "2018-11-01  13949\n",
              "2018-12-01  15308\n",
              "2019-01-01  10616\n",
              "2019-02-01  10976\n",
              "2019-03-01  12472\n",
              "2019-04-01  13098\n",
              "2019-05-01  14573\n",
              "2019-06-01  14277\n",
              "2019-07-01  13484\n",
              "2019-08-01  14205\n",
              "2019-09-01  12992\n",
              "2019-10-01  14427\n",
              "2019-11-01  13773\n",
              "2019-12-01  16197\n",
              "2020-01-01  10659\n",
              "2020-02-01  11350\n",
              "2020-03-01  13410\n",
              "2020-04-01  12378"
            ],
            "text/html": [
              "\n",
              "  <div id=\"df-57b25e72-5753-42b7-b63d-a09687133195\">\n",
              "    <div class=\"colab-df-container\">\n",
              "      <div>\n",
              "<style scoped>\n",
              "    .dataframe tbody tr th:only-of-type {\n",
              "        vertical-align: middle;\n",
              "    }\n",
              "\n",
              "    .dataframe tbody tr th {\n",
              "        vertical-align: top;\n",
              "    }\n",
              "\n",
              "    .dataframe thead th {\n",
              "        text-align: right;\n",
              "    }\n",
              "</style>\n",
              "<table border=\"1\" class=\"dataframe\">\n",
              "  <thead>\n",
              "    <tr style=\"text-align: right;\">\n",
              "      <th></th>\n",
              "      <th>Sales</th>\n",
              "    </tr>\n",
              "    <tr>\n",
              "      <th>DATE</th>\n",
              "      <th></th>\n",
              "    </tr>\n",
              "  </thead>\n",
              "  <tbody>\n",
              "    <tr>\n",
              "      <th>2018-02-01</th>\n",
              "      <td>10329</td>\n",
              "    </tr>\n",
              "    <tr>\n",
              "      <th>2018-03-01</th>\n",
              "      <td>12569</td>\n",
              "    </tr>\n",
              "    <tr>\n",
              "      <th>2018-04-01</th>\n",
              "      <td>11805</td>\n",
              "    </tr>\n",
              "    <tr>\n",
              "      <th>2018-05-01</th>\n",
              "      <td>14012</td>\n",
              "    </tr>\n",
              "    <tr>\n",
              "      <th>2018-06-01</th>\n",
              "      <td>14420</td>\n",
              "    </tr>\n",
              "    <tr>\n",
              "      <th>2018-07-01</th>\n",
              "      <td>12518</td>\n",
              "    </tr>\n",
              "    <tr>\n",
              "      <th>2018-08-01</th>\n",
              "      <td>14073</td>\n",
              "    </tr>\n",
              "    <tr>\n",
              "      <th>2018-09-01</th>\n",
              "      <td>12231</td>\n",
              "    </tr>\n",
              "    <tr>\n",
              "      <th>2018-10-01</th>\n",
              "      <td>13727</td>\n",
              "    </tr>\n",
              "    <tr>\n",
              "      <th>2018-11-01</th>\n",
              "      <td>13949</td>\n",
              "    </tr>\n",
              "    <tr>\n",
              "      <th>2018-12-01</th>\n",
              "      <td>15308</td>\n",
              "    </tr>\n",
              "    <tr>\n",
              "      <th>2019-01-01</th>\n",
              "      <td>10616</td>\n",
              "    </tr>\n",
              "    <tr>\n",
              "      <th>2019-02-01</th>\n",
              "      <td>10976</td>\n",
              "    </tr>\n",
              "    <tr>\n",
              "      <th>2019-03-01</th>\n",
              "      <td>12472</td>\n",
              "    </tr>\n",
              "    <tr>\n",
              "      <th>2019-04-01</th>\n",
              "      <td>13098</td>\n",
              "    </tr>\n",
              "    <tr>\n",
              "      <th>2019-05-01</th>\n",
              "      <td>14573</td>\n",
              "    </tr>\n",
              "    <tr>\n",
              "      <th>2019-06-01</th>\n",
              "      <td>14277</td>\n",
              "    </tr>\n",
              "    <tr>\n",
              "      <th>2019-07-01</th>\n",
              "      <td>13484</td>\n",
              "    </tr>\n",
              "    <tr>\n",
              "      <th>2019-08-01</th>\n",
              "      <td>14205</td>\n",
              "    </tr>\n",
              "    <tr>\n",
              "      <th>2019-09-01</th>\n",
              "      <td>12992</td>\n",
              "    </tr>\n",
              "    <tr>\n",
              "      <th>2019-10-01</th>\n",
              "      <td>14427</td>\n",
              "    </tr>\n",
              "    <tr>\n",
              "      <th>2019-11-01</th>\n",
              "      <td>13773</td>\n",
              "    </tr>\n",
              "    <tr>\n",
              "      <th>2019-12-01</th>\n",
              "      <td>16197</td>\n",
              "    </tr>\n",
              "    <tr>\n",
              "      <th>2020-01-01</th>\n",
              "      <td>10659</td>\n",
              "    </tr>\n",
              "    <tr>\n",
              "      <th>2020-02-01</th>\n",
              "      <td>11350</td>\n",
              "    </tr>\n",
              "    <tr>\n",
              "      <th>2020-03-01</th>\n",
              "      <td>13410</td>\n",
              "    </tr>\n",
              "    <tr>\n",
              "      <th>2020-04-01</th>\n",
              "      <td>12378</td>\n",
              "    </tr>\n",
              "  </tbody>\n",
              "</table>\n",
              "</div>\n",
              "      <button class=\"colab-df-convert\" onclick=\"convertToInteractive('df-57b25e72-5753-42b7-b63d-a09687133195')\"\n",
              "              title=\"Convert this dataframe to an interactive table.\"\n",
              "              style=\"display:none;\">\n",
              "        \n",
              "  <svg xmlns=\"http://www.w3.org/2000/svg\" height=\"24px\"viewBox=\"0 0 24 24\"\n",
              "       width=\"24px\">\n",
              "    <path d=\"M0 0h24v24H0V0z\" fill=\"none\"/>\n",
              "    <path d=\"M18.56 5.44l.94 2.06.94-2.06 2.06-.94-2.06-.94-.94-2.06-.94 2.06-2.06.94zm-11 1L8.5 8.5l.94-2.06 2.06-.94-2.06-.94L8.5 2.5l-.94 2.06-2.06.94zm10 10l.94 2.06.94-2.06 2.06-.94-2.06-.94-.94-2.06-.94 2.06-2.06.94z\"/><path d=\"M17.41 7.96l-1.37-1.37c-.4-.4-.92-.59-1.43-.59-.52 0-1.04.2-1.43.59L10.3 9.45l-7.72 7.72c-.78.78-.78 2.05 0 2.83L4 21.41c.39.39.9.59 1.41.59.51 0 1.02-.2 1.41-.59l7.78-7.78 2.81-2.81c.8-.78.8-2.07 0-2.86zM5.41 20L4 18.59l7.72-7.72 1.47 1.35L5.41 20z\"/>\n",
              "  </svg>\n",
              "      </button>\n",
              "      \n",
              "  <style>\n",
              "    .colab-df-container {\n",
              "      display:flex;\n",
              "      flex-wrap:wrap;\n",
              "      gap: 12px;\n",
              "    }\n",
              "\n",
              "    .colab-df-convert {\n",
              "      background-color: #E8F0FE;\n",
              "      border: none;\n",
              "      border-radius: 50%;\n",
              "      cursor: pointer;\n",
              "      display: none;\n",
              "      fill: #1967D2;\n",
              "      height: 32px;\n",
              "      padding: 0 0 0 0;\n",
              "      width: 32px;\n",
              "    }\n",
              "\n",
              "    .colab-df-convert:hover {\n",
              "      background-color: #E2EBFA;\n",
              "      box-shadow: 0px 1px 2px rgba(60, 64, 67, 0.3), 0px 1px 3px 1px rgba(60, 64, 67, 0.15);\n",
              "      fill: #174EA6;\n",
              "    }\n",
              "\n",
              "    [theme=dark] .colab-df-convert {\n",
              "      background-color: #3B4455;\n",
              "      fill: #D2E3FC;\n",
              "    }\n",
              "\n",
              "    [theme=dark] .colab-df-convert:hover {\n",
              "      background-color: #434B5C;\n",
              "      box-shadow: 0px 1px 3px 1px rgba(0, 0, 0, 0.15);\n",
              "      filter: drop-shadow(0px 1px 2px rgba(0, 0, 0, 0.3));\n",
              "      fill: #FFFFFF;\n",
              "    }\n",
              "  </style>\n",
              "\n",
              "      <script>\n",
              "        const buttonEl =\n",
              "          document.querySelector('#df-57b25e72-5753-42b7-b63d-a09687133195 button.colab-df-convert');\n",
              "        buttonEl.style.display =\n",
              "          google.colab.kernel.accessAllowed ? 'block' : 'none';\n",
              "\n",
              "        async function convertToInteractive(key) {\n",
              "          const element = document.querySelector('#df-57b25e72-5753-42b7-b63d-a09687133195');\n",
              "          const dataTable =\n",
              "            await google.colab.kernel.invokeFunction('convertToInteractive',\n",
              "                                                     [key], {});\n",
              "          if (!dataTable) return;\n",
              "\n",
              "          const docLinkHtml = 'Like what you see? Visit the ' +\n",
              "            '<a target=\"_blank\" href=https://colab.research.google.com/notebooks/data_table.ipynb>data table notebook</a>'\n",
              "            + ' to learn more about interactive tables.';\n",
              "          element.innerHTML = '';\n",
              "          dataTable['output_type'] = 'display_data';\n",
              "          await google.colab.output.renderOutput(dataTable, element);\n",
              "          const docLink = document.createElement('div');\n",
              "          docLink.innerHTML = docLinkHtml;\n",
              "          element.appendChild(docLink);\n",
              "        }\n",
              "      </script>\n",
              "    </div>\n",
              "  </div>\n",
              "  "
            ]
          },
          "metadata": {},
          "execution_count": 50
        }
      ],
      "source": [
        "test"
      ]
    },
    {
      "cell_type": "code",
      "execution_count": null,
      "metadata": {
        "colab": {
          "base_uri": "https://localhost:8080/"
        },
        "id": "jQ1wty_dekvY",
        "outputId": "15bd58b1-ee09-4695-e79a-915d6fa634b3"
      },
      "outputs": [
        {
          "output_type": "stream",
          "name": "stderr",
          "text": [
            "<ipython-input-51-53e06c23926f>:2: SettingWithCopyWarning: \n",
            "A value is trying to be set on a copy of a slice from a DataFrame.\n",
            "Try using .loc[row_indexer,col_indexer] = value instead\n",
            "\n",
            "See the caveats in the documentation: https://pandas.pydata.org/pandas-docs/stable/user_guide/indexing.html#returning-a-view-versus-a-copy\n",
            "  test['Predictions'] = true_predictions\n"
          ]
        }
      ],
      "source": [
        "# IGNORE WARNINGS\n",
        "test['Predictions'] = true_predictions"
      ]
    },
    {
      "cell_type": "code",
      "execution_count": null,
      "metadata": {
        "colab": {
          "base_uri": "https://localhost:8080/",
          "height": 927
        },
        "id": "k3EAWnJjekvY",
        "outputId": "b4ef2000-2ae6-478c-e579-4fdf9c39f115"
      },
      "outputs": [
        {
          "output_type": "execute_result",
          "data": {
            "text/plain": [
              "            Sales   Predictions\n",
              "DATE                           \n",
              "2018-02-01  10329  11271.018009\n",
              "2018-03-01  12569  12819.064655\n",
              "2018-04-01  11805  12149.764362\n",
              "2018-05-01  14012  14229.945883\n",
              "2018-06-01  14420  15200.062944\n",
              "2018-07-01  12518  11887.002354\n",
              "2018-08-01  14073  14038.707376\n",
              "2018-09-01  12231  12136.623440\n",
              "2018-10-01  13727  13213.017163\n",
              "2018-11-01  13949  13642.065529\n",
              "2018-12-01  15308  14738.577412\n",
              "2019-01-01  10616   9816.647618\n",
              "2019-02-01  10976  12048.842002\n",
              "2019-03-01  12472  13153.969388\n",
              "2019-04-01  13098  12867.456067\n",
              "2019-05-01  14573  14855.135003\n",
              "2019-06-01  14277  15704.373140\n",
              "2019-07-01  13484  12417.898781\n",
              "2019-08-01  14205  14765.561367\n",
              "2019-09-01  12992  12423.342937\n",
              "2019-10-01  14427  13845.244122\n",
              "2019-11-01  13773  14065.344454\n",
              "2019-12-01  16197  15352.334920\n",
              "2020-01-01  10659  10239.127612\n",
              "2020-02-01  11350  12807.852453\n",
              "2020-03-01  13410  13482.798899\n",
              "2020-04-01  12378  13622.712865"
            ],
            "text/html": [
              "\n",
              "  <div id=\"df-a11c8de9-1805-4790-a7de-7b45ead13788\">\n",
              "    <div class=\"colab-df-container\">\n",
              "      <div>\n",
              "<style scoped>\n",
              "    .dataframe tbody tr th:only-of-type {\n",
              "        vertical-align: middle;\n",
              "    }\n",
              "\n",
              "    .dataframe tbody tr th {\n",
              "        vertical-align: top;\n",
              "    }\n",
              "\n",
              "    .dataframe thead th {\n",
              "        text-align: right;\n",
              "    }\n",
              "</style>\n",
              "<table border=\"1\" class=\"dataframe\">\n",
              "  <thead>\n",
              "    <tr style=\"text-align: right;\">\n",
              "      <th></th>\n",
              "      <th>Sales</th>\n",
              "      <th>Predictions</th>\n",
              "    </tr>\n",
              "    <tr>\n",
              "      <th>DATE</th>\n",
              "      <th></th>\n",
              "      <th></th>\n",
              "    </tr>\n",
              "  </thead>\n",
              "  <tbody>\n",
              "    <tr>\n",
              "      <th>2018-02-01</th>\n",
              "      <td>10329</td>\n",
              "      <td>11271.018009</td>\n",
              "    </tr>\n",
              "    <tr>\n",
              "      <th>2018-03-01</th>\n",
              "      <td>12569</td>\n",
              "      <td>12819.064655</td>\n",
              "    </tr>\n",
              "    <tr>\n",
              "      <th>2018-04-01</th>\n",
              "      <td>11805</td>\n",
              "      <td>12149.764362</td>\n",
              "    </tr>\n",
              "    <tr>\n",
              "      <th>2018-05-01</th>\n",
              "      <td>14012</td>\n",
              "      <td>14229.945883</td>\n",
              "    </tr>\n",
              "    <tr>\n",
              "      <th>2018-06-01</th>\n",
              "      <td>14420</td>\n",
              "      <td>15200.062944</td>\n",
              "    </tr>\n",
              "    <tr>\n",
              "      <th>2018-07-01</th>\n",
              "      <td>12518</td>\n",
              "      <td>11887.002354</td>\n",
              "    </tr>\n",
              "    <tr>\n",
              "      <th>2018-08-01</th>\n",
              "      <td>14073</td>\n",
              "      <td>14038.707376</td>\n",
              "    </tr>\n",
              "    <tr>\n",
              "      <th>2018-09-01</th>\n",
              "      <td>12231</td>\n",
              "      <td>12136.623440</td>\n",
              "    </tr>\n",
              "    <tr>\n",
              "      <th>2018-10-01</th>\n",
              "      <td>13727</td>\n",
              "      <td>13213.017163</td>\n",
              "    </tr>\n",
              "    <tr>\n",
              "      <th>2018-11-01</th>\n",
              "      <td>13949</td>\n",
              "      <td>13642.065529</td>\n",
              "    </tr>\n",
              "    <tr>\n",
              "      <th>2018-12-01</th>\n",
              "      <td>15308</td>\n",
              "      <td>14738.577412</td>\n",
              "    </tr>\n",
              "    <tr>\n",
              "      <th>2019-01-01</th>\n",
              "      <td>10616</td>\n",
              "      <td>9816.647618</td>\n",
              "    </tr>\n",
              "    <tr>\n",
              "      <th>2019-02-01</th>\n",
              "      <td>10976</td>\n",
              "      <td>12048.842002</td>\n",
              "    </tr>\n",
              "    <tr>\n",
              "      <th>2019-03-01</th>\n",
              "      <td>12472</td>\n",
              "      <td>13153.969388</td>\n",
              "    </tr>\n",
              "    <tr>\n",
              "      <th>2019-04-01</th>\n",
              "      <td>13098</td>\n",
              "      <td>12867.456067</td>\n",
              "    </tr>\n",
              "    <tr>\n",
              "      <th>2019-05-01</th>\n",
              "      <td>14573</td>\n",
              "      <td>14855.135003</td>\n",
              "    </tr>\n",
              "    <tr>\n",
              "      <th>2019-06-01</th>\n",
              "      <td>14277</td>\n",
              "      <td>15704.373140</td>\n",
              "    </tr>\n",
              "    <tr>\n",
              "      <th>2019-07-01</th>\n",
              "      <td>13484</td>\n",
              "      <td>12417.898781</td>\n",
              "    </tr>\n",
              "    <tr>\n",
              "      <th>2019-08-01</th>\n",
              "      <td>14205</td>\n",
              "      <td>14765.561367</td>\n",
              "    </tr>\n",
              "    <tr>\n",
              "      <th>2019-09-01</th>\n",
              "      <td>12992</td>\n",
              "      <td>12423.342937</td>\n",
              "    </tr>\n",
              "    <tr>\n",
              "      <th>2019-10-01</th>\n",
              "      <td>14427</td>\n",
              "      <td>13845.244122</td>\n",
              "    </tr>\n",
              "    <tr>\n",
              "      <th>2019-11-01</th>\n",
              "      <td>13773</td>\n",
              "      <td>14065.344454</td>\n",
              "    </tr>\n",
              "    <tr>\n",
              "      <th>2019-12-01</th>\n",
              "      <td>16197</td>\n",
              "      <td>15352.334920</td>\n",
              "    </tr>\n",
              "    <tr>\n",
              "      <th>2020-01-01</th>\n",
              "      <td>10659</td>\n",
              "      <td>10239.127612</td>\n",
              "    </tr>\n",
              "    <tr>\n",
              "      <th>2020-02-01</th>\n",
              "      <td>11350</td>\n",
              "      <td>12807.852453</td>\n",
              "    </tr>\n",
              "    <tr>\n",
              "      <th>2020-03-01</th>\n",
              "      <td>13410</td>\n",
              "      <td>13482.798899</td>\n",
              "    </tr>\n",
              "    <tr>\n",
              "      <th>2020-04-01</th>\n",
              "      <td>12378</td>\n",
              "      <td>13622.712865</td>\n",
              "    </tr>\n",
              "  </tbody>\n",
              "</table>\n",
              "</div>\n",
              "      <button class=\"colab-df-convert\" onclick=\"convertToInteractive('df-a11c8de9-1805-4790-a7de-7b45ead13788')\"\n",
              "              title=\"Convert this dataframe to an interactive table.\"\n",
              "              style=\"display:none;\">\n",
              "        \n",
              "  <svg xmlns=\"http://www.w3.org/2000/svg\" height=\"24px\"viewBox=\"0 0 24 24\"\n",
              "       width=\"24px\">\n",
              "    <path d=\"M0 0h24v24H0V0z\" fill=\"none\"/>\n",
              "    <path d=\"M18.56 5.44l.94 2.06.94-2.06 2.06-.94-2.06-.94-.94-2.06-.94 2.06-2.06.94zm-11 1L8.5 8.5l.94-2.06 2.06-.94-2.06-.94L8.5 2.5l-.94 2.06-2.06.94zm10 10l.94 2.06.94-2.06 2.06-.94-2.06-.94-.94-2.06-.94 2.06-2.06.94z\"/><path d=\"M17.41 7.96l-1.37-1.37c-.4-.4-.92-.59-1.43-.59-.52 0-1.04.2-1.43.59L10.3 9.45l-7.72 7.72c-.78.78-.78 2.05 0 2.83L4 21.41c.39.39.9.59 1.41.59.51 0 1.02-.2 1.41-.59l7.78-7.78 2.81-2.81c.8-.78.8-2.07 0-2.86zM5.41 20L4 18.59l7.72-7.72 1.47 1.35L5.41 20z\"/>\n",
              "  </svg>\n",
              "      </button>\n",
              "      \n",
              "  <style>\n",
              "    .colab-df-container {\n",
              "      display:flex;\n",
              "      flex-wrap:wrap;\n",
              "      gap: 12px;\n",
              "    }\n",
              "\n",
              "    .colab-df-convert {\n",
              "      background-color: #E8F0FE;\n",
              "      border: none;\n",
              "      border-radius: 50%;\n",
              "      cursor: pointer;\n",
              "      display: none;\n",
              "      fill: #1967D2;\n",
              "      height: 32px;\n",
              "      padding: 0 0 0 0;\n",
              "      width: 32px;\n",
              "    }\n",
              "\n",
              "    .colab-df-convert:hover {\n",
              "      background-color: #E2EBFA;\n",
              "      box-shadow: 0px 1px 2px rgba(60, 64, 67, 0.3), 0px 1px 3px 1px rgba(60, 64, 67, 0.15);\n",
              "      fill: #174EA6;\n",
              "    }\n",
              "\n",
              "    [theme=dark] .colab-df-convert {\n",
              "      background-color: #3B4455;\n",
              "      fill: #D2E3FC;\n",
              "    }\n",
              "\n",
              "    [theme=dark] .colab-df-convert:hover {\n",
              "      background-color: #434B5C;\n",
              "      box-shadow: 0px 1px 3px 1px rgba(0, 0, 0, 0.15);\n",
              "      filter: drop-shadow(0px 1px 2px rgba(0, 0, 0, 0.3));\n",
              "      fill: #FFFFFF;\n",
              "    }\n",
              "  </style>\n",
              "\n",
              "      <script>\n",
              "        const buttonEl =\n",
              "          document.querySelector('#df-a11c8de9-1805-4790-a7de-7b45ead13788 button.colab-df-convert');\n",
              "        buttonEl.style.display =\n",
              "          google.colab.kernel.accessAllowed ? 'block' : 'none';\n",
              "\n",
              "        async function convertToInteractive(key) {\n",
              "          const element = document.querySelector('#df-a11c8de9-1805-4790-a7de-7b45ead13788');\n",
              "          const dataTable =\n",
              "            await google.colab.kernel.invokeFunction('convertToInteractive',\n",
              "                                                     [key], {});\n",
              "          if (!dataTable) return;\n",
              "\n",
              "          const docLinkHtml = 'Like what you see? Visit the ' +\n",
              "            '<a target=\"_blank\" href=https://colab.research.google.com/notebooks/data_table.ipynb>data table notebook</a>'\n",
              "            + ' to learn more about interactive tables.';\n",
              "          element.innerHTML = '';\n",
              "          dataTable['output_type'] = 'display_data';\n",
              "          await google.colab.output.renderOutput(dataTable, element);\n",
              "          const docLink = document.createElement('div');\n",
              "          docLink.innerHTML = docLinkHtml;\n",
              "          element.appendChild(docLink);\n",
              "        }\n",
              "      </script>\n",
              "    </div>\n",
              "  </div>\n",
              "  "
            ]
          },
          "metadata": {},
          "execution_count": 52
        }
      ],
      "source": [
        "test"
      ]
    },
    {
      "cell_type": "code",
      "execution_count": null,
      "metadata": {
        "colab": {
          "base_uri": "https://localhost:8080/",
          "height": 730
        },
        "id": "COh3XNJoekvY",
        "outputId": "6dc56e16-a3ad-45c6-8b43-5bdc681d820a"
      },
      "outputs": [
        {
          "output_type": "execute_result",
          "data": {
            "text/plain": [
              "<Axes: xlabel='DATE'>"
            ]
          },
          "metadata": {},
          "execution_count": 53
        },
        {
          "output_type": "display_data",
          "data": {
            "text/plain": [
              "<Figure size 1200x800 with 1 Axes>"
            ],
            "image/png": "[encoded data removed]"
          },
          "metadata": {}
        }
      ],
      "source": [
        "test.plot(figsize=(12,8))"
      ]
    },
    {
      "cell_type": "markdown",
      "metadata": {
        "id": "3dz4jR3tekvZ"
      },
      "source": [
        "# Saving and Loading Models"
      ]
    },
    {
      "cell_type": "code",
      "execution_count": null,
      "metadata": {
        "id": "jR75RqWDekvZ"
      },
      "outputs": [],
      "source": [
        "model.save('my_rnn_model.h5')"
      ]
    },
    {
      "cell_type": "markdown",
      "metadata": {
        "id": "Ajtq9nZiekvZ"
      },
      "source": [
        "## load a model"
      ]
    },
    {
      "cell_type": "code",
      "execution_count": null,
      "metadata": {
        "id": "8T4A3KwqekvZ"
      },
      "outputs": [],
      "source": [
        "from keras.models import load_model\n",
        "new_model = load_model('my_rnn_model.h5')"
      ]
    },
    {
      "cell_type": "code",
      "execution_count": null,
      "metadata": {
        "colab": {
          "base_uri": "https://localhost:8080/"
        },
        "id": "09Mqkwh0ekvZ",
        "outputId": "e266dd2e-8a9f-441e-ca33-e5944f9288ff"
      },
      "outputs": [
        {
          "output_type": "stream",
          "name": "stdout",
          "text": [
            "Model: \"sequential\"\n",
            "_________________________________________________________________\n",
            " Layer (type)                Output Shape              Param #   \n",
            "=================================================================\n",
            " lstm (LSTM)                 (None, 100)               40800     \n",
            "                                                                 \n",
            " dense (Dense)               (None, 1)                 101       \n",
            "                                                                 \n",
            "=================================================================\n",
            "Total params: 40,901\n",
            "Trainable params: 40,901\n",
            "Non-trainable params: 0\n",
            "_________________________________________________________________\n"
          ]
        }
      ],
      "source": [
        "new_model.summary()"
      ]
    }
  ],
  "metadata": {
    "kernelspec": {
      "display_name": "Python 3",
      "language": "python",
      "name": "python3"
    },
    "language_info": {
      "codemirror_mode": {
        "name": "ipython",
        "version": 3
      },
      "file_extension": ".py",
      "mimetype": "text/x-python",
      "name": "python",
      "nbconvert_exporter": "python",
      "pygments_lexer": "ipython3",
      "version": "3.6.10"
    },
    "colab": {
      "provenance": []
    }
  },
  "nbformat": 4,
  "nbformat_minor": 0
}