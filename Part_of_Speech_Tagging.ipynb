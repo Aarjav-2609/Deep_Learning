{
  "nbformat": 4,
  "nbformat_minor": 0,
  "metadata": {
    "colab": {
      "provenance": []
    },
    "kernelspec": {
      "name": "python3",
      "display_name": "Python 3"
    },
    "language_info": {
      "name": "python"
    }
  },
  "cells": [
    {
      "cell_type": "code",
      "execution_count": null,
      "metadata": {
        "id": "Ui1RdrG5UwB7"
      },
      "outputs": [],
      "source": [
        "import nltk\n",
        "from nltk.tokenize import word_tokenize, sent_tokenize\n",
        "from nltk.corpus import stopwords, state_union, wordnet\n",
        "from nltk.stem import WordNetLemmatizer\n",
        "from nltk.tag import pos_tag, map_tag\n",
        "from nltk.chunk import ne_chunk\n",
        "import matplotlib.pyplot as plt"
      ]
    },
    {
      "cell_type": "code",
      "source": [
        "nltk.download('punkt')\n",
        "nltk.download('averaged_perceptron_tagger')\n",
        "nltk.download('maxent_ne_chunker')\n",
        "nltk.download('words')\n",
        "nltk.download('stopwords')\n"
      ],
      "metadata": {
        "colab": {
          "base_uri": "https://localhost:8080/"
        },
        "id": "umq4l_zGUx9j",
        "outputId": "5266ea49-6603-4fd4-c386-b9b5c2409527"
      },
      "execution_count": null,
      "outputs": [
        {
          "output_type": "stream",
          "name": "stderr",
          "text": [
            "[nltk_data] Downloading package punkt to /root/nltk_data...\n",
            "[nltk_data]   Unzipping tokenizers/punkt.zip.\n",
            "[nltk_data] Downloading package averaged_perceptron_tagger to\n",
            "[nltk_data]     /root/nltk_data...\n",
            "[nltk_data]   Unzipping taggers/averaged_perceptron_tagger.zip.\n",
            "[nltk_data] Downloading package maxent_ne_chunker to\n",
            "[nltk_data]     /root/nltk_data...\n",
            "[nltk_data]   Unzipping chunkers/maxent_ne_chunker.zip.\n",
            "[nltk_data] Downloading package words to /root/nltk_data...\n",
            "[nltk_data]   Unzipping corpora/words.zip.\n",
            "[nltk_data] Downloading package stopwords to /root/nltk_data...\n",
            "[nltk_data]   Unzipping corpora/stopwords.zip.\n"
          ]
        },
        {
          "output_type": "execute_result",
          "data": {
            "text/plain": [
              "True"
            ]
          },
          "metadata": {},
          "execution_count": 2
        }
      ]
    },
    {
      "cell_type": "code",
      "source": [
        "nltk.download('wordnet')"
      ],
      "metadata": {
        "colab": {
          "base_uri": "https://localhost:8080/"
        },
        "id": "2fAu9DjyV2Qy",
        "outputId": "84ec93f4-2780-45ce-96d3-c944bbeee485"
      },
      "execution_count": null,
      "outputs": [
        {
          "output_type": "stream",
          "name": "stderr",
          "text": [
            "[nltk_data] Downloading package wordnet to /root/nltk_data...\n"
          ]
        },
        {
          "output_type": "execute_result",
          "data": {
            "text/plain": [
              "True"
            ]
          },
          "metadata": {},
          "execution_count": 3
        }
      ]
    },
    {
      "cell_type": "code",
      "source": [
        "# Example text\n",
        "text = \"\"\"Barack Obama was born in Hawaii. He was the 44th President of the United States.\n",
        "           He served two terms in office from 2009 to 2017.\"\"\"\n"
      ],
      "metadata": {
        "id": "n1dgBesOU3uN"
      },
      "execution_count": null,
      "outputs": []
    },
    {
      "cell_type": "code",
      "source": [
        "# Sentence segmentation\n",
        "sentences = sent_tokenize(text)"
      ],
      "metadata": {
        "id": "7xYPyOW7U78p"
      },
      "execution_count": null,
      "outputs": []
    },
    {
      "cell_type": "code",
      "source": [
        "# POS tagging\n",
        "tokens = [word_tokenize(sentence) for sentence in sentences]\n",
        "pos_tags = [pos_tag(token) for token in tokens]"
      ],
      "metadata": {
        "id": "cbfIHKTQVAMv"
      },
      "execution_count": null,
      "outputs": []
    },
    {
      "cell_type": "code",
      "source": [
        "# Visualization of POS\n",
        "pos_list = [tag[1] for sentence in pos_tags for tag in sentence]\n",
        "pos_counts = nltk.FreqDist(pos_list)\n",
        "pos_counts.plot()"
      ],
      "metadata": {
        "colab": {
          "base_uri": "https://localhost:8080/",
          "height": 490
        },
        "id": "5dRG-HkEVC8t",
        "outputId": "f172af5a-a29d-44c5-9270-71b7d64210e2"
      },
      "execution_count": null,
      "outputs": [
        {
          "output_type": "display_data",
          "data": {
            "text/plain": [
              "<Figure size 640x480 with 1 Axes>"
            ],
            "image/png": "[encoded data removed]"
          },
          "metadata": {}
        },
        {
          "output_type": "execute_result",
          "data": {
            "text/plain": [
              "<Axes: xlabel='Samples', ylabel='Counts'>"
            ]
          },
          "metadata": {},
          "execution_count": 7
        }
      ]
    },
    {
      "cell_type": "code",
      "source": [
        "# Named Entity Recognition\n",
        "ner_tags = [ne_chunk(pos_tag(token)) for token in tokens]"
      ],
      "metadata": {
        "id": "4pc7K9_EVE2p"
      },
      "execution_count": null,
      "outputs": []
    },
    {
      "cell_type": "code",
      "source": [
        "# Lemmatization\n",
        "lemmatizer = WordNetLemmatizer()\n",
        "lemmatized_tokens = [[lemmatizer.lemmatize(token) for token in sentence] for sentence in tokens]"
      ],
      "metadata": {
        "id": "Hf8ZipTsVUZR"
      },
      "execution_count": null,
      "outputs": []
    },
    {
      "cell_type": "code",
      "source": [
        "# Stopwords removal\n",
        "stop_words = set(stopwords.words('english'))\n",
        "filtered_tokens = [[token for token in sentence if not token.lower() in stop_words] for sentence in lemmatized_tokens]\n"
      ],
      "metadata": {
        "id": "yQP9pfT-VG3b"
      },
      "execution_count": null,
      "outputs": []
    },
    {
      "cell_type": "code",
      "source": [
        "# Output\n",
        "print(\"Sentences: \", sentences)\n",
        "print(\"\\nPOS tags: \", pos_tags)\n",
        "print(\"\\nNamed Entity Recognition: \", ner_tags)\n",
        "print(\"\\nFiltered Tokens: \", filtered_tokens)"
      ],
      "metadata": {
        "colab": {
          "base_uri": "https://localhost:8080/"
        },
        "id": "E0QIWyISVJDv",
        "outputId": "8cda7e1d-c600-4ad7-eb5d-967cc957973c"
      },
      "execution_count": null,
      "outputs": [
        {
          "output_type": "stream",
          "name": "stdout",
          "text": [
            "Sentences:  ['Barack Obama was born in Hawaii.', 'He was the 44th President of the United States.', 'He served two terms in office from 2009 to 2017.']\n",
            "\n",
            "POS tags:  [[('Barack', 'NNP'), ('Obama', 'NNP'), ('was', 'VBD'), ('born', 'VBN'), ('in', 'IN'), ('Hawaii', 'NNP'), ('.', '.')], [('He', 'PRP'), ('was', 'VBD'), ('the', 'DT'), ('44th', 'JJ'), ('President', 'NNP'), ('of', 'IN'), ('the', 'DT'), ('United', 'NNP'), ('States', 'NNPS'), ('.', '.')], [('He', 'PRP'), ('served', 'VBD'), ('two', 'CD'), ('terms', 'NNS'), ('in', 'IN'), ('office', 'NN'), ('from', 'IN'), ('2009', 'CD'), ('to', 'TO'), ('2017', 'CD'), ('.', '.')]]\n",
            "\n",
            "Named Entity Recognition:  [Tree('S', [Tree('PERSON', [('Barack', 'NNP')]), Tree('PERSON', [('Obama', 'NNP')]), ('was', 'VBD'), ('born', 'VBN'), ('in', 'IN'), Tree('GPE', [('Hawaii', 'NNP')]), ('.', '.')]), Tree('S', [('He', 'PRP'), ('was', 'VBD'), ('the', 'DT'), ('44th', 'JJ'), ('President', 'NNP'), ('of', 'IN'), ('the', 'DT'), Tree('GPE', [('United', 'NNP'), ('States', 'NNPS')]), ('.', '.')]), Tree('S', [('He', 'PRP'), ('served', 'VBD'), ('two', 'CD'), ('terms', 'NNS'), ('in', 'IN'), ('office', 'NN'), ('from', 'IN'), ('2009', 'CD'), ('to', 'TO'), ('2017', 'CD'), ('.', '.')])]\n",
            "\n",
            "Filtered Tokens:  [['Barack', 'Obama', 'wa', 'born', 'Hawaii', '.'], ['wa', '44th', 'President', 'United', 'States', '.'], ['served', 'two', 'term', 'office', '2009', '2017', '.']]\n"
          ]
        }
      ]
    },
    {
      "cell_type": "code",
      "source": [],
      "metadata": {
        "id": "3lPNwqlPVefE"
      },
      "execution_count": null,
      "outputs": []
    }
  ]
}